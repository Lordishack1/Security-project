{
 "cells": [
  {
   "cell_type": "code",
   "execution_count": 13,
   "id": "762c9dae",
   "metadata": {},
   "outputs": [
    {
     "data": {
      "text/plain": [
       "Unnamed: 0  IP              Reliability  Risk  Type           Country  Locale         Coords                      \n",
       "0           222.76.212.189  4            2     Scanning Host  cn       Xiamen         24.4797992706,118.08190155      0.00014\n",
       "6771        190.6.141.3     4            4     Scanning Host  do       Santo Domingo  18.4666996002,-69.9000015259    0.00014\n",
       "6782        190.6.141.58    4            4     Scanning Host  do       Santo Domingo  18.4666996002,-69.9000015259    0.00014\n",
       "6781        190.6.141.54    4            4     Scanning Host  do       Santo Domingo  18.4666996002,-69.9000015259    0.00014\n",
       "6780        190.6.141.55    4            4     Scanning Host  do       Santo Domingo  18.4666996002,-69.9000015259    0.00014\n",
       "                                                                                                                       ...   \n",
       "3521        129.177.205.29  4            2     Scanning Host  no       Bergen         60.3911018372,5.32469987869     0.00014\n",
       "3520        129.177.205.28  4            2     Scanning Host  no       Bergen         60.3911018372,5.32469987869     0.00014\n",
       "3519        129.177.205.27  4            2     Scanning Host  no       Bergen         60.3911018372,5.32469987869     0.00014\n",
       "3518        129.177.205.26  4            2     Scanning Host  no       Bergen         60.3911018372,5.32469987869     0.00014\n",
       "9999        86.35.30.74     4            3     Scanning Host  ro       Caransebes     45.4166984558,22.2166996002     0.00014\n",
       "Length: 7137, dtype: float64"
      ]
     },
     "execution_count": 13,
     "metadata": {},
     "output_type": "execute_result"
    }
   ],
   "source": [
    "import pandas as pd\n",
    "import ipaddress\n",
    "import seaborn as sns\n",
    "import pycountry\n",
    "import gmplot\n",
    "import matplotlib.pyplot as plt\n",
    "ip_reputation_df = pd.read_csv(\"AlienVault_IP_reputation.csv\")\n",
    "ip_reputation_df.value_counts(normalize=True)# task 1"
   ]
  },
  {
   "cell_type": "code",
   "execution_count": 17,
   "id": "145b80f8",
   "metadata": {},
   "outputs": [
    {
     "data": {
      "text/plain": [
       "256"
      ]
     },
     "execution_count": 17,
     "metadata": {},
     "output_type": "execute_result"
    }
   ],
   "source": [
    "ip_list1 = []\n",
    "ip_list2 = []\n",
    "ip_sub = []\n",
    "def ip_is_in_cidr(ip_add, cidr):\n",
    "    IP_add_list= [str(ip) for ip in ipaddress.IPv4Network(cidr)]\n",
    "    if ip_add in IP_add_list:\n",
    "        return True\n",
    "    else:\n",
    "        return False\n",
    "\n",
    "for ip in ipaddress.IPv4Network('222.76.212.0/24'):\n",
    "    ip_sub.append(ip)\n",
    "    \n",
    "for ip in ip_reputation_df[\"IP\"]:\n",
    "    bol = ip_is_in_cidr(ip, '222.76.212.0/24')\n",
    "    if bol == True:\n",
    "        ip_list1.append(ip)\n",
    "    bol = ip_is_in_cidr(ip, '5.34.246.0/24')\n",
    "    if bol == True:\n",
    "        ip_list2.append(ip)\n",
    "        \n",
    "len(ip_list1) + len(ip_list2) # task 2\n",
    "len(ip_sub)"
   ]
  },
  {
   "cell_type": "code",
   "execution_count": 5,
   "id": "8cca2671",
   "metadata": {},
   "outputs": [
    {
     "data": {
      "text/plain": [
       "2.090909090909091"
      ]
     },
     "execution_count": 5,
     "metadata": {},
     "output_type": "execute_result"
    }
   ],
   "source": [
    "data_df = ip_reputation_df[ip_reputation_df.IP.isin(ip_list1)]\n",
    "total = sum(data_df['Risk']) / 22\n",
    "total\n"
   ]
  },
  {
   "cell_type": "code",
   "execution_count": 6,
   "id": "baa05629",
   "metadata": {},
   "outputs": [
    {
     "data": {
      "image/png": "[encoded data removed]",
      "text/plain": [
       "<Figure size 432x288 with 1 Axes>"
      ]
     },
     "metadata": {
      "needs_background": "light"
     },
     "output_type": "display_data"
    }
   ],
   "source": [
    "new_data =  ip_reputation_df[ip_reputation_df.Country.isin([\"us\",\"cn\"])]\n",
    "sns.boxplot(x=new_data['Risk'], y=new_data['Country'], showmeans=True);\n",
    "#task 4\n"
   ]
  },
  {
   "cell_type": "code",
   "execution_count": 7,
   "id": "548f7448",
   "metadata": {},
   "outputs": [
    {
     "data": {
      "text/plain": [
       "(1108, 8)"
      ]
     },
     "execution_count": 7,
     "metadata": {},
     "output_type": "execute_result"
    }
   ],
   "source": [
    "countries = ['gb','mx','pk','ru','ua']\n",
    "new_country_data = ip_reputation_df[ip_reputation_df.Country.isin(countries)]\n",
    "new_country_data.shape # task 5\n"
   ]
  },
  {
   "cell_type": "code",
   "execution_count": 8,
   "id": "2bc61c0f",
   "metadata": {},
   "outputs": [
    {
     "data": {
      "image/png": "[encoded data removed]",
      "text/plain": [
       "<Figure size 432x288 with 1 Axes>"
      ]
     },
     "metadata": {
      "needs_background": "light"
     },
     "output_type": "display_data"
    }
   ],
   "source": [
    "new_data2 =  ip_reputation_df[ip_reputation_df.Country.isin([\"us\",\"ru\"])]\n",
    "sns.boxplot(x=new_data2['Reliability'], y=new_data2['Country'], showmeans=True);\n",
    "# task 6\n"
   ]
  },
  {
   "cell_type": "code",
   "execution_count": 12,
   "id": "331209b0",
   "metadata": {},
   "outputs": [],
   "source": [
    "lat_list = []\n",
    "long_list= []\n",
    "for coord in ip_reputation_df['Coords']:\n",
    "    lat_long = coord.split(',')\n",
    "    lat= lat_long[0]\n",
    "    lon = lat_long[1]\n",
    "    lat_list.append(float(lat))\n",
    "    long_list.append(float(lon))\n",
    "\n",
    "ip_reputation_df['lat'] = lat_list\n",
    "ip_reputation_df['lon'] = long_list\n",
    "aust_coords = ip_reputation_df[ip_reputation_df.Country.isin(['au'])]\n",
    "\n",
    "lat_list = aust_coords['lat']\n",
    "lon_list = aust_coords['lon']\n",
    "\n",
    "gmap = gmplot.GoogleMapPlotter(0, 0, 2)\n",
    "gmap.heatmap(lat_list, lon_list)\n",
    "gmap.draw(r\"C:\\Users\\IsaacStertzbach\\Desktop\\AUmap.html\")\n",
    "# Task 7\n"
   ]
  },
  {
   "cell_type": "code",
   "execution_count": 10,
   "id": "dca78e25",
   "metadata": {},
   "outputs": [
    {
     "data": {
      "text/plain": [
       "Scanning Host                          381\n",
       "Malware Domain                          20\n",
       "Malware IP                              14\n",
       "Spamming                                 5\n",
       "Malicious Host                           3\n",
       "Malicious Host;Scanning Host             2\n",
       "Malware Domain;Malware IP                1\n",
       "Malware distribution;Malicious Host      1\n",
       "C&C                                      1\n",
       "Name: Type, dtype: int64"
      ]
     },
     "execution_count": 10,
     "metadata": {},
     "output_type": "execute_result"
    }
   ],
   "source": [
    "us_data = ip_reputation_df[ip_reputation_df.Country.isin(['us'])]\n",
    "cn_data = ip_reputation_df[ip_reputation_df.Country.isin(['cn'])]\n",
    "de_data = ip_reputation_df[ip_reputation_df.Country.isin(['de'])]\n",
    "\n",
    "us_data['Type'].value_counts() # Scanning Host, Spamming, Malware IP\n",
    "cn_data['Type'].value_counts() # Scanning Host, Malicious Host, Malware Domain\n",
    "de_data['Type'].value_counts() # Scanning Host, Malware Domain, Malware IP\n",
    "# Task 8"
   ]
  },
  {
   "cell_type": "code",
   "execution_count": 38,
   "id": "fbaa182e",
   "metadata": {},
   "outputs": [
    {
     "data": {
      "text/plain": [
       "Country\n",
       "ma    6.0\n",
       "sa    5.0\n",
       "az    5.0\n",
       "by    5.0\n",
       "ae    4.5\n",
       "     ... \n",
       "kz    2.0\n",
       "hu    2.0\n",
       "ge    2.0\n",
       "fi    2.0\n",
       "ee    2.0\n",
       "Name: Risk, Length: 73, dtype: float64"
      ]
     },
     "execution_count": 38,
     "metadata": {},
     "output_type": "execute_result"
    }
   ],
   "source": [
    "data_risk_avg = ip_reputation_df.groupby('Country')['Risk'].mean()\n",
    "data_risk_avg.sort_values(ascending=False)"
   ]
  },
  {
   "cell_type": "code",
   "execution_count": 32,
   "id": "03585f1f",
   "metadata": {},
   "outputs": [
    {
     "data": {
      "text/plain": [
       "Country\n",
       "fi    9.000000\n",
       "hu    6.500000\n",
       "by    6.000000\n",
       "vg    6.000000\n",
       "cy    6.000000\n",
       "        ...   \n",
       "at    3.000000\n",
       "ch    2.500000\n",
       "it    2.448276\n",
       "mx    1.800000\n",
       "tw    1.764192\n",
       "Name: Reliability, Length: 73, dtype: float64"
      ]
     },
     "execution_count": 32,
     "metadata": {},
     "output_type": "execute_result"
    }
   ],
   "source": [
    "data_risk_avg = ip_reputation_df.groupby('Country')['Reliability'].mean()\n",
    "data_risk_avg.sort_values(ascending=False)"
   ]
  },
  {
   "cell_type": "code",
   "execution_count": null,
   "id": "490afda0",
   "metadata": {},
   "outputs": [],
   "source": []
  }
 ],
 "metadata": {
  "kernelspec": {
   "display_name": "Python 3 (ipykernel)",
   "language": "python",
   "name": "python3"
  },
  "language_info": {
   "codemirror_mode": {
    "name": "ipython",
    "version": 3
   },
   "file_extension": ".py",
   "mimetype": "text/x-python",
   "name": "python",
   "nbconvert_exporter": "python",
   "pygments_lexer": "ipython3",
   "version": "3.9.7"
  }
 },
 "nbformat": 4,
 "nbformat_minor": 5
}
