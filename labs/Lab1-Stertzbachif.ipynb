{
 "cells": [
  {
   "cell_type": "code",
   "execution_count": 14,
   "id": "1f7c9963",
   "metadata": {},
   "outputs": [],
   "source": [
    "import pandas as pd\n",
    "import ipaddress\n",
    "import seaborn as sns\n",
    "data = pd.read_csv(\"majestic_million.csv\")\n",
    "list = [\"IDN_Domain\", \"IDN_TLD\", \"PrevGlobalRank\", \"PrevRefSubNets\", \"PrevRefIPs\", \"PrevTldRank\"]\n",
    "data = data.drop(list, axis=1) # Question 1\n"
   ]
  },
  {
   "cell_type": "code",
   "execution_count": 15,
   "id": "848ab841",
   "metadata": {},
   "outputs": [
    {
     "data": {
      "text/html": [
       "<div>\n",
       "<style scoped>\n",
       "    .dataframe tbody tr th:only-of-type {\n",
       "        vertical-align: middle;\n",
       "    }\n",
       "\n",
       "    .dataframe tbody tr th {\n",
       "        vertical-align: top;\n",
       "    }\n",
       "\n",
       "    .dataframe thead th {\n",
       "        text-align: right;\n",
       "    }\n",
       "</style>\n",
       "<table border=\"1\" class=\"dataframe\">\n",
       "  <thead>\n",
       "    <tr style=\"text-align: right;\">\n",
       "      <th></th>\n",
       "      <th>GlobalRank</th>\n",
       "      <th>TldRank</th>\n",
       "      <th>Domain</th>\n",
       "      <th>TLD</th>\n",
       "      <th>RefSubNets</th>\n",
       "      <th>RefIPs</th>\n",
       "    </tr>\n",
       "  </thead>\n",
       "  <tbody>\n",
       "    <tr>\n",
       "      <th>51</th>\n",
       "      <td>52</td>\n",
       "      <td>1</td>\n",
       "      <td>miit.gov.cn</td>\n",
       "      <td>cn</td>\n",
       "      <td>112201</td>\n",
       "      <td>865746</td>\n",
       "    </tr>\n",
       "    <tr>\n",
       "      <th>52</th>\n",
       "      <td>53</td>\n",
       "      <td>1</td>\n",
       "      <td>t.co</td>\n",
       "      <td>co</td>\n",
       "      <td>112117</td>\n",
       "      <td>321953</td>\n",
       "    </tr>\n",
       "    <tr>\n",
       "      <th>53</th>\n",
       "      <td>54</td>\n",
       "      <td>6</td>\n",
       "      <td>w3.org</td>\n",
       "      <td>org</td>\n",
       "      <td>111544</td>\n",
       "      <td>236201</td>\n",
       "    </tr>\n",
       "    <tr>\n",
       "      <th>54</th>\n",
       "      <td>55</td>\n",
       "      <td>41</td>\n",
       "      <td>support.apple.com</td>\n",
       "      <td>com</td>\n",
       "      <td>111511</td>\n",
       "      <td>309634</td>\n",
       "    </tr>\n",
       "    <tr>\n",
       "      <th>55</th>\n",
       "      <td>56</td>\n",
       "      <td>42</td>\n",
       "      <td>forbes.com</td>\n",
       "      <td>com</td>\n",
       "      <td>111221</td>\n",
       "      <td>285022</td>\n",
       "    </tr>\n",
       "    <tr>\n",
       "      <th>56</th>\n",
       "      <td>57</td>\n",
       "      <td>2</td>\n",
       "      <td>ec.europa.eu</td>\n",
       "      <td>eu</td>\n",
       "      <td>110759</td>\n",
       "      <td>340576</td>\n",
       "    </tr>\n",
       "    <tr>\n",
       "      <th>57</th>\n",
       "      <td>58</td>\n",
       "      <td>1</td>\n",
       "      <td>forms.gle</td>\n",
       "      <td>gle</td>\n",
       "      <td>110093</td>\n",
       "      <td>272114</td>\n",
       "    </tr>\n",
       "    <tr>\n",
       "      <th>58</th>\n",
       "      <td>59</td>\n",
       "      <td>43</td>\n",
       "      <td>baidu.com</td>\n",
       "      <td>com</td>\n",
       "      <td>108008</td>\n",
       "      <td>568208</td>\n",
       "    </tr>\n",
       "    <tr>\n",
       "      <th>59</th>\n",
       "      <td>60</td>\n",
       "      <td>44</td>\n",
       "      <td>spotify.com</td>\n",
       "      <td>com</td>\n",
       "      <td>107876</td>\n",
       "      <td>300615</td>\n",
       "    </tr>\n",
       "    <tr>\n",
       "      <th>60</th>\n",
       "      <td>61</td>\n",
       "      <td>1</td>\n",
       "      <td>zoom.us</td>\n",
       "      <td>us</td>\n",
       "      <td>107111</td>\n",
       "      <td>254084</td>\n",
       "    </tr>\n",
       "    <tr>\n",
       "      <th>61</th>\n",
       "      <td>62</td>\n",
       "      <td>2</td>\n",
       "      <td>beian.miit.gov.cn</td>\n",
       "      <td>cn</td>\n",
       "      <td>106830</td>\n",
       "      <td>782659</td>\n",
       "    </tr>\n",
       "  </tbody>\n",
       "</table>\n",
       "</div>"
      ],
      "text/plain": [
       "    GlobalRank  TldRank             Domain  TLD  RefSubNets  RefIPs\n",
       "51          52        1        miit.gov.cn   cn      112201  865746\n",
       "52          53        1               t.co   co      112117  321953\n",
       "53          54        6             w3.org  org      111544  236201\n",
       "54          55       41  support.apple.com  com      111511  309634\n",
       "55          56       42         forbes.com  com      111221  285022\n",
       "56          57        2       ec.europa.eu   eu      110759  340576\n",
       "57          58        1          forms.gle  gle      110093  272114\n",
       "58          59       43          baidu.com  com      108008  568208\n",
       "59          60       44        spotify.com  com      107876  300615\n",
       "60          61        1            zoom.us   us      107111  254084\n",
       "61          62        2  beian.miit.gov.cn   cn      106830  782659"
      ]
     },
     "execution_count": 15,
     "metadata": {},
     "output_type": "execute_result"
    }
   ],
   "source": [
    "data.loc[51:61] \n"
   ]
  },
  {
   "cell_type": "code",
   "execution_count": 16,
   "id": "514b8d70",
   "metadata": {},
   "outputs": [
    {
     "name": "stdout",
     "output_type": "stream",
     "text": [
      "16149\n"
     ]
    }
   ],
   "source": [
    "print(len(pd.unique(data[\"RefIPs\"]))) # Question 3: 16149 unique values"
   ]
  },
  {
   "cell_type": "code",
   "execution_count": 17,
   "id": "5d017532",
   "metadata": {},
   "outputs": [
    {
     "name": "stdout",
     "output_type": "stream",
     "text": [
      "12052\n"
     ]
    }
   ],
   "source": [
    "print(len(pd.unique(data[\"RefSubNets\"]))) # Question 4: 12052 unique values"
   ]
  },
  {
   "cell_type": "code",
   "execution_count": 18,
   "id": "941ffeaa",
   "metadata": {},
   "outputs": [
    {
     "name": "stdout",
     "output_type": "stream",
     "text": [
      "0.7.134.169\n"
     ]
    }
   ],
   "source": [
    "maxRefSubNet = data[\"RefSubNets\"].max() # Question 5\n",
    "print(ipaddress.ip_address(maxRefSubNet))"
   ]
  },
  {
   "cell_type": "code",
   "execution_count": 19,
   "id": "39e97eb2",
   "metadata": {},
   "outputs": [
    {
     "name": "stdout",
     "output_type": "stream",
     "text": [
      "0.0.1.9\n"
     ]
    }
   ],
   "source": [
    "minRefIp = data[\"RefIPs\"].min() # Question 6\n",
    "print(ipaddress.ip_address(minRefIp))"
   ]
  },
  {
   "cell_type": "code",
   "execution_count": 20,
   "id": "b56dd545",
   "metadata": {},
   "outputs": [
    {
     "name": "stdout",
     "output_type": "stream",
     "text": [
      "88363\n"
     ]
    }
   ],
   "source": [
    "print(len(data[data.TLD.isin([\"edu\",\"org\"])])) # Question 7\n",
    "count_edu = len(data[data.TLD.isin([\"edu\"])])\n",
    "count_org = len(data[data.TLD.isin([\"org\"])])\n",
    "new_data = data[data.TLD.isin([\"edu\",\"org\"])]"
   ]
  },
  {
   "cell_type": "code",
   "execution_count": 21,
   "id": "05a65d93",
   "metadata": {},
   "outputs": [
    {
     "data": {
      "text/plain": [
       "org    0.951507\n",
       "edu    0.048493\n",
       "Name: TLD, dtype: float64"
      ]
     },
     "execution_count": 21,
     "metadata": {},
     "output_type": "execute_result"
    }
   ],
   "source": [
    "new_data['TLD'].value_counts(normalize=True) # Question 8"
   ]
  },
  {
   "cell_type": "code",
   "execution_count": 22,
   "id": "1bcaf927",
   "metadata": {},
   "outputs": [
    {
     "data": {
      "text/plain": [
       "<AxesSubplot:>"
      ]
     },
     "execution_count": 22,
     "metadata": {},
     "output_type": "execute_result"
    },
    {
     "data": {
      "image/png": "[encoded data removed]",
      "text/plain": [
       "<Figure size 432x288 with 1 Axes>"
      ]
     },
     "metadata": {
      "needs_background": "light"
     },
     "output_type": "display_data"
    }
   ],
   "source": [
    "new_data['TLD'].value_counts().plot(kind='bar') # Question 9 "
   ]
  },
  {
   "cell_type": "code",
   "execution_count": 32,
   "id": "41e427e1",
   "metadata": {},
   "outputs": [
    {
     "data": {
      "image/png": "[encoded data removed]",
      "text/plain": [
       "<Figure size 432x288 with 1 Axes>"
      ]
     },
     "metadata": {
      "needs_background": "light"
     },
     "output_type": "display_data"
    }
   ],
   "source": [
    "sns.boxplot(x=new_data['GlobalRank'], y=new_data['TLD'], showmeans=True);\n",
    "# Question 10"
   ]
  },
  {
   "cell_type": "code",
   "execution_count": 35,
   "id": "5d087e56",
   "metadata": {},
   "outputs": [
    {
     "data": {
      "text/plain": [
       "312    3078\n",
       "316    3067\n",
       "320    3048\n",
       "313    3044\n",
       "310    3032\n",
       "311    3010\n",
       "317    3002\n",
       "314    2988\n",
       "324    2976\n",
       "308    2968\n",
       "Name: RefIPs, dtype: int64"
      ]
     },
     "execution_count": 35,
     "metadata": {},
     "output_type": "execute_result"
    }
   ],
   "source": [
    "data[\"RefIPs\"].value_counts().head(10)"
   ]
  },
  {
   "cell_type": "code",
   "execution_count": null,
   "id": "00923330",
   "metadata": {},
   "outputs": [],
   "source": []
  }
 ],
 "metadata": {
  "kernelspec": {
   "display_name": "Python 3 (ipykernel)",
   "language": "python",
   "name": "python3"
  },
  "language_info": {
   "codemirror_mode": {
    "name": "ipython",
    "version": 3
   },
   "file_extension": ".py",
   "mimetype": "text/x-python",
   "name": "python",
   "nbconvert_exporter": "python",
   "pygments_lexer": "ipython3",
   "version": "3.9.7"
  }
 },
 "nbformat": 4,
 "nbformat_minor": 5
}
