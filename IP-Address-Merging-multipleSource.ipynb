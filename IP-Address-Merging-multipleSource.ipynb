{
 "cells": [
  {
   "cell_type": "code",
   "execution_count": 1,
   "id": "63cfab3c",
   "metadata": {},
   "outputs": [],
   "source": [
    "import pandas as pd\n",
    "import ipaddress\n",
    "import matplotlib.pyplot as plt\n",
    "import re"
   ]
  },
  {
   "cell_type": "markdown",
   "id": "e6bb778e",
   "metadata": {},
   "source": [
    "# CIDR Block (Classless Inter Domain routing)"
   ]
  },
  {
   "cell_type": "code",
   "execution_count": 2,
   "id": "3682aea2",
   "metadata": {},
   "outputs": [
    {
     "name": "stdout",
     "output_type": "stream",
     "text": [
      "['192.0.2.0', '192.0.2.1', '192.0.2.2', '192.0.2.3', '192.0.2.4', '192.0.2.5', '192.0.2.6', '192.0.2.7', '192.0.2.8', '192.0.2.9', '192.0.2.10', '192.0.2.11', '192.0.2.12', '192.0.2.13', '192.0.2.14', '192.0.2.15', '192.0.2.16', '192.0.2.17', '192.0.2.18', '192.0.2.19', '192.0.2.20', '192.0.2.21', '192.0.2.22', '192.0.2.23', '192.0.2.24', '192.0.2.25', '192.0.2.26', '192.0.2.27', '192.0.2.28', '192.0.2.29', '192.0.2.30', '192.0.2.31', '192.0.2.32', '192.0.2.33', '192.0.2.34', '192.0.2.35', '192.0.2.36', '192.0.2.37', '192.0.2.38', '192.0.2.39', '192.0.2.40', '192.0.2.41', '192.0.2.42', '192.0.2.43', '192.0.2.44', '192.0.2.45', '192.0.2.46', '192.0.2.47', '192.0.2.48', '192.0.2.49', '192.0.2.50', '192.0.2.51', '192.0.2.52', '192.0.2.53', '192.0.2.54', '192.0.2.55', '192.0.2.56', '192.0.2.57', '192.0.2.58', '192.0.2.59', '192.0.2.60', '192.0.2.61', '192.0.2.62', '192.0.2.63', '192.0.2.64', '192.0.2.65', '192.0.2.66', '192.0.2.67', '192.0.2.68', '192.0.2.69', '192.0.2.70', '192.0.2.71', '192.0.2.72', '192.0.2.73', '192.0.2.74', '192.0.2.75', '192.0.2.76', '192.0.2.77', '192.0.2.78', '192.0.2.79', '192.0.2.80', '192.0.2.81', '192.0.2.82', '192.0.2.83', '192.0.2.84', '192.0.2.85', '192.0.2.86', '192.0.2.87', '192.0.2.88', '192.0.2.89', '192.0.2.90', '192.0.2.91', '192.0.2.92', '192.0.2.93', '192.0.2.94', '192.0.2.95', '192.0.2.96', '192.0.2.97', '192.0.2.98', '192.0.2.99', '192.0.2.100', '192.0.2.101', '192.0.2.102', '192.0.2.103', '192.0.2.104', '192.0.2.105', '192.0.2.106', '192.0.2.107', '192.0.2.108', '192.0.2.109', '192.0.2.110', '192.0.2.111', '192.0.2.112', '192.0.2.113', '192.0.2.114', '192.0.2.115', '192.0.2.116', '192.0.2.117', '192.0.2.118', '192.0.2.119', '192.0.2.120', '192.0.2.121', '192.0.2.122', '192.0.2.123', '192.0.2.124', '192.0.2.125', '192.0.2.126', '192.0.2.127']\n"
     ]
    }
   ],
   "source": [
    "\n",
    "IP_add_list= [str(ip) for ip in ipaddress.IPv4Network('192.0.2.0/25')]  # generating te list of all IPs in CIDR block\n",
    "print (IP_add_list)\n",
    "#input_ip = input('IP Address: ') \n",
    "#if input_ip in IP_add_list:\n",
    " #   print (\"IP in given CIDR block\")\n",
    "#else:\n",
    " #   print(\"IP not in the given CIDR block\")"
   ]
  },
  {
   "cell_type": "code",
   "execution_count": 3,
   "id": "1fa386a7",
   "metadata": {},
   "outputs": [],
   "source": [
    "#print(IP_add_list)"
   ]
  },
  {
   "cell_type": "code",
   "execution_count": 4,
   "id": "ffac8003",
   "metadata": {},
   "outputs": [],
   "source": [
    "def ip_is_in_cidr(ip_add, cidr):\n",
    "    #IP_add_list= [str(ip) for ip in ipaddress.IPv4Network(cidr)]\n",
    "    if ip_add in IP_add_list:\n",
    "        return True\n",
    "    else:\n",
    "        return False"
   ]
  },
  {
   "cell_type": "code",
   "execution_count": 5,
   "id": "b930dbe8",
   "metadata": {},
   "outputs": [
    {
     "data": {
      "text/plain": [
       "True"
      ]
     },
     "execution_count": 5,
     "metadata": {},
     "output_type": "execute_result"
    }
   ],
   "source": [
    "ip_is_in_cidr(\"192.0.2.32\", \"54.0.0.0/8\")"
   ]
  },
  {
   "cell_type": "code",
   "execution_count": 6,
   "id": "04958d3e",
   "metadata": {},
   "outputs": [],
   "source": [
    "my_cidr_IP_list = [str(ip) for ip in ipaddress.IPv4Network(\"54.0.0.0/8\")]"
   ]
  },
  {
   "cell_type": "code",
   "execution_count": 7,
   "id": "aa2ae29c",
   "metadata": {},
   "outputs": [
    {
     "ename": "NameError",
     "evalue": "name 'IP_add_list_in54subnet' is not defined",
     "output_type": "error",
     "traceback": [
      "\u001b[0;31m---------------------------------------------------------------------------\u001b[0m",
      "\u001b[0;31mNameError\u001b[0m                                 Traceback (most recent call last)",
      "\u001b[0;32m/var/folders/fc/x80wfpw17pv7yb9hd44b3p5w0000gn/T/ipykernel_14446/3632555042.py\u001b[0m in \u001b[0;36m<module>\u001b[0;34m\u001b[0m\n\u001b[0;32m----> 1\u001b[0;31m \u001b[0mlen\u001b[0m\u001b[0;34m(\u001b[0m\u001b[0mIP_add_list_in54subnet\u001b[0m\u001b[0;34m)\u001b[0m\u001b[0;34m\u001b[0m\u001b[0;34m\u001b[0m\u001b[0m\n\u001b[0m",
      "\u001b[0;31mNameError\u001b[0m: name 'IP_add_list_in54subnet' is not defined"
     ]
    }
   ],
   "source": [
    "len(IP_add_list_in54subnet)"
   ]
  },
  {
   "cell_type": "code",
   "execution_count": 10,
   "id": "f90d6365",
   "metadata": {},
   "outputs": [],
   "source": [
    "def ip_is_in_cidr(ip_add, my_cidr_IP_list):\n",
    "    #IP_add_list= [str(ip) for ip in ipaddress.IPv4Network(cidr)]\n",
    "    if ip_add in IP_add_list:\n",
    "        return True\n",
    "    else:\n",
    "        return False"
   ]
  },
  {
   "cell_type": "code",
   "execution_count": 11,
   "id": "7b2d3afe",
   "metadata": {},
   "outputs": [],
   "source": [
    "ip_reputation_df = pd.read_csv(\"AlienVault_IP_reputation.csv\")"
   ]
  },
  {
   "cell_type": "code",
   "execution_count": 12,
   "id": "9b90bd5f",
   "metadata": {},
   "outputs": [
    {
     "data": {
      "text/html": [
       "<div>\n",
       "<style scoped>\n",
       "    .dataframe tbody tr th:only-of-type {\n",
       "        vertical-align: middle;\n",
       "    }\n",
       "\n",
       "    .dataframe tbody tr th {\n",
       "        vertical-align: top;\n",
       "    }\n",
       "\n",
       "    .dataframe thead th {\n",
       "        text-align: right;\n",
       "    }\n",
       "</style>\n",
       "<table border=\"1\" class=\"dataframe\">\n",
       "  <thead>\n",
       "    <tr style=\"text-align: right;\">\n",
       "      <th></th>\n",
       "      <th>Unnamed: 0</th>\n",
       "      <th>IP</th>\n",
       "      <th>Reliability</th>\n",
       "      <th>Risk</th>\n",
       "      <th>Type</th>\n",
       "      <th>Country</th>\n",
       "      <th>Locale</th>\n",
       "      <th>Coords</th>\n",
       "    </tr>\n",
       "  </thead>\n",
       "  <tbody>\n",
       "    <tr>\n",
       "      <th>0</th>\n",
       "      <td>0</td>\n",
       "      <td>222.76.212.189</td>\n",
       "      <td>4</td>\n",
       "      <td>2</td>\n",
       "      <td>Scanning Host</td>\n",
       "      <td>cn</td>\n",
       "      <td>Xiamen</td>\n",
       "      <td>24.4797992706,118.08190155</td>\n",
       "    </tr>\n",
       "    <tr>\n",
       "      <th>1</th>\n",
       "      <td>1</td>\n",
       "      <td>222.76.212.185</td>\n",
       "      <td>4</td>\n",
       "      <td>2</td>\n",
       "      <td>Scanning Host</td>\n",
       "      <td>cn</td>\n",
       "      <td>Xiamen</td>\n",
       "      <td>24.4797992706,118.08190155</td>\n",
       "    </tr>\n",
       "    <tr>\n",
       "      <th>2</th>\n",
       "      <td>2</td>\n",
       "      <td>222.76.212.186</td>\n",
       "      <td>4</td>\n",
       "      <td>2</td>\n",
       "      <td>Scanning Host</td>\n",
       "      <td>cn</td>\n",
       "      <td>Xiamen</td>\n",
       "      <td>24.4797992706,118.08190155</td>\n",
       "    </tr>\n",
       "    <tr>\n",
       "      <th>3</th>\n",
       "      <td>3</td>\n",
       "      <td>5.34.246.67</td>\n",
       "      <td>6</td>\n",
       "      <td>3</td>\n",
       "      <td>Spamming</td>\n",
       "      <td>us</td>\n",
       "      <td>NaN</td>\n",
       "      <td>38.0,-97.0</td>\n",
       "    </tr>\n",
       "    <tr>\n",
       "      <th>4</th>\n",
       "      <td>4</td>\n",
       "      <td>178.94.97.176</td>\n",
       "      <td>4</td>\n",
       "      <td>5</td>\n",
       "      <td>Scanning Host</td>\n",
       "      <td>ua</td>\n",
       "      <td>Merefa</td>\n",
       "      <td>49.8230018616,36.0507011414</td>\n",
       "    </tr>\n",
       "    <tr>\n",
       "      <th>...</th>\n",
       "      <td>...</td>\n",
       "      <td>...</td>\n",
       "      <td>...</td>\n",
       "      <td>...</td>\n",
       "      <td>...</td>\n",
       "      <td>...</td>\n",
       "      <td>...</td>\n",
       "      <td>...</td>\n",
       "    </tr>\n",
       "    <tr>\n",
       "      <th>9995</th>\n",
       "      <td>9995</td>\n",
       "      <td>86.35.30.70</td>\n",
       "      <td>4</td>\n",
       "      <td>3</td>\n",
       "      <td>Scanning Host</td>\n",
       "      <td>ro</td>\n",
       "      <td>Caransebes</td>\n",
       "      <td>45.4166984558,22.2166996002</td>\n",
       "    </tr>\n",
       "    <tr>\n",
       "      <th>9996</th>\n",
       "      <td>9996</td>\n",
       "      <td>86.35.30.71</td>\n",
       "      <td>4</td>\n",
       "      <td>3</td>\n",
       "      <td>Scanning Host</td>\n",
       "      <td>ro</td>\n",
       "      <td>Caransebes</td>\n",
       "      <td>45.4166984558,22.2166996002</td>\n",
       "    </tr>\n",
       "    <tr>\n",
       "      <th>9997</th>\n",
       "      <td>9997</td>\n",
       "      <td>86.35.30.72</td>\n",
       "      <td>4</td>\n",
       "      <td>3</td>\n",
       "      <td>Scanning Host</td>\n",
       "      <td>ro</td>\n",
       "      <td>Caransebes</td>\n",
       "      <td>45.4166984558,22.2166996002</td>\n",
       "    </tr>\n",
       "    <tr>\n",
       "      <th>9998</th>\n",
       "      <td>9998</td>\n",
       "      <td>86.35.30.73</td>\n",
       "      <td>4</td>\n",
       "      <td>3</td>\n",
       "      <td>Scanning Host</td>\n",
       "      <td>ro</td>\n",
       "      <td>Caransebes</td>\n",
       "      <td>45.4166984558,22.2166996002</td>\n",
       "    </tr>\n",
       "    <tr>\n",
       "      <th>9999</th>\n",
       "      <td>9999</td>\n",
       "      <td>86.35.30.74</td>\n",
       "      <td>4</td>\n",
       "      <td>3</td>\n",
       "      <td>Scanning Host</td>\n",
       "      <td>ro</td>\n",
       "      <td>Caransebes</td>\n",
       "      <td>45.4166984558,22.2166996002</td>\n",
       "    </tr>\n",
       "  </tbody>\n",
       "</table>\n",
       "<p>10000 rows × 8 columns</p>\n",
       "</div>"
      ],
      "text/plain": [
       "      Unnamed: 0              IP  Reliability  Risk           Type Country  \\\n",
       "0              0  222.76.212.189            4     2  Scanning Host      cn   \n",
       "1              1  222.76.212.185            4     2  Scanning Host      cn   \n",
       "2              2  222.76.212.186            4     2  Scanning Host      cn   \n",
       "3              3     5.34.246.67            6     3       Spamming      us   \n",
       "4              4   178.94.97.176            4     5  Scanning Host      ua   \n",
       "...          ...             ...          ...   ...            ...     ...   \n",
       "9995        9995     86.35.30.70            4     3  Scanning Host      ro   \n",
       "9996        9996     86.35.30.71            4     3  Scanning Host      ro   \n",
       "9997        9997     86.35.30.72            4     3  Scanning Host      ro   \n",
       "9998        9998     86.35.30.73            4     3  Scanning Host      ro   \n",
       "9999        9999     86.35.30.74            4     3  Scanning Host      ro   \n",
       "\n",
       "          Locale                       Coords  \n",
       "0         Xiamen   24.4797992706,118.08190155  \n",
       "1         Xiamen   24.4797992706,118.08190155  \n",
       "2         Xiamen   24.4797992706,118.08190155  \n",
       "3            NaN                   38.0,-97.0  \n",
       "4         Merefa  49.8230018616,36.0507011414  \n",
       "...          ...                          ...  \n",
       "9995  Caransebes  45.4166984558,22.2166996002  \n",
       "9996  Caransebes  45.4166984558,22.2166996002  \n",
       "9997  Caransebes  45.4166984558,22.2166996002  \n",
       "9998  Caransebes  45.4166984558,22.2166996002  \n",
       "9999  Caransebes  45.4166984558,22.2166996002  \n",
       "\n",
       "[10000 rows x 8 columns]"
      ]
     },
     "execution_count": 12,
     "metadata": {},
     "output_type": "execute_result"
    }
   ],
   "source": [
    "ip_reputation_df"
   ]
  },
  {
   "cell_type": "code",
   "execution_count": 13,
   "id": "1f50b34e",
   "metadata": {},
   "outputs": [],
   "source": [
    "#Drop Columns if not interested \n",
    "ip_reputation_df = ip_reputation_df.drop(columns=['Unnamed: 0'], axis=1)"
   ]
  },
  {
   "cell_type": "code",
   "execution_count": 14,
   "id": "ae754404",
   "metadata": {},
   "outputs": [
    {
     "data": {
      "text/html": [
       "<div>\n",
       "<style scoped>\n",
       "    .dataframe tbody tr th:only-of-type {\n",
       "        vertical-align: middle;\n",
       "    }\n",
       "\n",
       "    .dataframe tbody tr th {\n",
       "        vertical-align: top;\n",
       "    }\n",
       "\n",
       "    .dataframe thead th {\n",
       "        text-align: right;\n",
       "    }\n",
       "</style>\n",
       "<table border=\"1\" class=\"dataframe\">\n",
       "  <thead>\n",
       "    <tr style=\"text-align: right;\">\n",
       "      <th></th>\n",
       "      <th>IP</th>\n",
       "      <th>Reliability</th>\n",
       "      <th>Risk</th>\n",
       "      <th>Type</th>\n",
       "      <th>Country</th>\n",
       "      <th>Locale</th>\n",
       "      <th>Coords</th>\n",
       "    </tr>\n",
       "  </thead>\n",
       "  <tbody>\n",
       "    <tr>\n",
       "      <th>0</th>\n",
       "      <td>222.76.212.189</td>\n",
       "      <td>4</td>\n",
       "      <td>2</td>\n",
       "      <td>Scanning Host</td>\n",
       "      <td>cn</td>\n",
       "      <td>Xiamen</td>\n",
       "      <td>24.4797992706,118.08190155</td>\n",
       "    </tr>\n",
       "    <tr>\n",
       "      <th>1</th>\n",
       "      <td>222.76.212.185</td>\n",
       "      <td>4</td>\n",
       "      <td>2</td>\n",
       "      <td>Scanning Host</td>\n",
       "      <td>cn</td>\n",
       "      <td>Xiamen</td>\n",
       "      <td>24.4797992706,118.08190155</td>\n",
       "    </tr>\n",
       "    <tr>\n",
       "      <th>2</th>\n",
       "      <td>222.76.212.186</td>\n",
       "      <td>4</td>\n",
       "      <td>2</td>\n",
       "      <td>Scanning Host</td>\n",
       "      <td>cn</td>\n",
       "      <td>Xiamen</td>\n",
       "      <td>24.4797992706,118.08190155</td>\n",
       "    </tr>\n",
       "    <tr>\n",
       "      <th>3</th>\n",
       "      <td>5.34.246.67</td>\n",
       "      <td>6</td>\n",
       "      <td>3</td>\n",
       "      <td>Spamming</td>\n",
       "      <td>us</td>\n",
       "      <td>NaN</td>\n",
       "      <td>38.0,-97.0</td>\n",
       "    </tr>\n",
       "    <tr>\n",
       "      <th>4</th>\n",
       "      <td>178.94.97.176</td>\n",
       "      <td>4</td>\n",
       "      <td>5</td>\n",
       "      <td>Scanning Host</td>\n",
       "      <td>ua</td>\n",
       "      <td>Merefa</td>\n",
       "      <td>49.8230018616,36.0507011414</td>\n",
       "    </tr>\n",
       "    <tr>\n",
       "      <th>...</th>\n",
       "      <td>...</td>\n",
       "      <td>...</td>\n",
       "      <td>...</td>\n",
       "      <td>...</td>\n",
       "      <td>...</td>\n",
       "      <td>...</td>\n",
       "      <td>...</td>\n",
       "    </tr>\n",
       "    <tr>\n",
       "      <th>9995</th>\n",
       "      <td>86.35.30.70</td>\n",
       "      <td>4</td>\n",
       "      <td>3</td>\n",
       "      <td>Scanning Host</td>\n",
       "      <td>ro</td>\n",
       "      <td>Caransebes</td>\n",
       "      <td>45.4166984558,22.2166996002</td>\n",
       "    </tr>\n",
       "    <tr>\n",
       "      <th>9996</th>\n",
       "      <td>86.35.30.71</td>\n",
       "      <td>4</td>\n",
       "      <td>3</td>\n",
       "      <td>Scanning Host</td>\n",
       "      <td>ro</td>\n",
       "      <td>Caransebes</td>\n",
       "      <td>45.4166984558,22.2166996002</td>\n",
       "    </tr>\n",
       "    <tr>\n",
       "      <th>9997</th>\n",
       "      <td>86.35.30.72</td>\n",
       "      <td>4</td>\n",
       "      <td>3</td>\n",
       "      <td>Scanning Host</td>\n",
       "      <td>ro</td>\n",
       "      <td>Caransebes</td>\n",
       "      <td>45.4166984558,22.2166996002</td>\n",
       "    </tr>\n",
       "    <tr>\n",
       "      <th>9998</th>\n",
       "      <td>86.35.30.73</td>\n",
       "      <td>4</td>\n",
       "      <td>3</td>\n",
       "      <td>Scanning Host</td>\n",
       "      <td>ro</td>\n",
       "      <td>Caransebes</td>\n",
       "      <td>45.4166984558,22.2166996002</td>\n",
       "    </tr>\n",
       "    <tr>\n",
       "      <th>9999</th>\n",
       "      <td>86.35.30.74</td>\n",
       "      <td>4</td>\n",
       "      <td>3</td>\n",
       "      <td>Scanning Host</td>\n",
       "      <td>ro</td>\n",
       "      <td>Caransebes</td>\n",
       "      <td>45.4166984558,22.2166996002</td>\n",
       "    </tr>\n",
       "  </tbody>\n",
       "</table>\n",
       "<p>10000 rows × 7 columns</p>\n",
       "</div>"
      ],
      "text/plain": [
       "                  IP  Reliability  Risk           Type Country      Locale  \\\n",
       "0     222.76.212.189            4     2  Scanning Host      cn      Xiamen   \n",
       "1     222.76.212.185            4     2  Scanning Host      cn      Xiamen   \n",
       "2     222.76.212.186            4     2  Scanning Host      cn      Xiamen   \n",
       "3        5.34.246.67            6     3       Spamming      us         NaN   \n",
       "4      178.94.97.176            4     5  Scanning Host      ua      Merefa   \n",
       "...              ...          ...   ...            ...     ...         ...   \n",
       "9995     86.35.30.70            4     3  Scanning Host      ro  Caransebes   \n",
       "9996     86.35.30.71            4     3  Scanning Host      ro  Caransebes   \n",
       "9997     86.35.30.72            4     3  Scanning Host      ro  Caransebes   \n",
       "9998     86.35.30.73            4     3  Scanning Host      ro  Caransebes   \n",
       "9999     86.35.30.74            4     3  Scanning Host      ro  Caransebes   \n",
       "\n",
       "                           Coords  \n",
       "0      24.4797992706,118.08190155  \n",
       "1      24.4797992706,118.08190155  \n",
       "2      24.4797992706,118.08190155  \n",
       "3                      38.0,-97.0  \n",
       "4     49.8230018616,36.0507011414  \n",
       "...                           ...  \n",
       "9995  45.4166984558,22.2166996002  \n",
       "9996  45.4166984558,22.2166996002  \n",
       "9997  45.4166984558,22.2166996002  \n",
       "9998  45.4166984558,22.2166996002  \n",
       "9999  45.4166984558,22.2166996002  \n",
       "\n",
       "[10000 rows x 7 columns]"
      ]
     },
     "execution_count": 14,
     "metadata": {},
     "output_type": "execute_result"
    }
   ],
   "source": [
    "ip_reputation_df"
   ]
  },
  {
   "cell_type": "code",
   "execution_count": 15,
   "id": "e477dbd9",
   "metadata": {},
   "outputs": [],
   "source": [
    "# Code for changing the formatting of Corrdinates (making 2 cols Lat and Long)\n",
    "lat_list = []\n",
    "long_list= []\n",
    "\n",
    "for coord in ip_reputation_df['Coords']:\n",
    "    lat_long = coord.split(',')\n",
    "    lat= lat_long[0]\n",
    "    lon = lat_long[1]\n",
    "    lat_list.append(float(lat))\n",
    "    long_list.append(float(lon))\n",
    "\n",
    "ip_reputation_df['lat'] = lat_list\n",
    "ip_reputation_df['lon'] = long_list\n"
   ]
  },
  {
   "cell_type": "code",
   "execution_count": 16,
   "id": "e7baff60",
   "metadata": {},
   "outputs": [
    {
     "data": {
      "text/plain": [
       "(10000, 9)"
      ]
     },
     "execution_count": 16,
     "metadata": {},
     "output_type": "execute_result"
    }
   ],
   "source": [
    "ip_reputation_df.shape"
   ]
  },
  {
   "cell_type": "code",
   "execution_count": 17,
   "id": "245c2463",
   "metadata": {
    "scrolled": true
   },
   "outputs": [
    {
     "data": {
      "text/html": [
       "<div>\n",
       "<style scoped>\n",
       "    .dataframe tbody tr th:only-of-type {\n",
       "        vertical-align: middle;\n",
       "    }\n",
       "\n",
       "    .dataframe tbody tr th {\n",
       "        vertical-align: top;\n",
       "    }\n",
       "\n",
       "    .dataframe thead th {\n",
       "        text-align: right;\n",
       "    }\n",
       "</style>\n",
       "<table border=\"1\" class=\"dataframe\">\n",
       "  <thead>\n",
       "    <tr style=\"text-align: right;\">\n",
       "      <th></th>\n",
       "      <th>IP</th>\n",
       "      <th>Reliability</th>\n",
       "      <th>Risk</th>\n",
       "      <th>Type</th>\n",
       "      <th>Country</th>\n",
       "      <th>Locale</th>\n",
       "      <th>Coords</th>\n",
       "      <th>lat</th>\n",
       "      <th>lon</th>\n",
       "    </tr>\n",
       "  </thead>\n",
       "  <tbody>\n",
       "    <tr>\n",
       "      <th>0</th>\n",
       "      <td>222.76.212.189</td>\n",
       "      <td>4</td>\n",
       "      <td>2</td>\n",
       "      <td>Scanning Host</td>\n",
       "      <td>cn</td>\n",
       "      <td>Xiamen</td>\n",
       "      <td>24.4797992706,118.08190155</td>\n",
       "      <td>24.479799</td>\n",
       "      <td>118.081902</td>\n",
       "    </tr>\n",
       "    <tr>\n",
       "      <th>1</th>\n",
       "      <td>222.76.212.185</td>\n",
       "      <td>4</td>\n",
       "      <td>2</td>\n",
       "      <td>Scanning Host</td>\n",
       "      <td>cn</td>\n",
       "      <td>Xiamen</td>\n",
       "      <td>24.4797992706,118.08190155</td>\n",
       "      <td>24.479799</td>\n",
       "      <td>118.081902</td>\n",
       "    </tr>\n",
       "    <tr>\n",
       "      <th>2</th>\n",
       "      <td>222.76.212.186</td>\n",
       "      <td>4</td>\n",
       "      <td>2</td>\n",
       "      <td>Scanning Host</td>\n",
       "      <td>cn</td>\n",
       "      <td>Xiamen</td>\n",
       "      <td>24.4797992706,118.08190155</td>\n",
       "      <td>24.479799</td>\n",
       "      <td>118.081902</td>\n",
       "    </tr>\n",
       "    <tr>\n",
       "      <th>3</th>\n",
       "      <td>5.34.246.67</td>\n",
       "      <td>6</td>\n",
       "      <td>3</td>\n",
       "      <td>Spamming</td>\n",
       "      <td>us</td>\n",
       "      <td>NaN</td>\n",
       "      <td>38.0,-97.0</td>\n",
       "      <td>38.000000</td>\n",
       "      <td>-97.000000</td>\n",
       "    </tr>\n",
       "    <tr>\n",
       "      <th>4</th>\n",
       "      <td>178.94.97.176</td>\n",
       "      <td>4</td>\n",
       "      <td>5</td>\n",
       "      <td>Scanning Host</td>\n",
       "      <td>ua</td>\n",
       "      <td>Merefa</td>\n",
       "      <td>49.8230018616,36.0507011414</td>\n",
       "      <td>49.823002</td>\n",
       "      <td>36.050701</td>\n",
       "    </tr>\n",
       "    <tr>\n",
       "      <th>...</th>\n",
       "      <td>...</td>\n",
       "      <td>...</td>\n",
       "      <td>...</td>\n",
       "      <td>...</td>\n",
       "      <td>...</td>\n",
       "      <td>...</td>\n",
       "      <td>...</td>\n",
       "      <td>...</td>\n",
       "      <td>...</td>\n",
       "    </tr>\n",
       "    <tr>\n",
       "      <th>9995</th>\n",
       "      <td>86.35.30.70</td>\n",
       "      <td>4</td>\n",
       "      <td>3</td>\n",
       "      <td>Scanning Host</td>\n",
       "      <td>ro</td>\n",
       "      <td>Caransebes</td>\n",
       "      <td>45.4166984558,22.2166996002</td>\n",
       "      <td>45.416698</td>\n",
       "      <td>22.216700</td>\n",
       "    </tr>\n",
       "    <tr>\n",
       "      <th>9996</th>\n",
       "      <td>86.35.30.71</td>\n",
       "      <td>4</td>\n",
       "      <td>3</td>\n",
       "      <td>Scanning Host</td>\n",
       "      <td>ro</td>\n",
       "      <td>Caransebes</td>\n",
       "      <td>45.4166984558,22.2166996002</td>\n",
       "      <td>45.416698</td>\n",
       "      <td>22.216700</td>\n",
       "    </tr>\n",
       "    <tr>\n",
       "      <th>9997</th>\n",
       "      <td>86.35.30.72</td>\n",
       "      <td>4</td>\n",
       "      <td>3</td>\n",
       "      <td>Scanning Host</td>\n",
       "      <td>ro</td>\n",
       "      <td>Caransebes</td>\n",
       "      <td>45.4166984558,22.2166996002</td>\n",
       "      <td>45.416698</td>\n",
       "      <td>22.216700</td>\n",
       "    </tr>\n",
       "    <tr>\n",
       "      <th>9998</th>\n",
       "      <td>86.35.30.73</td>\n",
       "      <td>4</td>\n",
       "      <td>3</td>\n",
       "      <td>Scanning Host</td>\n",
       "      <td>ro</td>\n",
       "      <td>Caransebes</td>\n",
       "      <td>45.4166984558,22.2166996002</td>\n",
       "      <td>45.416698</td>\n",
       "      <td>22.216700</td>\n",
       "    </tr>\n",
       "    <tr>\n",
       "      <th>9999</th>\n",
       "      <td>86.35.30.74</td>\n",
       "      <td>4</td>\n",
       "      <td>3</td>\n",
       "      <td>Scanning Host</td>\n",
       "      <td>ro</td>\n",
       "      <td>Caransebes</td>\n",
       "      <td>45.4166984558,22.2166996002</td>\n",
       "      <td>45.416698</td>\n",
       "      <td>22.216700</td>\n",
       "    </tr>\n",
       "  </tbody>\n",
       "</table>\n",
       "<p>10000 rows × 9 columns</p>\n",
       "</div>"
      ],
      "text/plain": [
       "                  IP  Reliability  Risk           Type Country      Locale  \\\n",
       "0     222.76.212.189            4     2  Scanning Host      cn      Xiamen   \n",
       "1     222.76.212.185            4     2  Scanning Host      cn      Xiamen   \n",
       "2     222.76.212.186            4     2  Scanning Host      cn      Xiamen   \n",
       "3        5.34.246.67            6     3       Spamming      us         NaN   \n",
       "4      178.94.97.176            4     5  Scanning Host      ua      Merefa   \n",
       "...              ...          ...   ...            ...     ...         ...   \n",
       "9995     86.35.30.70            4     3  Scanning Host      ro  Caransebes   \n",
       "9996     86.35.30.71            4     3  Scanning Host      ro  Caransebes   \n",
       "9997     86.35.30.72            4     3  Scanning Host      ro  Caransebes   \n",
       "9998     86.35.30.73            4     3  Scanning Host      ro  Caransebes   \n",
       "9999     86.35.30.74            4     3  Scanning Host      ro  Caransebes   \n",
       "\n",
       "                           Coords        lat         lon  \n",
       "0      24.4797992706,118.08190155  24.479799  118.081902  \n",
       "1      24.4797992706,118.08190155  24.479799  118.081902  \n",
       "2      24.4797992706,118.08190155  24.479799  118.081902  \n",
       "3                      38.0,-97.0  38.000000  -97.000000  \n",
       "4     49.8230018616,36.0507011414  49.823002   36.050701  \n",
       "...                           ...        ...         ...  \n",
       "9995  45.4166984558,22.2166996002  45.416698   22.216700  \n",
       "9996  45.4166984558,22.2166996002  45.416698   22.216700  \n",
       "9997  45.4166984558,22.2166996002  45.416698   22.216700  \n",
       "9998  45.4166984558,22.2166996002  45.416698   22.216700  \n",
       "9999  45.4166984558,22.2166996002  45.416698   22.216700  \n",
       "\n",
       "[10000 rows x 9 columns]"
      ]
     },
     "execution_count": 17,
     "metadata": {},
     "output_type": "execute_result"
    }
   ],
   "source": [
    "ip_reputation_df"
   ]
  },
  {
   "cell_type": "code",
   "execution_count": 18,
   "id": "f3f78760",
   "metadata": {},
   "outputs": [
    {
     "name": "stdout",
     "output_type": "stream",
     "text": [
      "<class 'pandas.core.frame.DataFrame'>\n",
      "RangeIndex: 10000 entries, 0 to 9999\n",
      "Data columns (total 9 columns):\n",
      " #   Column       Non-Null Count  Dtype  \n",
      "---  ------       --------------  -----  \n",
      " 0   IP           10000 non-null  object \n",
      " 1   Reliability  10000 non-null  int64  \n",
      " 2   Risk         10000 non-null  int64  \n",
      " 3   Type         10000 non-null  object \n",
      " 4   Country      9659 non-null   object \n",
      " 5   Locale       7137 non-null   object \n",
      " 6   Coords       10000 non-null  object \n",
      " 7   lat          10000 non-null  float64\n",
      " 8   lon          10000 non-null  float64\n",
      "dtypes: float64(2), int64(2), object(5)\n",
      "memory usage: 703.2+ KB\n"
     ]
    }
   ],
   "source": [
    "ip_reputation_df.info()"
   ]
  },
  {
   "cell_type": "code",
   "execution_count": 19,
   "id": "af6edf01",
   "metadata": {},
   "outputs": [
    {
     "data": {
      "text/plain": [
       "us    2194\n",
       "cn    2125\n",
       "de     428\n",
       "br     393\n",
       "nl     350\n",
       "      ... \n",
       "be       1\n",
       "il       1\n",
       "ee       1\n",
       "az       1\n",
       "kz       1\n",
       "Name: Country, Length: 73, dtype: int64"
      ]
     },
     "execution_count": 19,
     "metadata": {},
     "output_type": "execute_result"
    }
   ],
   "source": [
    "ip_reputation_df['Country'].value_counts()\n",
    "#ip_reputation_df['Country'].value_counts(normalize=True)[:10].plot(kind='barh')"
   ]
  },
  {
   "cell_type": "code",
   "execution_count": 20,
   "id": "2c295540",
   "metadata": {},
   "outputs": [],
   "source": [
    "#installing gmplot\n",
    "#!pip install gmplot"
   ]
  },
  {
   "cell_type": "raw",
   "id": "ec029009",
   "metadata": {},
   "source": [
    "import gmplot # Google map package\n",
    "  \n",
    "latitude_list = ip_reputation_df[\"lat\"]\n",
    "longitude_list = ip_reputation_df[\"lon\"]\n",
    "\n",
    "gmap = gmplot.GoogleMapPlotter(0, 0, 2)  #lat, long, zoom_level\n",
    "gmap.heatmap(latitude_list, longitude_list)\n",
    "#gmap.scatter(latitude_list, longitude_list, c='r', marker=True)\n",
    "gmap.draw(r\"/Users/ahsanpritommm/Documents/heat-map-IP.html\")"
   ]
  },
  {
   "cell_type": "code",
   "execution_count": 24,
   "id": "2d8a644c",
   "metadata": {},
   "outputs": [
    {
     "name": "stdout",
     "output_type": "stream",
     "text": [
      "Requirement already satisfied: pycountry-convert in /Users/IsaacStertzbach/opt/anaconda3/lib/python3.9/site-packages (0.7.2)\n",
      "Requirement already satisfied: pprintpp>=0.3.0 in /Users/IsaacStertzbach/opt/anaconda3/lib/python3.9/site-packages (from pycountry-convert) (0.4.0)\n",
      "Requirement already satisfied: pycountry>=16.11.27.1 in /Users/IsaacStertzbach/opt/anaconda3/lib/python3.9/site-packages (from pycountry-convert) (22.3.5)\n",
      "Requirement already satisfied: pytest-cov>=2.5.1 in /Users/IsaacStertzbach/opt/anaconda3/lib/python3.9/site-packages (from pycountry-convert) (4.0.0)\n",
      "Requirement already satisfied: pytest-mock>=1.6.3 in /Users/IsaacStertzbach/opt/anaconda3/lib/python3.9/site-packages (from pycountry-convert) (3.10.0)\n",
      "Requirement already satisfied: pytest>=3.4.0 in /Users/IsaacStertzbach/opt/anaconda3/lib/python3.9/site-packages (from pycountry-convert) (6.2.4)\n",
      "Requirement already satisfied: repoze.lru>=0.7 in /Users/IsaacStertzbach/opt/anaconda3/lib/python3.9/site-packages (from pycountry-convert) (0.7)\n",
      "Requirement already satisfied: wheel>=0.30.0 in /Users/IsaacStertzbach/opt/anaconda3/lib/python3.9/site-packages (from pycountry-convert) (0.37.0)\n",
      "Requirement already satisfied: setuptools in /Users/IsaacStertzbach/opt/anaconda3/lib/python3.9/site-packages (from pycountry>=16.11.27.1->pycountry-convert) (58.0.4)\n",
      "Requirement already satisfied: attrs>=19.2.0 in /Users/IsaacStertzbach/opt/anaconda3/lib/python3.9/site-packages (from pytest>=3.4.0->pycountry-convert) (21.2.0)\n",
      "Requirement already satisfied: iniconfig in /Users/IsaacStertzbach/opt/anaconda3/lib/python3.9/site-packages (from pytest>=3.4.0->pycountry-convert) (1.1.1)\n",
      "Requirement already satisfied: packaging in /Users/IsaacStertzbach/opt/anaconda3/lib/python3.9/site-packages (from pytest>=3.4.0->pycountry-convert) (21.0)\n",
      "Requirement already satisfied: pluggy<1.0.0a1,>=0.12 in /Users/IsaacStertzbach/opt/anaconda3/lib/python3.9/site-packages (from pytest>=3.4.0->pycountry-convert) (0.13.1)\n",
      "Requirement already satisfied: py>=1.8.2 in /Users/IsaacStertzbach/opt/anaconda3/lib/python3.9/site-packages (from pytest>=3.4.0->pycountry-convert) (1.10.0)\n",
      "Requirement already satisfied: toml in /Users/IsaacStertzbach/opt/anaconda3/lib/python3.9/site-packages (from pytest>=3.4.0->pycountry-convert) (0.10.2)\n",
      "Requirement already satisfied: coverage[toml]>=5.2.1 in /Users/IsaacStertzbach/opt/anaconda3/lib/python3.9/site-packages (from pytest-cov>=2.5.1->pycountry-convert) (7.1.0)\n",
      "Requirement already satisfied: tomli in /Users/IsaacStertzbach/opt/anaconda3/lib/python3.9/site-packages (from coverage[toml]>=5.2.1->pytest-cov>=2.5.1->pycountry-convert) (2.0.1)\n",
      "Requirement already satisfied: pyparsing>=2.0.2 in /Users/IsaacStertzbach/opt/anaconda3/lib/python3.9/site-packages (from packaging->pytest>=3.4.0->pycountry-convert) (3.0.4)\n"
     ]
    }
   ],
   "source": [
    "# installation for country code conversion\n",
    "!pip install pycountry-convert"
   ]
  },
  {
   "cell_type": "raw",
   "id": "ed242389",
   "metadata": {},
   "source": [
    "import pycountry"
   ]
  },
  {
   "cell_type": "code",
   "execution_count": 25,
   "id": "28ae9fb8",
   "metadata": {},
   "outputs": [],
   "source": [
    "#list(pycountry.countries)"
   ]
  },
  {
   "cell_type": "raw",
   "id": "a955819f",
   "metadata": {},
   "source": [
    "pycountry.countries.lookup('bd')"
   ]
  },
  {
   "cell_type": "code",
   "execution_count": 26,
   "id": "8cf7c920",
   "metadata": {},
   "outputs": [
    {
     "ename": "NameError",
     "evalue": "name 'pycountry' is not defined",
     "output_type": "error",
     "traceback": [
      "\u001b[0;31m---------------------------------------------------------------------------\u001b[0m",
      "\u001b[0;31mNameError\u001b[0m                                 Traceback (most recent call last)",
      "\u001b[0;32m/var/folders/fc/x80wfpw17pv7yb9hd44b3p5w0000gn/T/ipykernel_14446/3668695744.py\u001b[0m in \u001b[0;36m<module>\u001b[0;34m\u001b[0m\n\u001b[0;32m----> 1\u001b[0;31m \u001b[0mpycountry\u001b[0m\u001b[0;34m.\u001b[0m\u001b[0mcountries\u001b[0m\u001b[0;34m.\u001b[0m\u001b[0mlookup\u001b[0m\u001b[0;34m(\u001b[0m\u001b[0;34m'bd'\u001b[0m\u001b[0;34m)\u001b[0m\u001b[0;34m.\u001b[0m\u001b[0mname\u001b[0m\u001b[0;34m\u001b[0m\u001b[0;34m\u001b[0m\u001b[0m\n\u001b[0m",
      "\u001b[0;31mNameError\u001b[0m: name 'pycountry' is not defined"
     ]
    }
   ],
   "source": [
    "pycountry.countries.lookup('bd').name"
   ]
  },
  {
   "cell_type": "code",
   "execution_count": 27,
   "id": "bd90162f",
   "metadata": {},
   "outputs": [
    {
     "ename": "NameError",
     "evalue": "name 'pycountry' is not defined",
     "output_type": "error",
     "traceback": [
      "\u001b[0;31m---------------------------------------------------------------------------\u001b[0m",
      "\u001b[0;31mNameError\u001b[0m                                 Traceback (most recent call last)",
      "\u001b[0;32m/var/folders/fc/x80wfpw17pv7yb9hd44b3p5w0000gn/T/ipykernel_14446/829203311.py\u001b[0m in \u001b[0;36m<module>\u001b[0;34m\u001b[0m\n\u001b[1;32m      5\u001b[0m     \u001b[0mcc\u001b[0m\u001b[0;34m=\u001b[0m \u001b[0mstr\u001b[0m\u001b[0;34m(\u001b[0m\u001b[0mcc\u001b[0m\u001b[0;34m)\u001b[0m\u001b[0;34m.\u001b[0m\u001b[0mlower\u001b[0m\u001b[0;34m(\u001b[0m\u001b[0;34m)\u001b[0m\u001b[0;34m\u001b[0m\u001b[0;34m\u001b[0m\u001b[0m\n\u001b[1;32m      6\u001b[0m     \u001b[0;32mif\u001b[0m \u001b[0;32mnot\u001b[0m \u001b[0;34m(\u001b[0m\u001b[0mcc\u001b[0m\u001b[0;34m==\u001b[0m\u001b[0;34m'nan'\u001b[0m\u001b[0;34m)\u001b[0m\u001b[0;34m:\u001b[0m\u001b[0;34m\u001b[0m\u001b[0;34m\u001b[0m\u001b[0m\n\u001b[0;32m----> 7\u001b[0;31m         \u001b[0mcountry_name\u001b[0m \u001b[0;34m=\u001b[0m \u001b[0mpycountry\u001b[0m\u001b[0;34m.\u001b[0m\u001b[0mcountries\u001b[0m\u001b[0;34m.\u001b[0m\u001b[0mlookup\u001b[0m\u001b[0;34m(\u001b[0m\u001b[0mcc\u001b[0m\u001b[0;34m)\u001b[0m\u001b[0;34m.\u001b[0m\u001b[0mname\u001b[0m\u001b[0;34m\u001b[0m\u001b[0;34m\u001b[0m\u001b[0m\n\u001b[0m\u001b[1;32m      8\u001b[0m         \u001b[0mcountry_name_list\u001b[0m\u001b[0;34m.\u001b[0m\u001b[0mappend\u001b[0m\u001b[0;34m(\u001b[0m\u001b[0mcountry_name\u001b[0m\u001b[0;34m)\u001b[0m\u001b[0;34m\u001b[0m\u001b[0;34m\u001b[0m\u001b[0m\n\u001b[1;32m      9\u001b[0m     \u001b[0;32melse\u001b[0m\u001b[0;34m:\u001b[0m\u001b[0;34m\u001b[0m\u001b[0;34m\u001b[0m\u001b[0m\n",
      "\u001b[0;31mNameError\u001b[0m: name 'pycountry' is not defined"
     ]
    }
   ],
   "source": [
    "#Code for converting country code to Country name\n",
    "country_name_list=[]\n",
    "country_code_list= []\n",
    "for cc in ip_reputation_df['Country']:\n",
    "    cc= str(cc).lower()\n",
    "    if not (cc=='nan'):\n",
    "        country_name = pycountry.countries.lookup(cc).name\n",
    "        country_name_list.append(country_name)\n",
    "    else:\n",
    "        country_name_list.append('nan')\n",
    "\n",
    "ip_reputation_df['country_name']= country_name_list\n"
   ]
  },
  {
   "cell_type": "code",
   "execution_count": 28,
   "id": "94fba8e0",
   "metadata": {},
   "outputs": [
    {
     "data": {
      "text/html": [
       "<div>\n",
       "<style scoped>\n",
       "    .dataframe tbody tr th:only-of-type {\n",
       "        vertical-align: middle;\n",
       "    }\n",
       "\n",
       "    .dataframe tbody tr th {\n",
       "        vertical-align: top;\n",
       "    }\n",
       "\n",
       "    .dataframe thead th {\n",
       "        text-align: right;\n",
       "    }\n",
       "</style>\n",
       "<table border=\"1\" class=\"dataframe\">\n",
       "  <thead>\n",
       "    <tr style=\"text-align: right;\">\n",
       "      <th></th>\n",
       "      <th>IP</th>\n",
       "      <th>Reliability</th>\n",
       "      <th>Risk</th>\n",
       "      <th>Type</th>\n",
       "      <th>Country</th>\n",
       "      <th>Locale</th>\n",
       "      <th>Coords</th>\n",
       "      <th>lat</th>\n",
       "      <th>lon</th>\n",
       "    </tr>\n",
       "  </thead>\n",
       "  <tbody>\n",
       "    <tr>\n",
       "      <th>0</th>\n",
       "      <td>222.76.212.189</td>\n",
       "      <td>4</td>\n",
       "      <td>2</td>\n",
       "      <td>Scanning Host</td>\n",
       "      <td>cn</td>\n",
       "      <td>Xiamen</td>\n",
       "      <td>24.4797992706,118.08190155</td>\n",
       "      <td>24.479799</td>\n",
       "      <td>118.081902</td>\n",
       "    </tr>\n",
       "    <tr>\n",
       "      <th>1</th>\n",
       "      <td>222.76.212.185</td>\n",
       "      <td>4</td>\n",
       "      <td>2</td>\n",
       "      <td>Scanning Host</td>\n",
       "      <td>cn</td>\n",
       "      <td>Xiamen</td>\n",
       "      <td>24.4797992706,118.08190155</td>\n",
       "      <td>24.479799</td>\n",
       "      <td>118.081902</td>\n",
       "    </tr>\n",
       "    <tr>\n",
       "      <th>2</th>\n",
       "      <td>222.76.212.186</td>\n",
       "      <td>4</td>\n",
       "      <td>2</td>\n",
       "      <td>Scanning Host</td>\n",
       "      <td>cn</td>\n",
       "      <td>Xiamen</td>\n",
       "      <td>24.4797992706,118.08190155</td>\n",
       "      <td>24.479799</td>\n",
       "      <td>118.081902</td>\n",
       "    </tr>\n",
       "    <tr>\n",
       "      <th>3</th>\n",
       "      <td>5.34.246.67</td>\n",
       "      <td>6</td>\n",
       "      <td>3</td>\n",
       "      <td>Spamming</td>\n",
       "      <td>us</td>\n",
       "      <td>NaN</td>\n",
       "      <td>38.0,-97.0</td>\n",
       "      <td>38.000000</td>\n",
       "      <td>-97.000000</td>\n",
       "    </tr>\n",
       "    <tr>\n",
       "      <th>4</th>\n",
       "      <td>178.94.97.176</td>\n",
       "      <td>4</td>\n",
       "      <td>5</td>\n",
       "      <td>Scanning Host</td>\n",
       "      <td>ua</td>\n",
       "      <td>Merefa</td>\n",
       "      <td>49.8230018616,36.0507011414</td>\n",
       "      <td>49.823002</td>\n",
       "      <td>36.050701</td>\n",
       "    </tr>\n",
       "    <tr>\n",
       "      <th>...</th>\n",
       "      <td>...</td>\n",
       "      <td>...</td>\n",
       "      <td>...</td>\n",
       "      <td>...</td>\n",
       "      <td>...</td>\n",
       "      <td>...</td>\n",
       "      <td>...</td>\n",
       "      <td>...</td>\n",
       "      <td>...</td>\n",
       "    </tr>\n",
       "    <tr>\n",
       "      <th>9995</th>\n",
       "      <td>86.35.30.70</td>\n",
       "      <td>4</td>\n",
       "      <td>3</td>\n",
       "      <td>Scanning Host</td>\n",
       "      <td>ro</td>\n",
       "      <td>Caransebes</td>\n",
       "      <td>45.4166984558,22.2166996002</td>\n",
       "      <td>45.416698</td>\n",
       "      <td>22.216700</td>\n",
       "    </tr>\n",
       "    <tr>\n",
       "      <th>9996</th>\n",
       "      <td>86.35.30.71</td>\n",
       "      <td>4</td>\n",
       "      <td>3</td>\n",
       "      <td>Scanning Host</td>\n",
       "      <td>ro</td>\n",
       "      <td>Caransebes</td>\n",
       "      <td>45.4166984558,22.2166996002</td>\n",
       "      <td>45.416698</td>\n",
       "      <td>22.216700</td>\n",
       "    </tr>\n",
       "    <tr>\n",
       "      <th>9997</th>\n",
       "      <td>86.35.30.72</td>\n",
       "      <td>4</td>\n",
       "      <td>3</td>\n",
       "      <td>Scanning Host</td>\n",
       "      <td>ro</td>\n",
       "      <td>Caransebes</td>\n",
       "      <td>45.4166984558,22.2166996002</td>\n",
       "      <td>45.416698</td>\n",
       "      <td>22.216700</td>\n",
       "    </tr>\n",
       "    <tr>\n",
       "      <th>9998</th>\n",
       "      <td>86.35.30.73</td>\n",
       "      <td>4</td>\n",
       "      <td>3</td>\n",
       "      <td>Scanning Host</td>\n",
       "      <td>ro</td>\n",
       "      <td>Caransebes</td>\n",
       "      <td>45.4166984558,22.2166996002</td>\n",
       "      <td>45.416698</td>\n",
       "      <td>22.216700</td>\n",
       "    </tr>\n",
       "    <tr>\n",
       "      <th>9999</th>\n",
       "      <td>86.35.30.74</td>\n",
       "      <td>4</td>\n",
       "      <td>3</td>\n",
       "      <td>Scanning Host</td>\n",
       "      <td>ro</td>\n",
       "      <td>Caransebes</td>\n",
       "      <td>45.4166984558,22.2166996002</td>\n",
       "      <td>45.416698</td>\n",
       "      <td>22.216700</td>\n",
       "    </tr>\n",
       "  </tbody>\n",
       "</table>\n",
       "<p>10000 rows × 9 columns</p>\n",
       "</div>"
      ],
      "text/plain": [
       "                  IP  Reliability  Risk           Type Country      Locale  \\\n",
       "0     222.76.212.189            4     2  Scanning Host      cn      Xiamen   \n",
       "1     222.76.212.185            4     2  Scanning Host      cn      Xiamen   \n",
       "2     222.76.212.186            4     2  Scanning Host      cn      Xiamen   \n",
       "3        5.34.246.67            6     3       Spamming      us         NaN   \n",
       "4      178.94.97.176            4     5  Scanning Host      ua      Merefa   \n",
       "...              ...          ...   ...            ...     ...         ...   \n",
       "9995     86.35.30.70            4     3  Scanning Host      ro  Caransebes   \n",
       "9996     86.35.30.71            4     3  Scanning Host      ro  Caransebes   \n",
       "9997     86.35.30.72            4     3  Scanning Host      ro  Caransebes   \n",
       "9998     86.35.30.73            4     3  Scanning Host      ro  Caransebes   \n",
       "9999     86.35.30.74            4     3  Scanning Host      ro  Caransebes   \n",
       "\n",
       "                           Coords        lat         lon  \n",
       "0      24.4797992706,118.08190155  24.479799  118.081902  \n",
       "1      24.4797992706,118.08190155  24.479799  118.081902  \n",
       "2      24.4797992706,118.08190155  24.479799  118.081902  \n",
       "3                      38.0,-97.0  38.000000  -97.000000  \n",
       "4     49.8230018616,36.0507011414  49.823002   36.050701  \n",
       "...                           ...        ...         ...  \n",
       "9995  45.4166984558,22.2166996002  45.416698   22.216700  \n",
       "9996  45.4166984558,22.2166996002  45.416698   22.216700  \n",
       "9997  45.4166984558,22.2166996002  45.416698   22.216700  \n",
       "9998  45.4166984558,22.2166996002  45.416698   22.216700  \n",
       "9999  45.4166984558,22.2166996002  45.416698   22.216700  \n",
       "\n",
       "[10000 rows x 9 columns]"
      ]
     },
     "execution_count": 28,
     "metadata": {},
     "output_type": "execute_result"
    }
   ],
   "source": [
    "ip_reputation_df"
   ]
  },
  {
   "cell_type": "code",
   "execution_count": 29,
   "id": "43f03dee",
   "metadata": {},
   "outputs": [
    {
     "ename": "KeyError",
     "evalue": "'country_name'",
     "output_type": "error",
     "traceback": [
      "\u001b[0;31m---------------------------------------------------------------------------\u001b[0m",
      "\u001b[0;31mKeyError\u001b[0m                                  Traceback (most recent call last)",
      "\u001b[0;32m~/opt/anaconda3/lib/python3.9/site-packages/pandas/core/indexes/base.py\u001b[0m in \u001b[0;36mget_loc\u001b[0;34m(self, key, method, tolerance)\u001b[0m\n\u001b[1;32m   3360\u001b[0m             \u001b[0;32mtry\u001b[0m\u001b[0;34m:\u001b[0m\u001b[0;34m\u001b[0m\u001b[0;34m\u001b[0m\u001b[0m\n\u001b[0;32m-> 3361\u001b[0;31m                 \u001b[0;32mreturn\u001b[0m \u001b[0mself\u001b[0m\u001b[0;34m.\u001b[0m\u001b[0m_engine\u001b[0m\u001b[0;34m.\u001b[0m\u001b[0mget_loc\u001b[0m\u001b[0;34m(\u001b[0m\u001b[0mcasted_key\u001b[0m\u001b[0;34m)\u001b[0m\u001b[0;34m\u001b[0m\u001b[0;34m\u001b[0m\u001b[0m\n\u001b[0m\u001b[1;32m   3362\u001b[0m             \u001b[0;32mexcept\u001b[0m \u001b[0mKeyError\u001b[0m \u001b[0;32mas\u001b[0m \u001b[0merr\u001b[0m\u001b[0;34m:\u001b[0m\u001b[0;34m\u001b[0m\u001b[0;34m\u001b[0m\u001b[0m\n",
      "\u001b[0;32m~/opt/anaconda3/lib/python3.9/site-packages/pandas/_libs/index.pyx\u001b[0m in \u001b[0;36mpandas._libs.index.IndexEngine.get_loc\u001b[0;34m()\u001b[0m\n",
      "\u001b[0;32m~/opt/anaconda3/lib/python3.9/site-packages/pandas/_libs/index.pyx\u001b[0m in \u001b[0;36mpandas._libs.index.IndexEngine.get_loc\u001b[0;34m()\u001b[0m\n",
      "\u001b[0;32mpandas/_libs/hashtable_class_helper.pxi\u001b[0m in \u001b[0;36mpandas._libs.hashtable.PyObjectHashTable.get_item\u001b[0;34m()\u001b[0m\n",
      "\u001b[0;32mpandas/_libs/hashtable_class_helper.pxi\u001b[0m in \u001b[0;36mpandas._libs.hashtable.PyObjectHashTable.get_item\u001b[0;34m()\u001b[0m\n",
      "\u001b[0;31mKeyError\u001b[0m: 'country_name'",
      "\nThe above exception was the direct cause of the following exception:\n",
      "\u001b[0;31mKeyError\u001b[0m                                  Traceback (most recent call last)",
      "\u001b[0;32m/var/folders/fc/x80wfpw17pv7yb9hd44b3p5w0000gn/T/ipykernel_14446/698806049.py\u001b[0m in \u001b[0;36m<module>\u001b[0;34m\u001b[0m\n\u001b[0;32m----> 1\u001b[0;31m \u001b[0mcountry_df\u001b[0m \u001b[0;34m=\u001b[0m \u001b[0mip_reputation_df\u001b[0m\u001b[0;34m[\u001b[0m\u001b[0;34m'country_name'\u001b[0m\u001b[0;34m]\u001b[0m\u001b[0;34m.\u001b[0m\u001b[0mvalue_counts\u001b[0m\u001b[0;34m(\u001b[0m\u001b[0;34m)\u001b[0m\u001b[0;34m\u001b[0m\u001b[0;34m\u001b[0m\u001b[0m\n\u001b[0m",
      "\u001b[0;32m~/opt/anaconda3/lib/python3.9/site-packages/pandas/core/frame.py\u001b[0m in \u001b[0;36m__getitem__\u001b[0;34m(self, key)\u001b[0m\n\u001b[1;32m   3456\u001b[0m             \u001b[0;32mif\u001b[0m \u001b[0mself\u001b[0m\u001b[0;34m.\u001b[0m\u001b[0mcolumns\u001b[0m\u001b[0;34m.\u001b[0m\u001b[0mnlevels\u001b[0m \u001b[0;34m>\u001b[0m \u001b[0;36m1\u001b[0m\u001b[0;34m:\u001b[0m\u001b[0;34m\u001b[0m\u001b[0;34m\u001b[0m\u001b[0m\n\u001b[1;32m   3457\u001b[0m                 \u001b[0;32mreturn\u001b[0m \u001b[0mself\u001b[0m\u001b[0;34m.\u001b[0m\u001b[0m_getitem_multilevel\u001b[0m\u001b[0;34m(\u001b[0m\u001b[0mkey\u001b[0m\u001b[0;34m)\u001b[0m\u001b[0;34m\u001b[0m\u001b[0;34m\u001b[0m\u001b[0m\n\u001b[0;32m-> 3458\u001b[0;31m             \u001b[0mindexer\u001b[0m \u001b[0;34m=\u001b[0m \u001b[0mself\u001b[0m\u001b[0;34m.\u001b[0m\u001b[0mcolumns\u001b[0m\u001b[0;34m.\u001b[0m\u001b[0mget_loc\u001b[0m\u001b[0;34m(\u001b[0m\u001b[0mkey\u001b[0m\u001b[0;34m)\u001b[0m\u001b[0;34m\u001b[0m\u001b[0;34m\u001b[0m\u001b[0m\n\u001b[0m\u001b[1;32m   3459\u001b[0m             \u001b[0;32mif\u001b[0m \u001b[0mis_integer\u001b[0m\u001b[0;34m(\u001b[0m\u001b[0mindexer\u001b[0m\u001b[0;34m)\u001b[0m\u001b[0;34m:\u001b[0m\u001b[0;34m\u001b[0m\u001b[0;34m\u001b[0m\u001b[0m\n\u001b[1;32m   3460\u001b[0m                 \u001b[0mindexer\u001b[0m \u001b[0;34m=\u001b[0m \u001b[0;34m[\u001b[0m\u001b[0mindexer\u001b[0m\u001b[0;34m]\u001b[0m\u001b[0;34m\u001b[0m\u001b[0;34m\u001b[0m\u001b[0m\n",
      "\u001b[0;32m~/opt/anaconda3/lib/python3.9/site-packages/pandas/core/indexes/base.py\u001b[0m in \u001b[0;36mget_loc\u001b[0;34m(self, key, method, tolerance)\u001b[0m\n\u001b[1;32m   3361\u001b[0m                 \u001b[0;32mreturn\u001b[0m \u001b[0mself\u001b[0m\u001b[0;34m.\u001b[0m\u001b[0m_engine\u001b[0m\u001b[0;34m.\u001b[0m\u001b[0mget_loc\u001b[0m\u001b[0;34m(\u001b[0m\u001b[0mcasted_key\u001b[0m\u001b[0;34m)\u001b[0m\u001b[0;34m\u001b[0m\u001b[0;34m\u001b[0m\u001b[0m\n\u001b[1;32m   3362\u001b[0m             \u001b[0;32mexcept\u001b[0m \u001b[0mKeyError\u001b[0m \u001b[0;32mas\u001b[0m \u001b[0merr\u001b[0m\u001b[0;34m:\u001b[0m\u001b[0;34m\u001b[0m\u001b[0;34m\u001b[0m\u001b[0m\n\u001b[0;32m-> 3363\u001b[0;31m                 \u001b[0;32mraise\u001b[0m \u001b[0mKeyError\u001b[0m\u001b[0;34m(\u001b[0m\u001b[0mkey\u001b[0m\u001b[0;34m)\u001b[0m \u001b[0;32mfrom\u001b[0m \u001b[0merr\u001b[0m\u001b[0;34m\u001b[0m\u001b[0;34m\u001b[0m\u001b[0m\n\u001b[0m\u001b[1;32m   3364\u001b[0m \u001b[0;34m\u001b[0m\u001b[0m\n\u001b[1;32m   3365\u001b[0m         \u001b[0;32mif\u001b[0m \u001b[0mis_scalar\u001b[0m\u001b[0;34m(\u001b[0m\u001b[0mkey\u001b[0m\u001b[0;34m)\u001b[0m \u001b[0;32mand\u001b[0m \u001b[0misna\u001b[0m\u001b[0;34m(\u001b[0m\u001b[0mkey\u001b[0m\u001b[0;34m)\u001b[0m \u001b[0;32mand\u001b[0m \u001b[0;32mnot\u001b[0m \u001b[0mself\u001b[0m\u001b[0;34m.\u001b[0m\u001b[0mhasnans\u001b[0m\u001b[0;34m:\u001b[0m\u001b[0;34m\u001b[0m\u001b[0;34m\u001b[0m\u001b[0m\n",
      "\u001b[0;31mKeyError\u001b[0m: 'country_name'"
     ]
    }
   ],
   "source": [
    "country_df = ip_reputation_df['country_name'].value_counts()"
   ]
  },
  {
   "cell_type": "code",
   "execution_count": null,
   "id": "e57999ae",
   "metadata": {},
   "outputs": [],
   "source": [
    "country_df.to_csv(\"country_name_dis.csv\")"
   ]
  },
  {
   "cell_type": "code",
   "execution_count": null,
   "id": "ba4d1162",
   "metadata": {},
   "outputs": [],
   "source": [
    "ip_reputation_df['Type'].value_counts()"
   ]
  },
  {
   "cell_type": "code",
   "execution_count": null,
   "id": "ae514211",
   "metadata": {},
   "outputs": [],
   "source": [
    "ip_reputation_df['Risk'].value_counts()"
   ]
  },
  {
   "cell_type": "code",
   "execution_count": null,
   "id": "3347802b",
   "metadata": {},
   "outputs": [],
   "source": [
    "ip_reputation_df['Reliability'].value_counts()"
   ]
  },
  {
   "cell_type": "code",
   "execution_count": null,
   "id": "9f8c878d",
   "metadata": {},
   "outputs": [],
   "source": [
    "# Further Analysis Questions:\n",
    "#In class Activities: \n",
    "##Q1: What is the distribution of Risk scores for \"Germany\" geo-located IPs? \n",
    "    #Q1.1: How it is different from the US geo-located IPs? (Hint: Ideally two bar graphs can be used)  \n",
    "##Q2: What is the distribution of Reliability scores for \"Brazil\" geo-located IPs? \n",
    "    #Q2.1: How it is different from the \"Chinese\" geo-located IPs? (Hint: Same as Q1)\n",
    "##Q3. What are top 5 maliciousness within \"US\" geo-located IPs versus \"Chinese\" geo-located IPs? \n",
    "    ##Q3.1 Are they same of different? "
   ]
  },
  {
   "cell_type": "code",
   "execution_count": null,
   "id": "897253e3",
   "metadata": {},
   "outputs": [],
   "source": [
    "# Code for iterating the IP column, and check if the IP is in a certain CIDR block\n",
    "target_subnet= \"5.34.246.0/24\"\n",
    "ip_in_target_subnet_list=[]\n",
    "for ip_add in ip_reputation_df['IP']:\n",
    "    if ip_is_in_cidr(ip_add, target_subnet):\n",
    "        ip_in_target_subnet_list.append(ip_add)\n",
    "\n",
    "print(len(ip_in_target_subnet_list))\n",
    "    \n"
   ]
  },
  {
   "cell_type": "code",
   "execution_count": 35,
   "id": "74e3ed78",
   "metadata": {},
   "outputs": [],
   "source": [
    "# removing leading zeros in any string\n",
    "\n",
    "def deleteLeadingZeros(inputString):\n",
    "   # traversing through the length of the string\n",
    "   for k in range(len(inputString)):\n",
    "      # checking whether the current character of a string is not 0\n",
    "      if inputString[k] != '0':\n",
    "         # getting the remaining string using slicing\n",
    "         outputString= inputString[k::]\n",
    "         # returning resultant string after removing leading 0s\n",
    "         return outputString\n",
    "   # returning 0 if there are no leading 0s found in the entire string\n",
    "   return \"0\""
   ]
  },
  {
   "cell_type": "code",
   "execution_count": 36,
   "id": "838d558c",
   "metadata": {},
   "outputs": [
    {
     "name": "stdout",
     "output_type": "stream",
     "text": [
      "53/8\n"
     ]
    }
   ],
   "source": [
    "output_string = deleteLeadingZeros(\"053/8\")\n",
    "print(output_string)"
   ]
  },
  {
   "cell_type": "code",
   "execution_count": 30,
   "id": "2c30a044",
   "metadata": {},
   "outputs": [],
   "source": [
    "# load the IPV4 address space data - start class here ... 28 Feb, 2023\n",
    "ip_address_space_df = pd.read_csv(\"ipv4-address-space.csv\")"
   ]
  },
  {
   "cell_type": "code",
   "execution_count": 31,
   "id": "953f61cc",
   "metadata": {},
   "outputs": [
    {
     "data": {
      "text/plain": [
       "(256, 6)"
      ]
     },
     "execution_count": 31,
     "metadata": {},
     "output_type": "execute_result"
    }
   ],
   "source": [
    "ip_address_space_df.shape"
   ]
  },
  {
   "cell_type": "code",
   "execution_count": 32,
   "id": "fd48fbc0",
   "metadata": {},
   "outputs": [
    {
     "data": {
      "text/html": [
       "<div>\n",
       "<style scoped>\n",
       "    .dataframe tbody tr th:only-of-type {\n",
       "        vertical-align: middle;\n",
       "    }\n",
       "\n",
       "    .dataframe tbody tr th {\n",
       "        vertical-align: top;\n",
       "    }\n",
       "\n",
       "    .dataframe thead th {\n",
       "        text-align: right;\n",
       "    }\n",
       "</style>\n",
       "<table border=\"1\" class=\"dataframe\">\n",
       "  <thead>\n",
       "    <tr style=\"text-align: right;\">\n",
       "      <th></th>\n",
       "      <th>Prefix</th>\n",
       "      <th>Designation</th>\n",
       "      <th>Date</th>\n",
       "      <th>Whois</th>\n",
       "      <th>Status [1]</th>\n",
       "      <th>Note</th>\n",
       "    </tr>\n",
       "  </thead>\n",
       "  <tbody>\n",
       "    <tr>\n",
       "      <th>0</th>\n",
       "      <td>000/8</td>\n",
       "      <td>IANA - Local Identification</td>\n",
       "      <td>1981-09</td>\n",
       "      <td>NaN</td>\n",
       "      <td>RESERVED</td>\n",
       "      <td>[2]</td>\n",
       "    </tr>\n",
       "    <tr>\n",
       "      <th>1</th>\n",
       "      <td>001/8</td>\n",
       "      <td>APNIC</td>\n",
       "      <td>2010-01</td>\n",
       "      <td>whois.apnic.net</td>\n",
       "      <td>ALLOCATED</td>\n",
       "      <td>NaN</td>\n",
       "    </tr>\n",
       "    <tr>\n",
       "      <th>2</th>\n",
       "      <td>002/8</td>\n",
       "      <td>RIPE NCC</td>\n",
       "      <td>2009-09</td>\n",
       "      <td>whois.ripe.net</td>\n",
       "      <td>ALLOCATED</td>\n",
       "      <td>NaN</td>\n",
       "    </tr>\n",
       "    <tr>\n",
       "      <th>3</th>\n",
       "      <td>003/8</td>\n",
       "      <td>General Electric Company</td>\n",
       "      <td>1994-05</td>\n",
       "      <td>whois.arin.net</td>\n",
       "      <td>LEGACY</td>\n",
       "      <td>NaN</td>\n",
       "    </tr>\n",
       "    <tr>\n",
       "      <th>4</th>\n",
       "      <td>004/8</td>\n",
       "      <td>Level 3 Communications, Inc.</td>\n",
       "      <td>1992-12</td>\n",
       "      <td>whois.arin.net</td>\n",
       "      <td>LEGACY</td>\n",
       "      <td>NaN</td>\n",
       "    </tr>\n",
       "  </tbody>\n",
       "</table>\n",
       "</div>"
      ],
      "text/plain": [
       "  Prefix                   Designation     Date            Whois Status [1]  \\\n",
       "0  000/8   IANA - Local Identification  1981-09              NaN   RESERVED   \n",
       "1  001/8                         APNIC  2010-01  whois.apnic.net  ALLOCATED   \n",
       "2  002/8                      RIPE NCC  2009-09   whois.ripe.net  ALLOCATED   \n",
       "3  003/8      General Electric Company  1994-05   whois.arin.net     LEGACY   \n",
       "4  004/8  Level 3 Communications, Inc.  1992-12   whois.arin.net     LEGACY   \n",
       "\n",
       "  Note  \n",
       "0  [2]  \n",
       "1  NaN  \n",
       "2  NaN  \n",
       "3  NaN  \n",
       "4  NaN  "
      ]
     },
     "execution_count": 32,
     "metadata": {},
     "output_type": "execute_result"
    }
   ],
   "source": [
    "ip_address_space_df.head(5)"
   ]
  },
  {
   "cell_type": "code",
   "execution_count": 33,
   "id": "5ecc2680",
   "metadata": {},
   "outputs": [
    {
     "data": {
      "text/plain": [
       "ALLOCATED      125\n",
       "LEGACY          90\n",
       "RESERVED        35\n",
       "t ALLOCATED      4\n",
       "t   LEGACY       2\n",
       "Name: Status [1], dtype: int64"
      ]
     },
     "execution_count": 33,
     "metadata": {},
     "output_type": "execute_result"
    }
   ],
   "source": [
    "ip_address_space_df[\"Status [1]\"].value_counts()\n",
    "# Legacy networks have a single global IP address range that cannot be divided into subnets. \n",
    "# Reference: https://en.wikipedia.org/wiki/List_of_assigned_/8_IPv4_address_blocks"
   ]
  },
  {
   "cell_type": "markdown",
   "id": "1e97b2ba",
   "metadata": {},
   "source": [
    "# Approach 1 for correct subnet addressing"
   ]
  },
  {
   "cell_type": "code",
   "execution_count": 37,
   "id": "209eeaff",
   "metadata": {},
   "outputs": [],
   "source": [
    "#Q: Can we convert the prefix into an actual standard subnet address (8 bits subnets).\n",
    "# E,g,. 004/8 => 4.0.0.0/8    or 015/8 => 15.0.0.0/8 \n",
    "# approach 1\n",
    "subnet_address8bits_list= []\n",
    "for subnet_prefix in ip_address_space_df['Prefix']:\n",
    "    cleaner_subnet_prefix = deleteLeadingZeros(subnet_prefix) # removing leading 0's\n",
    "    #print(cleaner_subnet_prefix)\n",
    "    if cleaner_subnet_prefix ==\"/8\":\n",
    "        cleaner_subnet_prefix = \"0/8\"\n",
    "    temp_subnet_fix = cleaner_subnet_prefix.split(\"/\")\n",
    "    #print(temp_subnet_fix)\n",
    "    actual_subnet_address = temp_subnet_fix[0]+ \".0.0.0/8\"\n",
    "    #print(actual_subnet_address)\n",
    "    subnet_address8bits_list.append(actual_subnet_address)\n",
    "ip_address_space_df[\"subnet_8\"] = subnet_address8bits_list"
   ]
  },
  {
   "cell_type": "markdown",
   "id": "6983f7cf",
   "metadata": {},
   "source": [
    "# Approach 2 for correct subnet addressing"
   ]
  },
  {
   "cell_type": "code",
   "execution_count": 38,
   "id": "5ac37558",
   "metadata": {},
   "outputs": [],
   "source": [
    "# Step 1: remoing leading 0s\n",
    "ip_address_space_df[\"subnet_8\"] = ip_address_space_df[\"Prefix\"].str.lstrip('0')\n",
    "# Step 2: finding the first octet\n",
    "ip_address_space_df[\"subnet_8\"] = ip_address_space_df[\"subnet_8\"].str.split(\"/\").str[:1].str.join(\".\") \n",
    "# step 3: Conditional concatination in pandas dataframe [fixing all 0 part]\n",
    "ip_address_space_df[\"subnet_8\"] = [\"0.0.0.0/8\" if x==\"\" else x + \".0.0.0/8\" for x in ip_address_space_df[\"subnet_8\"]]\n"
   ]
  },
  {
   "cell_type": "markdown",
   "id": "0751ccd1",
   "metadata": {},
   "source": [
    "# Creating the Subnet column in the IP Reputation dataset"
   ]
  },
  {
   "cell_type": "code",
   "execution_count": null,
   "id": "6e4038ec",
   "metadata": {},
   "outputs": [],
   "source": [
    "# Add 8 bit subnet for the original dataset\n",
    "#Create a \"subnet_8\" column like the one in the IPv4 address space dataset above. \n",
    "\n",
    "#print(\"The number of 8 bits unique subnets in the dataset is:\",total_unique_subnets)\n"
   ]
  },
  {
   "cell_type": "markdown",
   "id": "f9320db1",
   "metadata": {},
   "source": [
    "# Group By method to calclate risk or reliablity of each subnets"
   ]
  },
  {
   "cell_type": "code",
   "execution_count": null,
   "id": "94f41cf4",
   "metadata": {},
   "outputs": [],
   "source": [
    "#subnet_8bits_risk = ip_reputation_df.groupby(\"subnet_8\")[\"Risk\"].agg([\"mean\", \"count\"]).reset_index()\n",
    "#subnet_8bits_risk.columns = [\"subnet_8\", \"subnet_risk\", \"count\"]\n",
    "#subnet_8bits_risk = subnet_risk[[\"subnet_8\", \"subnet_risk\"]]\n",
    "#subnet_8bits_risk"
   ]
  },
  {
   "cell_type": "code",
   "execution_count": null,
   "id": "8830bfd5",
   "metadata": {},
   "outputs": [],
   "source": [
    "#ip_reputation_df"
   ]
  },
  {
   "cell_type": "code",
   "execution_count": null,
   "id": "7f320573",
   "metadata": {},
   "outputs": [],
   "source": [
    "# merge() expects 2 dfs, and the specific columns [there can be multiple columns to merge on]\n",
    "# hint: new_merged_df = pd.merge(df1, df2, on=['col_name'])\n",
    "# Q: Can we merge the 10K IP reputation data with the IPv4 dataset on the \"subnet_8\" column.\n"
   ]
  },
  {
   "cell_type": "code",
   "execution_count": null,
   "id": "dfc9febd",
   "metadata": {},
   "outputs": [],
   "source": [
    "#merged_IP_df"
   ]
  },
  {
   "cell_type": "code",
   "execution_count": null,
   "id": "b32781f7",
   "metadata": {},
   "outputs": [],
   "source": [
    "merged_IP_df['Designation'].value_counts()"
   ]
  },
  {
   "cell_type": "markdown",
   "id": "ea3809b8",
   "metadata": {},
   "source": [
    "# Correlation Analysis (Pearson) between numeric columns"
   ]
  },
  {
   "cell_type": "code",
   "execution_count": null,
   "id": "b67a55dd",
   "metadata": {},
   "outputs": [],
   "source": [
    "# correlation analysis between 2 pandas column\n",
    "# Correlatoin interpretation: \n",
    "#If postive corr-coeff then it means: if one increase the other increase, if one variable decrease \n",
    "# the other decrease as well. \n",
    "#If negative corr-coeff then it means: if one increase the other decrease, if one variable decrease \n",
    "# the other increase. \n",
    "# If close to +1 or -1 then 'strong' correlatoin. If close to 0 then 'weak' correlation.\n",
    "\n",
    "# approach 1\n",
    "corr = merged_IP_df['Risk'].corr(merged_IP_df['Reliability'])"
   ]
  },
  {
   "cell_type": "code",
   "execution_count": null,
   "id": "7505ea25",
   "metadata": {},
   "outputs": [],
   "source": [
    "round(corr, 2)"
   ]
  },
  {
   "cell_type": "code",
   "execution_count": null,
   "id": "49452479",
   "metadata": {},
   "outputs": [],
   "source": [
    "corr_col_data = merged_IP_df[['Risk', 'Reliability']]"
   ]
  },
  {
   "cell_type": "code",
   "execution_count": null,
   "id": "6e21b72d",
   "metadata": {},
   "outputs": [],
   "source": [
    "correlation = corr_col_data.corr(method='pearson')"
   ]
  },
  {
   "cell_type": "code",
   "execution_count": null,
   "id": "a39df22c",
   "metadata": {},
   "outputs": [],
   "source": [
    "correlation"
   ]
  },
  {
   "cell_type": "code",
   "execution_count": null,
   "id": "fd88e87e",
   "metadata": {},
   "outputs": [],
   "source": [
    "# scatterplot to observe data  distribution\n",
    "import seaborn as sns\n",
    "sns.scatterplot(x='Risk', y= 'Reliability', data= merged_IP_df)"
   ]
  },
  {
   "cell_type": "code",
   "execution_count": null,
   "id": "cd2ac31f",
   "metadata": {},
   "outputs": [],
   "source": [
    "# adding the best fit (linear model) line to see the trend \n",
    "sns.lmplot(x='Risk', y= 'Reliability', data= merged_IP_df)"
   ]
  },
  {
   "cell_type": "code",
   "execution_count": null,
   "id": "cb25b355",
   "metadata": {},
   "outputs": [],
   "source": [
    "# adding the best fit (linear model) line to see the trend While having 3 dimension (color is helping the \n",
    "#3rd dimension)\n",
    "sns.lmplot(x='Risk', y= 'Reliability', hue='Designation', data= merged_IP_df)"
   ]
  },
  {
   "cell_type": "code",
   "execution_count": null,
   "id": "f678ba8c",
   "metadata": {},
   "outputs": [],
   "source": [
    "#pearson correlation coefficient along with p-value\n",
    "from scipy import stats\n",
    "stats.pearsonr(merged_IP_df['Risk'],merged_IP_df['Reliability'])"
   ]
  },
  {
   "cell_type": "code",
   "execution_count": null,
   "id": "8a2c35f0",
   "metadata": {},
   "outputs": [],
   "source": [
    "# scatter plot matrix [all numeric variable's pairwise scatterplot and bar graphs]\n",
    "sns.pairplot(merged_IP_df)"
   ]
  },
  {
   "cell_type": "markdown",
   "id": "04d6f233",
   "metadata": {},
   "source": [
    "# Working with the Zeus Botnets Data "
   ]
  },
  {
   "cell_type": "code",
   "execution_count": 40,
   "id": "9a70901b",
   "metadata": {},
   "outputs": [
    {
     "ename": "FileNotFoundError",
     "evalue": "[Errno 2] No such file or directory: 'zeus-book.csv'",
     "output_type": "error",
     "traceback": [
      "\u001b[0;31m---------------------------------------------------------------------------\u001b[0m",
      "\u001b[0;31mFileNotFoundError\u001b[0m                         Traceback (most recent call last)",
      "\u001b[0;32m/var/folders/fc/x80wfpw17pv7yb9hd44b3p5w0000gn/T/ipykernel_14446/464279496.py\u001b[0m in \u001b[0;36m<module>\u001b[0;34m\u001b[0m\n\u001b[1;32m      2\u001b[0m \u001b[0;31m# networks, online banking accounts, FTP accounts, email accounts, and websites ...\u001b[0m\u001b[0;34m\u001b[0m\u001b[0;34m\u001b[0m\u001b[0m\n\u001b[1;32m      3\u001b[0m \u001b[0;34m\u001b[0m\u001b[0m\n\u001b[0;32m----> 4\u001b[0;31m \u001b[0mzbot_df\u001b[0m \u001b[0;34m=\u001b[0m \u001b[0mpd\u001b[0m\u001b[0;34m.\u001b[0m\u001b[0mread_csv\u001b[0m\u001b[0;34m(\u001b[0m\u001b[0;34m\"zeus-book.csv\"\u001b[0m\u001b[0;34m)\u001b[0m\u001b[0;34m\u001b[0m\u001b[0;34m\u001b[0m\u001b[0m\n\u001b[0m\u001b[1;32m      5\u001b[0m \u001b[0;31m# skiprows skip the first n lines from the csv file\u001b[0m\u001b[0;34m\u001b[0m\u001b[0;34m\u001b[0m\u001b[0m\n",
      "\u001b[0;32m~/opt/anaconda3/lib/python3.9/site-packages/pandas/util/_decorators.py\u001b[0m in \u001b[0;36mwrapper\u001b[0;34m(*args, **kwargs)\u001b[0m\n\u001b[1;32m    309\u001b[0m                     \u001b[0mstacklevel\u001b[0m\u001b[0;34m=\u001b[0m\u001b[0mstacklevel\u001b[0m\u001b[0;34m,\u001b[0m\u001b[0;34m\u001b[0m\u001b[0;34m\u001b[0m\u001b[0m\n\u001b[1;32m    310\u001b[0m                 )\n\u001b[0;32m--> 311\u001b[0;31m             \u001b[0;32mreturn\u001b[0m \u001b[0mfunc\u001b[0m\u001b[0;34m(\u001b[0m\u001b[0;34m*\u001b[0m\u001b[0margs\u001b[0m\u001b[0;34m,\u001b[0m \u001b[0;34m**\u001b[0m\u001b[0mkwargs\u001b[0m\u001b[0;34m)\u001b[0m\u001b[0;34m\u001b[0m\u001b[0;34m\u001b[0m\u001b[0m\n\u001b[0m\u001b[1;32m    312\u001b[0m \u001b[0;34m\u001b[0m\u001b[0m\n\u001b[1;32m    313\u001b[0m         \u001b[0;32mreturn\u001b[0m \u001b[0mwrapper\u001b[0m\u001b[0;34m\u001b[0m\u001b[0;34m\u001b[0m\u001b[0m\n",
      "\u001b[0;32m~/opt/anaconda3/lib/python3.9/site-packages/pandas/io/parsers/readers.py\u001b[0m in \u001b[0;36mread_csv\u001b[0;34m(filepath_or_buffer, sep, delimiter, header, names, index_col, usecols, squeeze, prefix, mangle_dupe_cols, dtype, engine, converters, true_values, false_values, skipinitialspace, skiprows, skipfooter, nrows, na_values, keep_default_na, na_filter, verbose, skip_blank_lines, parse_dates, infer_datetime_format, keep_date_col, date_parser, dayfirst, cache_dates, iterator, chunksize, compression, thousands, decimal, lineterminator, quotechar, quoting, doublequote, escapechar, comment, encoding, encoding_errors, dialect, error_bad_lines, warn_bad_lines, on_bad_lines, delim_whitespace, low_memory, memory_map, float_precision, storage_options)\u001b[0m\n\u001b[1;32m    584\u001b[0m     \u001b[0mkwds\u001b[0m\u001b[0;34m.\u001b[0m\u001b[0mupdate\u001b[0m\u001b[0;34m(\u001b[0m\u001b[0mkwds_defaults\u001b[0m\u001b[0;34m)\u001b[0m\u001b[0;34m\u001b[0m\u001b[0;34m\u001b[0m\u001b[0m\n\u001b[1;32m    585\u001b[0m \u001b[0;34m\u001b[0m\u001b[0m\n\u001b[0;32m--> 586\u001b[0;31m     \u001b[0;32mreturn\u001b[0m \u001b[0m_read\u001b[0m\u001b[0;34m(\u001b[0m\u001b[0mfilepath_or_buffer\u001b[0m\u001b[0;34m,\u001b[0m \u001b[0mkwds\u001b[0m\u001b[0;34m)\u001b[0m\u001b[0;34m\u001b[0m\u001b[0;34m\u001b[0m\u001b[0m\n\u001b[0m\u001b[1;32m    587\u001b[0m \u001b[0;34m\u001b[0m\u001b[0m\n\u001b[1;32m    588\u001b[0m \u001b[0;34m\u001b[0m\u001b[0m\n",
      "\u001b[0;32m~/opt/anaconda3/lib/python3.9/site-packages/pandas/io/parsers/readers.py\u001b[0m in \u001b[0;36m_read\u001b[0;34m(filepath_or_buffer, kwds)\u001b[0m\n\u001b[1;32m    480\u001b[0m \u001b[0;34m\u001b[0m\u001b[0m\n\u001b[1;32m    481\u001b[0m     \u001b[0;31m# Create the parser.\u001b[0m\u001b[0;34m\u001b[0m\u001b[0;34m\u001b[0m\u001b[0m\n\u001b[0;32m--> 482\u001b[0;31m     \u001b[0mparser\u001b[0m \u001b[0;34m=\u001b[0m \u001b[0mTextFileReader\u001b[0m\u001b[0;34m(\u001b[0m\u001b[0mfilepath_or_buffer\u001b[0m\u001b[0;34m,\u001b[0m \u001b[0;34m**\u001b[0m\u001b[0mkwds\u001b[0m\u001b[0;34m)\u001b[0m\u001b[0;34m\u001b[0m\u001b[0;34m\u001b[0m\u001b[0m\n\u001b[0m\u001b[1;32m    483\u001b[0m \u001b[0;34m\u001b[0m\u001b[0m\n\u001b[1;32m    484\u001b[0m     \u001b[0;32mif\u001b[0m \u001b[0mchunksize\u001b[0m \u001b[0;32mor\u001b[0m \u001b[0miterator\u001b[0m\u001b[0;34m:\u001b[0m\u001b[0;34m\u001b[0m\u001b[0;34m\u001b[0m\u001b[0m\n",
      "\u001b[0;32m~/opt/anaconda3/lib/python3.9/site-packages/pandas/io/parsers/readers.py\u001b[0m in \u001b[0;36m__init__\u001b[0;34m(self, f, engine, **kwds)\u001b[0m\n\u001b[1;32m    809\u001b[0m             \u001b[0mself\u001b[0m\u001b[0;34m.\u001b[0m\u001b[0moptions\u001b[0m\u001b[0;34m[\u001b[0m\u001b[0;34m\"has_index_names\"\u001b[0m\u001b[0;34m]\u001b[0m \u001b[0;34m=\u001b[0m \u001b[0mkwds\u001b[0m\u001b[0;34m[\u001b[0m\u001b[0;34m\"has_index_names\"\u001b[0m\u001b[0;34m]\u001b[0m\u001b[0;34m\u001b[0m\u001b[0;34m\u001b[0m\u001b[0m\n\u001b[1;32m    810\u001b[0m \u001b[0;34m\u001b[0m\u001b[0m\n\u001b[0;32m--> 811\u001b[0;31m         \u001b[0mself\u001b[0m\u001b[0;34m.\u001b[0m\u001b[0m_engine\u001b[0m \u001b[0;34m=\u001b[0m \u001b[0mself\u001b[0m\u001b[0;34m.\u001b[0m\u001b[0m_make_engine\u001b[0m\u001b[0;34m(\u001b[0m\u001b[0mself\u001b[0m\u001b[0;34m.\u001b[0m\u001b[0mengine\u001b[0m\u001b[0;34m)\u001b[0m\u001b[0;34m\u001b[0m\u001b[0;34m\u001b[0m\u001b[0m\n\u001b[0m\u001b[1;32m    812\u001b[0m \u001b[0;34m\u001b[0m\u001b[0m\n\u001b[1;32m    813\u001b[0m     \u001b[0;32mdef\u001b[0m \u001b[0mclose\u001b[0m\u001b[0;34m(\u001b[0m\u001b[0mself\u001b[0m\u001b[0;34m)\u001b[0m\u001b[0;34m:\u001b[0m\u001b[0;34m\u001b[0m\u001b[0;34m\u001b[0m\u001b[0m\n",
      "\u001b[0;32m~/opt/anaconda3/lib/python3.9/site-packages/pandas/io/parsers/readers.py\u001b[0m in \u001b[0;36m_make_engine\u001b[0;34m(self, engine)\u001b[0m\n\u001b[1;32m   1038\u001b[0m             )\n\u001b[1;32m   1039\u001b[0m         \u001b[0;31m# error: Too many arguments for \"ParserBase\"\u001b[0m\u001b[0;34m\u001b[0m\u001b[0;34m\u001b[0m\u001b[0m\n\u001b[0;32m-> 1040\u001b[0;31m         \u001b[0;32mreturn\u001b[0m \u001b[0mmapping\u001b[0m\u001b[0;34m[\u001b[0m\u001b[0mengine\u001b[0m\u001b[0;34m]\u001b[0m\u001b[0;34m(\u001b[0m\u001b[0mself\u001b[0m\u001b[0;34m.\u001b[0m\u001b[0mf\u001b[0m\u001b[0;34m,\u001b[0m \u001b[0;34m**\u001b[0m\u001b[0mself\u001b[0m\u001b[0;34m.\u001b[0m\u001b[0moptions\u001b[0m\u001b[0;34m)\u001b[0m  \u001b[0;31m# type: ignore[call-arg]\u001b[0m\u001b[0;34m\u001b[0m\u001b[0;34m\u001b[0m\u001b[0m\n\u001b[0m\u001b[1;32m   1041\u001b[0m \u001b[0;34m\u001b[0m\u001b[0m\n\u001b[1;32m   1042\u001b[0m     \u001b[0;32mdef\u001b[0m \u001b[0m_failover_to_python\u001b[0m\u001b[0;34m(\u001b[0m\u001b[0mself\u001b[0m\u001b[0;34m)\u001b[0m\u001b[0;34m:\u001b[0m\u001b[0;34m\u001b[0m\u001b[0;34m\u001b[0m\u001b[0m\n",
      "\u001b[0;32m~/opt/anaconda3/lib/python3.9/site-packages/pandas/io/parsers/c_parser_wrapper.py\u001b[0m in \u001b[0;36m__init__\u001b[0;34m(self, src, **kwds)\u001b[0m\n\u001b[1;32m     49\u001b[0m \u001b[0;34m\u001b[0m\u001b[0m\n\u001b[1;32m     50\u001b[0m         \u001b[0;31m# open handles\u001b[0m\u001b[0;34m\u001b[0m\u001b[0;34m\u001b[0m\u001b[0m\n\u001b[0;32m---> 51\u001b[0;31m         \u001b[0mself\u001b[0m\u001b[0;34m.\u001b[0m\u001b[0m_open_handles\u001b[0m\u001b[0;34m(\u001b[0m\u001b[0msrc\u001b[0m\u001b[0;34m,\u001b[0m \u001b[0mkwds\u001b[0m\u001b[0;34m)\u001b[0m\u001b[0;34m\u001b[0m\u001b[0;34m\u001b[0m\u001b[0m\n\u001b[0m\u001b[1;32m     52\u001b[0m         \u001b[0;32massert\u001b[0m \u001b[0mself\u001b[0m\u001b[0;34m.\u001b[0m\u001b[0mhandles\u001b[0m \u001b[0;32mis\u001b[0m \u001b[0;32mnot\u001b[0m \u001b[0;32mNone\u001b[0m\u001b[0;34m\u001b[0m\u001b[0;34m\u001b[0m\u001b[0m\n\u001b[1;32m     53\u001b[0m \u001b[0;34m\u001b[0m\u001b[0m\n",
      "\u001b[0;32m~/opt/anaconda3/lib/python3.9/site-packages/pandas/io/parsers/base_parser.py\u001b[0m in \u001b[0;36m_open_handles\u001b[0;34m(self, src, kwds)\u001b[0m\n\u001b[1;32m    220\u001b[0m         \u001b[0mLet\u001b[0m \u001b[0mthe\u001b[0m \u001b[0mreaders\u001b[0m \u001b[0mopen\u001b[0m \u001b[0mIOHandles\u001b[0m \u001b[0mafter\u001b[0m \u001b[0mthey\u001b[0m \u001b[0mare\u001b[0m \u001b[0mdone\u001b[0m \u001b[0;32mwith\u001b[0m \u001b[0mtheir\u001b[0m \u001b[0mpotential\u001b[0m \u001b[0mraises\u001b[0m\u001b[0;34m.\u001b[0m\u001b[0;34m\u001b[0m\u001b[0;34m\u001b[0m\u001b[0m\n\u001b[1;32m    221\u001b[0m         \"\"\"\n\u001b[0;32m--> 222\u001b[0;31m         self.handles = get_handle(\n\u001b[0m\u001b[1;32m    223\u001b[0m             \u001b[0msrc\u001b[0m\u001b[0;34m,\u001b[0m\u001b[0;34m\u001b[0m\u001b[0;34m\u001b[0m\u001b[0m\n\u001b[1;32m    224\u001b[0m             \u001b[0;34m\"r\"\u001b[0m\u001b[0;34m,\u001b[0m\u001b[0;34m\u001b[0m\u001b[0;34m\u001b[0m\u001b[0m\n",
      "\u001b[0;32m~/opt/anaconda3/lib/python3.9/site-packages/pandas/io/common.py\u001b[0m in \u001b[0;36mget_handle\u001b[0;34m(path_or_buf, mode, encoding, compression, memory_map, is_text, errors, storage_options)\u001b[0m\n\u001b[1;32m    700\u001b[0m         \u001b[0;32mif\u001b[0m \u001b[0mioargs\u001b[0m\u001b[0;34m.\u001b[0m\u001b[0mencoding\u001b[0m \u001b[0;32mand\u001b[0m \u001b[0;34m\"b\"\u001b[0m \u001b[0;32mnot\u001b[0m \u001b[0;32min\u001b[0m \u001b[0mioargs\u001b[0m\u001b[0;34m.\u001b[0m\u001b[0mmode\u001b[0m\u001b[0;34m:\u001b[0m\u001b[0;34m\u001b[0m\u001b[0;34m\u001b[0m\u001b[0m\n\u001b[1;32m    701\u001b[0m             \u001b[0;31m# Encoding\u001b[0m\u001b[0;34m\u001b[0m\u001b[0;34m\u001b[0m\u001b[0m\n\u001b[0;32m--> 702\u001b[0;31m             handle = open(\n\u001b[0m\u001b[1;32m    703\u001b[0m                 \u001b[0mhandle\u001b[0m\u001b[0;34m,\u001b[0m\u001b[0;34m\u001b[0m\u001b[0;34m\u001b[0m\u001b[0m\n\u001b[1;32m    704\u001b[0m                 \u001b[0mioargs\u001b[0m\u001b[0;34m.\u001b[0m\u001b[0mmode\u001b[0m\u001b[0;34m,\u001b[0m\u001b[0;34m\u001b[0m\u001b[0;34m\u001b[0m\u001b[0m\n",
      "\u001b[0;31mFileNotFoundError\u001b[0m: [Errno 2] No such file or directory: 'zeus-book.csv'"
     ]
    }
   ],
   "source": [
    "#Zeus Bot (Zbot): is a crimeware kit (malware) that steals credentials from various online services like social\n",
    "# networks, online banking accounts, FTP accounts, email accounts, and websites ...\n",
    "\n",
    "zbot_df = pd.read_csv(\"zeus-book.csv\")\n",
    "# skiprows skip the first n lines from the csv file"
   ]
  },
  {
   "cell_type": "code",
   "execution_count": 39,
   "id": "78190cc0",
   "metadata": {},
   "outputs": [
    {
     "ename": "NameError",
     "evalue": "name 'zbot_df' is not defined",
     "output_type": "error",
     "traceback": [
      "\u001b[0;31m---------------------------------------------------------------------------\u001b[0m",
      "\u001b[0;31mNameError\u001b[0m                                 Traceback (most recent call last)",
      "\u001b[0;32m/var/folders/fc/x80wfpw17pv7yb9hd44b3p5w0000gn/T/ipykernel_14446/3328298116.py\u001b[0m in \u001b[0;36m<module>\u001b[0;34m\u001b[0m\n\u001b[0;32m----> 1\u001b[0;31m \u001b[0mzbot_df\u001b[0m\u001b[0;34m.\u001b[0m\u001b[0mhead\u001b[0m\u001b[0;34m(\u001b[0m\u001b[0;36m3\u001b[0m\u001b[0;34m)\u001b[0m\u001b[0;34m\u001b[0m\u001b[0;34m\u001b[0m\u001b[0m\n\u001b[0m",
      "\u001b[0;31mNameError\u001b[0m: name 'zbot_df' is not defined"
     ]
    }
   ],
   "source": [
    "zbot_df.head(3)"
   ]
  },
  {
   "cell_type": "code",
   "execution_count": null,
   "id": "2df1d6f8",
   "metadata": {},
   "outputs": [],
   "source": [
    "# adding Column name \"IP\" for the Zbot data"
   ]
  },
  {
   "cell_type": "code",
   "execution_count": null,
   "id": "8ba4e604",
   "metadata": {},
   "outputs": [],
   "source": [
    "#zbot_df.shape"
   ]
  },
  {
   "cell_type": "code",
   "execution_count": null,
   "id": "92d7cb07",
   "metadata": {},
   "outputs": [],
   "source": [
    "# Create a 8 bits Subnet address col \"subnet_8\" for the Zbot data"
   ]
  },
  {
   "cell_type": "code",
   "execution_count": null,
   "id": "c082ef90",
   "metadata": {},
   "outputs": [],
   "source": [
    "# create a new dataframe by merging the previously merged \n",
    "#dataset (IPV4 address space + IP reputation data) with the Zbot on 'subnet_8' column? \n",
    "\n"
   ]
  },
  {
   "cell_type": "code",
   "execution_count": null,
   "id": "fad754f5",
   "metadata": {},
   "outputs": [],
   "source": [
    "# Q: Can we merge bot with the previously merged data on column \"IP\"?     \n",
    "# report the number of IPs for in the original 10K reputation dataset that is also a Z-botnet \n",
    "#address? \n"
   ]
  },
  {
   "cell_type": "code",
   "execution_count": null,
   "id": "99798a14",
   "metadata": {},
   "outputs": [],
   "source": []
  },
  {
   "cell_type": "code",
   "execution_count": null,
   "id": "69cf61d7",
   "metadata": {},
   "outputs": [],
   "source": [
    "#!pip install igraph"
   ]
  },
  {
   "cell_type": "code",
   "execution_count": null,
   "id": "9e53d4b6",
   "metadata": {},
   "outputs": [],
   "source": [
    "# For the extra tasks\n",
    "import igraph as ig"
   ]
  },
  {
   "cell_type": "code",
   "execution_count": null,
   "id": "f633c27f",
   "metadata": {},
   "outputs": [],
   "source": [
    "# creating empty graph\n",
    "g= ig.Graph(directed= True)\n",
    "#mygraph = ig.Graph.DataFrame(merged_IP_df)\n",
    "#g = ig.Graph.TupleList(merged_IP_df.itertuples(index=False), directed=True, weights=False, edge_attrs=\"Risk\")"
   ]
  },
  {
   "cell_type": "code",
   "execution_count": null,
   "id": "2491daff",
   "metadata": {},
   "outputs": [],
   "source": [
    "# Add number of vertices in graph\n",
    "g.add_vertices(3)"
   ]
  },
  {
   "cell_type": "code",
   "execution_count": null,
   "id": "e9968e63",
   "metadata": {},
   "outputs": [],
   "source": [
    "# add actual vertex/node in the graph ...as a list\n",
    "g.vs['IP'] = zbot_merge_with_IP_repu['IP']"
   ]
  },
  {
   "cell_type": "code",
   "execution_count": null,
   "id": "20807f99",
   "metadata": {},
   "outputs": [],
   "source": [
    "g.vs['IP']"
   ]
  },
  {
   "cell_type": "code",
   "execution_count": null,
   "id": "3c85ee4a",
   "metadata": {},
   "outputs": [],
   "source": []
  },
  {
   "cell_type": "code",
   "execution_count": null,
   "id": "ba9e8949",
   "metadata": {},
   "outputs": [],
   "source": []
  },
  {
   "cell_type": "code",
   "execution_count": null,
   "id": "c7b70d8e",
   "metadata": {},
   "outputs": [],
   "source": []
  },
  {
   "cell_type": "code",
   "execution_count": null,
   "id": "dcf4d2c8",
   "metadata": {},
   "outputs": [],
   "source": []
  },
  {
   "cell_type": "code",
   "execution_count": null,
   "id": "08a32da8",
   "metadata": {},
   "outputs": [],
   "source": [
    "#Q1. How many of the ZEUS botnet address in the IP reputation dataset (10K)? \n",
    "#Q2 Can you create the Zbot df with all the other information (Country, Designation, lat, long ...)? \n",
    "#Q3. How many Zbot from US? How many from RU?\n",
    "#Q4. Can we draw a cluster graphs based on countries group? \n"
   ]
  },
  {
   "cell_type": "code",
   "execution_count": null,
   "id": "d0ff5461",
   "metadata": {},
   "outputs": [],
   "source": []
  },
  {
   "cell_type": "code",
   "execution_count": null,
   "id": "1ed4d106",
   "metadata": {},
   "outputs": [],
   "source": [
    "merged_IP_df[\"country_name\"].value_counts()"
   ]
  },
  {
   "cell_type": "code",
   "execution_count": null,
   "id": "459c3100",
   "metadata": {},
   "outputs": [],
   "source": [
    "group_output = merged_IP_df.groupby([\"country_name\"])[\"IP\"].count()"
   ]
  },
  {
   "cell_type": "code",
   "execution_count": null,
   "id": "969e0102",
   "metadata": {},
   "outputs": [],
   "source": [
    "group_output.index"
   ]
  },
  {
   "cell_type": "code",
   "execution_count": null,
   "id": "c58915e6",
   "metadata": {},
   "outputs": [],
   "source": [
    "group_output.values"
   ]
  },
  {
   "cell_type": "code",
   "execution_count": null,
   "id": "0cfc7c07",
   "metadata": {},
   "outputs": [],
   "source": [
    "merged_IP_df[\"country_name\"].nunique()"
   ]
  },
  {
   "cell_type": "code",
   "execution_count": null,
   "id": "66ad8813",
   "metadata": {},
   "outputs": [],
   "source": []
  }
 ],
 "metadata": {
  "kernelspec": {
   "display_name": "Python 3 (ipykernel)",
   "language": "python",
   "name": "python3"
  },
  "language_info": {
   "codemirror_mode": {
    "name": "ipython",
    "version": 3
   },
   "file_extension": ".py",
   "mimetype": "text/x-python",
   "name": "python",
   "nbconvert_exporter": "python",
   "pygments_lexer": "ipython3",
   "version": "3.9.7"
  }
 },
 "nbformat": 4,
 "nbformat_minor": 5
}
