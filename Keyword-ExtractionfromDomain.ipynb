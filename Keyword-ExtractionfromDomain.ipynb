{
 "cells": [
  {
   "cell_type": "markdown",
   "id": "8505d578",
   "metadata": {},
   "source": [
    "# Lab 1 - Keyword Generation from the domain name of a website"
   ]
  },
  {
   "cell_type": "code",
   "execution_count": 6,
   "id": "84b223c2",
   "metadata": {},
   "outputs": [
    {
     "name": "stdout",
     "output_type": "stream",
     "text": [
      "Requirement already satisfied: wordsegment in /Users/IsaacStertzbach/opt/anaconda3/lib/python3.9/site-packages (1.3.1)\r\n"
     ]
    }
   ],
   "source": [
    "!pip install wordsegment"
   ]
  },
  {
   "cell_type": "code",
   "execution_count": 12,
   "id": "ca442fd6",
   "metadata": {},
   "outputs": [],
   "source": [
    "# list of imports needed #\n",
    "import wordsegment #\n",
    "from wordsegment import load, segment\n",
    "import csv # pip install python-csv (if not installed)\n",
    "import pandas as pd\n",
    "\n"
   ]
  },
  {
   "cell_type": "code",
   "execution_count": 8,
   "id": "a9759f38",
   "metadata": {},
   "outputs": [],
   "source": [
    "#Lab Instructions: \n",
    "# For this lab you are given a list of X number of websites\n",
    "# and your task is to generate a csv file of keywords you \n",
    "# can generate from the domain name strings, with the count how many words are found.\n",
    "# To accomplish this task you need to:\n",
    "\n",
    "#input www.google.com -> google -> goes in the final csv file with 'google' as a keyword count\n"
   ]
  },
  {
   "cell_type": "markdown",
   "id": "d67339a1",
   "metadata": {},
   "source": [
    "# Task 1) Load your data set into your python file\n"
   ]
  },
  {
   "cell_type": "code",
   "execution_count": 11,
   "id": "6b0f0cd7",
   "metadata": {},
   "outputs": [
    {
     "ename": "FileNotFoundError",
     "evalue": "[Errno 2] No such file or directory: 'inputurls.csv'",
     "output_type": "error",
     "traceback": [
      "\u001b[0;31m---------------------------------------------------------------------------\u001b[0m",
      "\u001b[0;31mFileNotFoundError\u001b[0m                         Traceback (most recent call last)",
      "\u001b[0;32m/var/folders/fc/x80wfpw17pv7yb9hd44b3p5w0000gn/T/ipykernel_56228/4038955324.py\u001b[0m in \u001b[0;36m<module>\u001b[0;34m\u001b[0m\n\u001b[1;32m      1\u001b[0m \u001b[0;31m# load the data in python pandas\u001b[0m\u001b[0;34m\u001b[0m\u001b[0;34m\u001b[0m\u001b[0m\n\u001b[0;32m----> 2\u001b[0;31m \u001b[0;32mwith\u001b[0m \u001b[0mopen\u001b[0m\u001b[0;34m(\u001b[0m\u001b[0;34m\"inputurls.csv\"\u001b[0m\u001b[0;34m,\u001b[0m \u001b[0;34m'r'\u001b[0m\u001b[0;34m)\u001b[0m \u001b[0;32mas\u001b[0m \u001b[0mfile\u001b[0m\u001b[0;34m:\u001b[0m\u001b[0;34m\u001b[0m\u001b[0;34m\u001b[0m\u001b[0m\n\u001b[0m\u001b[1;32m      3\u001b[0m   \u001b[0mcsvreader\u001b[0m \u001b[0;34m=\u001b[0m \u001b[0mcsv\u001b[0m\u001b[0;34m.\u001b[0m\u001b[0mreader\u001b[0m\u001b[0;34m(\u001b[0m\u001b[0mfile\u001b[0m\u001b[0;34m)\u001b[0m\u001b[0;34m\u001b[0m\u001b[0;34m\u001b[0m\u001b[0m\n",
      "\u001b[0;31mFileNotFoundError\u001b[0m: [Errno 2] No such file or directory: 'inputurls.csv'"
     ]
    }
   ],
   "source": [
    "# load the data in python pandas\n",
    "url_df = pd.read_\n"
   ]
  },
  {
   "cell_type": "markdown",
   "id": "35fca06e",
   "metadata": {},
   "source": [
    "# Task 2) Choose a data structure to store the keywords you are creating (Recomend using a python dictionary)\n"
   ]
  },
  {
   "cell_type": "code",
   "execution_count": 27,
   "id": "b0b509ac",
   "metadata": {},
   "outputs": [],
   "source": [
    "\n",
    "#Example of declaring empty dictionary: wordDic = {} \n"
   ]
  },
  {
   "cell_type": "markdown",
   "id": "007f40e3",
   "metadata": {},
   "source": [
    "# Task 3) Loop through the data, creating your keywords and storing them in your data structure"
   ]
  },
  {
   "cell_type": "code",
   "execution_count": null,
   "id": "07db7823",
   "metadata": {},
   "outputs": [],
   "source": [
    "\n",
    "# get the URL from the given given input_url.csv file\n",
    "# get the domain name part from the url by splitting with . character and get url[0]. \n",
    "#Example: if url = 'https://www.google.com/path' the domain name part is domain= 'google' \n",
    "#and tld = 'com'\n",
    "# for each url find domain name part (url should be iterated from the given dataset)\n",
    "\n",
    "#for each domain part run the following in a loop\n",
    "\n",
    "# use this following code to generate keywords from the domain names part using segment\n",
    "url= 'https://google.com'\n",
    "domain='google'\n",
    "load()\n",
    "keywords = segment(domain)\n",
    "print(keywords)\n",
    "\n",
    "#wordCount = 0\n",
    "\n",
    "# loop thorugh the len of keywords list\n",
    "# strip the keywords to remove characters like - or . [hint .strip() functions]\n",
    "# for each word in keyword list, add it into a wordDic dictionary\n",
    "# if new word then add it as count 1, but if repeating keyword then update the current count\n",
    "# from i to i+1. \n",
    "# example: \n",
    "#if word in wordDic: # if word is present in dictionary updating the count\n",
    "    #wordDic[word] += 1\n",
    "#else:\n",
    "    #wordDic[word] = 1 # if new word then inserting it in dictionary     \n",
    "\n",
    "#Next you update the word count as\n",
    "#    wordCount = wordCount + 1\n",
    "\n",
    "#Print the wordDic to check if it is updated\n",
    "#print(wordDic)"
   ]
  },
  {
   "cell_type": "markdown",
   "id": "7b9aa2e3",
   "metadata": {},
   "source": [
    "# Task 4) When the loop is over you need to output your keywords into a csv file\n"
   ]
  },
  {
   "cell_type": "code",
   "execution_count": 29,
   "id": "435d13c9",
   "metadata": {},
   "outputs": [],
   "source": [
    "#for key in wordDic.keys():\n",
    "#    csvFile.write() # write both key and the value from wordDic dictionary\n",
    "#csvFile.close()\n"
   ]
  },
  {
   "cell_type": "code",
   "execution_count": null,
   "id": "abe57895",
   "metadata": {},
   "outputs": [],
   "source": []
  }
 ],
 "metadata": {
  "kernelspec": {
   "display_name": "Python 3 (ipykernel)",
   "language": "python",
   "name": "python3"
  },
  "language_info": {
   "codemirror_mode": {
    "name": "ipython",
    "version": 3
   },
   "file_extension": ".py",
   "mimetype": "text/x-python",
   "name": "python",
   "nbconvert_exporter": "python",
   "pygments_lexer": "ipython3",
   "version": "3.9.7"
  }
 },
 "nbformat": 4,
 "nbformat_minor": 5
}
