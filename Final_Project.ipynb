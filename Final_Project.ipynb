{
 "cells": [
  {
   "cell_type": "code",
   "execution_count": null,
   "id": "e7f64a73",
   "metadata": {},
   "outputs": [],
   "source": [
    "import pandas as pd\n",
    "benign_df = pd.read_csv(\"benign_domain_list.csv\", header=None)\n",
    "malicious_df = pd.read_csv(\"Malicious_URLs.csv\")\n",
    "mixed_df = pd.read_csv(\"mixed_domain_list.csv\", header=None)\n",
    "tranco_df = pd.read_csv(\"tranco_full_list_for_ranking.csv\", header=None)"
   ]
  },
  {
   "cell_type": "code",
   "execution_count": null,
   "id": "014f2a16",
   "metadata": {},
   "outputs": [],
   "source": [
    "benign_df"
   ]
  },
  {
   "cell_type": "code",
   "execution_count": null,
   "id": "4070e808",
   "metadata": {},
   "outputs": [],
   "source": [
    "malicious_df"
   ]
  },
  {
   "cell_type": "code",
   "execution_count": null,
   "id": "c88f2db5",
   "metadata": {},
   "outputs": [],
   "source": [
    "mixed_df"
   ]
  },
  {
   "cell_type": "code",
   "execution_count": null,
   "id": "29466122",
   "metadata": {},
   "outputs": [],
   "source": [
    "tranco_df"
   ]
  },
  {
   "cell_type": "code",
   "execution_count": null,
   "id": "97499b83",
   "metadata": {},
   "outputs": [],
   "source": [
    "for row in benign_df[0]:\n",
    "    benign_df['Domain Length'] = benign_df[0].str.len()\n",
    "benign_df"
   ]
  },
  {
   "cell_type": "code",
   "execution_count": null,
   "id": "8efff37e",
   "metadata": {},
   "outputs": [],
   "source": [
    "from urllib.parse import urlparse\n",
    "\n",
    "def get_fqdn(url):\n",
    "    parsed_url = urlparse(url)\n",
    "    return parsed_url.netloc\n",
    "\n",
    "malicious_df['Domain'] = malicious_df['url'].apply(get_fqdn)\n",
    "\n",
    "for row in malicious_df['Domain']:\n",
    "    malicious_df['Domain Length'] = malicious_df['Domain'].str.len()\n",
    "malicious_df"
   ]
  },
  {
   "cell_type": "code",
   "execution_count": null,
   "id": "1f0efa92",
   "metadata": {},
   "outputs": [],
   "source": [
    "for row in mixed_df[0]:\n",
    "    mixed_df['Domain Length'] = mixed_df[0].str.len()\n",
    "mixed_df"
   ]
  },
  {
   "cell_type": "code",
   "execution_count": null,
   "id": "1ce9f4ff",
   "metadata": {},
   "outputs": [],
   "source": [
    "for row in tranco_df[1]:\n",
    "    tranco_df['Domain Length'] = tranco_df[1].str.len()\n",
    "tranco_df"
   ]
  },
  {
   "cell_type": "code",
   "execution_count": null,
   "id": "90f6a76d",
   "metadata": {},
   "outputs": [],
   "source": []
  }
 ],
 "metadata": {
  "kernelspec": {
   "display_name": "Python 3 (ipykernel)",
   "language": "python",
   "name": "python3"
  },
  "language_info": {
   "codemirror_mode": {
    "name": "ipython",
    "version": 3
   },
   "file_extension": ".py",
   "mimetype": "text/x-python",
   "name": "python",
   "nbconvert_exporter": "python",
   "pygments_lexer": "ipython3",
   "version": "3.9.13"
  }
 },
 "nbformat": 4,
 "nbformat_minor": 5
}
