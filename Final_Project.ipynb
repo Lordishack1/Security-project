{
 "cells": [
  {
   "cell_type": "code",
   "execution_count": null,
   "id": "e7f64a73",
   "metadata": {},
   "outputs": [],
   "source": [
    "import pandas as pd\n",
    "benign_df = pd.read_csv(\"benign_domain_list.csv\", header=None)\n",
    "malicious_df = pd.read_csv(\"Malicious_URLs.csv\")\n",
    "mixed_df = pd.read_csv(\"mixed_domain_list.csv\", header=None)\n",
    "tranco_df = pd.read_csv(\"tranco_full_list_for_ranking.csv\", header=None)"
   ]
  },
  {
   "cell_type": "code",
   "execution_count": null,
   "id": "014f2a16",
   "metadata": {},
   "outputs": [],
   "source": [
    "benign_df"
   ]
  },
  {
   "cell_type": "code",
   "execution_count": null,
   "id": "4070e808",
   "metadata": {},
   "outputs": [],
   "source": [
    "malicious_df"
   ]
  },
  {
   "cell_type": "code",
   "execution_count": null,
   "id": "c88f2db5",
   "metadata": {},
   "outputs": [],
   "source": [
    "mixed_df"
   ]
  },
  {
   "cell_type": "code",
   "execution_count": null,
   "id": "29466122",
   "metadata": {},
   "outputs": [],
   "source": [
    "tranco_df"
   ]
  },
  {
   "cell_type": "code",
   "execution_count": 36,
   "id": "69074276",
   "metadata": {},
   "outputs": [],
   "source": [
    "from gettext import install\n",
    "\n",
    "import pip\n",
    "\n",
    "\n",
    "pip install newspaper3k\n",
    "\n",
    "### Defining methods block\n",
    "from urllib.parse import urlparse\n",
    "\n",
    "def calculate_percentage_digits(domain):\n",
    "    digits_count = sum(c.isdigit() for c in domain)\n",
    "    total_chars = len(domain)\n",
    "    percentage_digits = digits_count / total_chars * 100\n",
    "    return percentage_digits\n",
    "\n",
    "def get_fqdn(url):\n",
    "    parsed_url = urlparse(url)\n",
    "    return parsed_url.netloc\n",
    "\n",
    "def count_unique_chars(domain):\n",
    "    unique_chars = set(domain)\n",
    "    return len(unique_chars) - 1     ### -1 because it counts the '.' in the FQDN\n",
    "\n",
    "def count_hyphens(domain):\n",
    "    hyphens_count = sum(c == '-' for c in domain)\n",
    "    return hyphens_count\n",
    "\n",
    "def count_dots(domain):\n",
    "    dot_count = sum(c == '.' for c in domain)\n",
    "    return dot_count"
   ]
  },
  {
   "cell_type": "code",
   "execution_count": null,
   "id": "97499b83",
   "metadata": {},
   "outputs": [],
   "source": [
    "benign_df['Domain Length'] = benign_df[0].str.len()\n",
    "benign_df['Digit Percentage'] = benign_df[0].apply(calculate_percentage_digits)\n",
    "benign_df['Unique Character Count'] = benign_df[0].apply(count_unique_chars)\n",
    "benign_df['Hypen Count'] = benign_df[0].apply(count_hyphens)\n",
    "benign_df['Dot Count'] = benign_df[0].apply(count_dots)\n",
    "benign_df"
   ]
  },
  {
   "cell_type": "code",
   "execution_count": null,
   "id": "8efff37e",
   "metadata": {},
   "outputs": [],
   "source": [
    "malicious_df['Domain'] = malicious_df['url'].apply(get_fqdn)\n",
    "malicious_df['Domain Length'] = malicious_df['Domain'].str.len()\n",
    "malicious_df['Digit Percentage'] = malicious_df['Domain'].apply(calculate_percentage_digits)\n",
    "malicious_df['Digit Count'] = malicious_df['Domain'].apply(count_unique_chars)\n",
    "malicious_df['Hyphen Count'] = malicious_df['Domain'].apply(count_hyphens)\n",
    "malicious_df['Dot Count'] = malicious_df['Domain'].apply(count_dots)\n",
    "malicious_df"
   ]
  },
  {
   "cell_type": "code",
   "execution_count": null,
   "id": "1f0efa92",
   "metadata": {},
   "outputs": [],
   "source": [
    "\n",
    "mixed_df['Domain Length'] = mixed_df[0].str.len()\n",
    "mixed_df['Digit Percentage'] = mixed_df[0].apply(calculate_percentage_digits)\n",
    "mixed_df['Digit Count'] = mixed_df[0].apply(count_unique_chars)\n",
    "mixed_df['Hypen Count'] = mixed_df[0].apply(count_hyphens)\n",
    "mixed_df['Dot Count'] = mixed_df[0].apply(count_dots)\n",
    "mixed_df"
   ]
  },
  {
   "cell_type": "code",
   "execution_count": null,
   "id": "1ce9f4ff",
   "metadata": {},
   "outputs": [],
   "source": [
    "tranco_df['Domain Length'] = tranco_df[1].str.len()\n",
    "tranco_df['Digit Percentage'] = tranco_df[1].apply(calculate_percentage_digits)\n",
    "tranco_df['Digit Count'] = tranco_df[1].apply(count_unique_chars)\n",
    "tranco_df['Hypen Count'] = tranco_df[1].apply(count_hyphens)\n",
    "tranco_df['Dot Count'] = tranco_df[1].apply(count_dots)\n",
    "tranco_df"
   ]
  },
  {
   "cell_type": "code",
   "execution_count": null,
   "id": "90f6a76d",
   "metadata": {},
   "outputs": [],
   "source": []
  }
 ],
 "metadata": {
  "kernelspec": {
   "display_name": "Python 3 (ipykernel)",
   "language": "python",
   "name": "python3"
  },
  "language_info": {
   "codemirror_mode": {
    "name": "ipython",
    "version": 3
   },
   "file_extension": ".py",
   "mimetype": "text/x-python",
   "name": "python",
   "nbconvert_exporter": "python",
   "pygments_lexer": "ipython3",
   "version": "3.9.13"
  }
 },
 "nbformat": 4,
 "nbformat_minor": 5
}
