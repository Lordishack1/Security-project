{
 "cells": [
  {
   "cell_type": "code",
   "execution_count": null,
   "id": "e7f64a73",
   "metadata": {},
   "outputs": [],
   "source": [
    "import pandas as pd\n",
    "benign_df = pd.read_csv(\"benign_domain_list.csv\", header=None)\n",
    "malicious_df = pd.read_csv(\"Malicious_URLs.csv\")\n",
    "mixed_df = pd.read_csv(\"mixed_domain_list.csv\", header=None)\n",
    "tranco_df = pd.read_csv(\"tranco_full_list_for_ranking.csv\", header=None)"
   ]
  },
  {
   "cell_type": "code",
   "execution_count": null,
   "id": "014f2a16",
   "metadata": {},
   "outputs": [],
   "source": [
    "benign_df"
   ]
  },
  {
   "cell_type": "code",
   "execution_count": null,
   "id": "4070e808",
   "metadata": {},
   "outputs": [],
   "source": [
    "malicious_df"
   ]
  },
  {
   "cell_type": "code",
   "execution_count": null,
   "id": "c88f2db5",
   "metadata": {},
   "outputs": [],
   "source": [
    "mixed_df"
   ]
  },
  {
   "cell_type": "code",
   "execution_count": null,
   "id": "29466122",
   "metadata": {},
   "outputs": [],
   "source": [
    "tranco_df"
   ]
  },
  {
   "cell_type": "code",
   "execution_count": null,
   "id": "875993ed",
   "metadata": {},
   "outputs": [],
   "source": [
    "# Block for installs\n",
    "%pip install dnstwist\n",
    "%pip install newspaper3k\n",
    "%pip install requests\n",
    "%pip install beautifulsoup4"
   ]
  },
  {
   "cell_type": "code",
   "execution_count": null,
   "id": "69074276",
   "metadata": {},
   "outputs": [],
   "source": [
    "### Defining methods block\n",
    "from urllib.parse import urlparse\n",
    "import tldextract\n",
    "import dnstwist\n",
    "from newspaper import Article, Config\n",
    "import requests\n",
    "from bs4 import BeautifulSoup\n",
    "\n",
    "def calculate_percentage_digits(domain):\n",
    "    digits_count = sum(c.isdigit() for c in domain)\n",
    "    total_chars = len(domain)\n",
    "    percentage_digits = digits_count / total_chars * 100\n",
    "    return percentage_digits\n",
    "\n",
    "def get_fqdn(url):\n",
    "    parsed_url = urlparse(url)\n",
    "    return parsed_url.netloc\n",
    "\n",
    "def count_unique_chars(domain):\n",
    "    unique_chars = set(domain)\n",
    "    return len(unique_chars) - 1     ### -1 because it counts the '.' in the FQDN\n",
    "\n",
    "def count_hyphens(domain):\n",
    "    hyphens_count = sum(c == '-' for c in domain)\n",
    "    return hyphens_count\n",
    "\n",
    "def count_dots(domain):\n",
    "    dot_count = sum(c == '.' for c in domain)\n",
    "    return dot_count\n",
    "\n",
    "def get_tld(domain):\n",
    "    ext = tldextract.extract(domain)\n",
    "    return ext.suffix\n",
    "\n",
    "def dnstwist_results(domain):\n",
    "    results = dnstwist.Fuzzer(domain)\n",
    "    return results.generate()\n",
    "\n",
    "def get_reputation_score(tld):\n",
    "    url = f'https://www.spamhaus.org/statistics/tlds/{tld}/'\n",
    "    r = requests.get(url)\n",
    "    soup = BeautifulSoup(r.content, 'html.parser')\n",
    "    score_div = soup.find('div', {'class': 'score'})\n",
    "    if score_div is not None:\n",
    "        score = score_div.text.strip()\n",
    "    else:\n",
    "        score = 'Not found'\n",
    "    return score\n",
    "\n",
    "\n",
    "def generate_potential_typosquatting_domains(domain):\n",
    "    fuzzer = dnstwist.Fuzzer(domain)\n",
    "    variations = fuzzer.generate(max_changes=2, max_additions=2, max_deletions=2)\n",
    "    if variations is not None:\n",
    "        return set(variation.domain for variation in variations)\n",
    "    else:\n",
    "        return set()"
   ]
  },
  {
   "cell_type": "code",
   "execution_count": null,
   "id": "97499b83",
   "metadata": {},
   "outputs": [],
   "source": [
    "benign_df['Domain'] = benign_df[0]\n",
    "benign_df['Domain Length'] = benign_df[0].str.len()\n",
    "benign_df['Digit Percentage'] = benign_df[0].apply(calculate_percentage_digits)\n",
    "benign_df['Unique Character Count'] = benign_df[0].apply(count_unique_chars)\n",
    "benign_df['Hypen Count'] = benign_df[0].apply(count_hyphens)\n",
    "benign_df['Dot Count'] = benign_df[0].apply(count_dots)\n",
    "benign_df['TLD'] = benign_df[0].apply(get_tld)\n",
    "#benign_df['DNSTwist Results'] = benign_df[0].apply(dnstwist_results)\n",
    "# tlds = benign_df['TLD']\n",
    "# scores = []\n",
    "# for tld in tlds:\n",
    "#     score = get_reputation_score(tld)\n",
    "#     scores.append(score)\n",
    "# benign_df['TLD Reputation Score'] = scores\n",
    "benign_df['Tranco Rank'] = benign_df['Domain'].map(tranco_df.set_index('Domain')[0])\n",
    "benign_df"
   ]
  },
  {
   "cell_type": "code",
   "execution_count": null,
   "id": "ccc91fd4",
   "metadata": {},
   "outputs": [],
   "source": [
    "import multiprocessing\n",
    "\n",
    "\n",
    "num_processes = multiprocessing.cpu_count()\n",
    "with multiprocessing.Pool(processes=num_processes) as pool:\n",
    "    # apply the generate_potential_typosquatting_domains function to each domain name in the dataframe\n",
    "    potential_typosquatting_domains_list = pool.map(generate_potential_typosquatting_domains, benign_df['Domain'].tolist())\n",
    "potential_typosquatting_domains = {domain for domain_set in potential_typosquatting_domains_list for domain in domain_set}\n",
    "\n",
    "# create a new column in the dataframe to store the results\n",
    "benign_df['potential_typosquatting'] = benign_df[\"Domain\"].apply(lambda x: x in potential_typosquatting_domains)"
   ]
  },
  {
   "cell_type": "code",
   "execution_count": null,
   "id": "8efff37e",
   "metadata": {},
   "outputs": [],
   "source": [
    "malicious_df['Domain'] = malicious_df['url'].apply(get_fqdn)\n",
    "malicious_df['Domain Length'] = malicious_df['Domain'].str.len()\n",
    "malicious_df['Digit Percentage'] = malicious_df['Domain'].apply(calculate_percentage_digits)\n",
    "malicious_df['Digit Count'] = malicious_df['Domain'].apply(count_unique_chars)\n",
    "malicious_df['Hyphen Count'] = malicious_df['Domain'].apply(count_hyphens)\n",
    "malicious_df['Dot Count'] = malicious_df['Domain'].apply(count_dots)\n",
    "malicious_df['Tranco Rank'] = malicious_df['Domain'].map(tranco_df.set_index('Domain')[0])\n",
    "malicious_df"
   ]
  },
  {
   "cell_type": "code",
   "execution_count": null,
   "id": "1f0efa92",
   "metadata": {},
   "outputs": [],
   "source": [
    "\n",
    "mixed_df['Domain'] = mixed_df[0]\n",
    "mixed_df['Domain Length'] = mixed_df[0].str.len()\n",
    "mixed_df['Digit Percentage'] = mixed_df[0].apply(calculate_percentage_digits)\n",
    "mixed_df['Digit Count'] = mixed_df[0].apply(count_unique_chars)\n",
    "mixed_df['Hypen Count'] = mixed_df[0].apply(count_hyphens)\n",
    "mixed_df['Dot Count'] = mixed_df[0].apply(count_dots)\n",
    "mixed_df['Tranco Rank'] = mixed_df['Domain'].map(tranco_df.set_index('Domain')[0])\n",
    "mixed_df"
   ]
  },
  {
   "cell_type": "code",
   "execution_count": null,
   "id": "1ce9f4ff",
   "metadata": {},
   "outputs": [],
   "source": [
    "tranco_df['Domain'] = tranco_df[1]\n",
    "tranco_df['Domain Length'] = tranco_df[1].str.len()\n",
    "tranco_df['Digit Percentage'] = tranco_df[1].apply(calculate_percentage_digits)\n",
    "tranco_df['Digit Count'] = tranco_df[1].apply(count_unique_chars)\n",
    "tranco_df['Hypen Count'] = tranco_df[1].apply(count_hyphens)\n",
    "tranco_df['Dot Count'] = tranco_df[1].apply(count_dots)\n",
    "tranco_df"
   ]
  },
  {
   "cell_type": "code",
   "execution_count": null,
   "id": "90f6a76d",
   "metadata": {},
   "outputs": [],
   "source": []
  }
 ],
 "metadata": {
  "kernelspec": {
   "display_name": "Python 3 (ipykernel)",
   "language": "python",
   "name": "python3"
  },
  "language_info": {
   "codemirror_mode": {
    "name": "ipython",
    "version": 3
   },
   "file_extension": ".py",
   "mimetype": "text/x-python",
   "name": "python",
   "nbconvert_exporter": "python",
   "pygments_lexer": "ipython3",
   "version": "3.9.13"
  }
 },
 "nbformat": 4,
 "nbformat_minor": 5
}
