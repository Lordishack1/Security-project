{
 "cells": [
  {
   "cell_type": "code",
   "execution_count": 1,
   "id": "e7f64a73",
   "metadata": {},
   "outputs": [],
   "source": [
    "import pandas as pd\n",
    "benign_df = pd.read_csv(\"benign_domain_list.csv\")\n",
    "malicious_df = pd.read_csv(\"Malicious_URLs.csv\")\n",
    "mixed_df = pd.read_csv(\"mixed_domain_list.csv\")\n",
    "tranco_df = pd.read_csv(\"tranco_full_list_for_ranking.csv\")"
   ]
  },
  {
   "cell_type": "code",
   "execution_count": null,
   "id": "8efff37e",
   "metadata": {},
   "outputs": [],
   "source": []
  }
 ],
 "metadata": {
  "kernelspec": {
   "display_name": "Python 3 (ipykernel)",
   "language": "python",
   "name": "python3"
  },
  "language_info": {
   "codemirror_mode": {
    "name": "ipython",
    "version": 3
   },
   "file_extension": ".py",
   "mimetype": "text/x-python",
   "name": "python",
   "nbconvert_exporter": "python",
   "pygments_lexer": "ipython3",
   "version": "3.9.7"
  }
 },
 "nbformat": 4,
 "nbformat_minor": 5
}
