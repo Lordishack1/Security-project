{
 "cells": [
  {
   "cell_type": "code",
   "execution_count": null,
   "id": "e7f64a73",
   "metadata": {},
   "outputs": [],
   "source": [
    "import pandas as pd\n",
    "benign_df = pd.read_csv(\"benign_domain_list.csv\", header=None)\n",
    "malicious_df = pd.read_csv(\"Malicious_URLs.csv\")\n",
    "mixed_df = pd.read_csv(\"mixed_domain_list.csv\", header=None)\n",
    "tranco_df = pd.read_csv(\"tranco_full_list_for_ranking.csv\", header=None)"
   ]
  },
  {
   "cell_type": "code",
   "execution_count": null,
   "id": "014f2a16",
   "metadata": {},
   "outputs": [],
   "source": [
    "benign_df"
   ]
  },
  {
   "cell_type": "code",
   "execution_count": null,
   "id": "4070e808",
   "metadata": {},
   "outputs": [],
   "source": [
    "malicious_df"
   ]
  },
  {
   "cell_type": "code",
   "execution_count": null,
   "id": "c88f2db5",
   "metadata": {},
   "outputs": [],
   "source": [
    "mixed_df"
   ]
  },
  {
   "cell_type": "code",
   "execution_count": null,
   "id": "29466122",
   "metadata": {},
   "outputs": [],
   "source": [
    "tranco_df"
   ]
  },
  {
   "cell_type": "code",
   "execution_count": 2,
   "id": "875993ed",
   "metadata": {},
   "outputs": [
    {
     "name": "stdout",
     "output_type": "stream",
     "text": [
      "Requirement already satisfied: dnstwist[full] in c:\\users\\user\\anaconda3\\lib\\site-packages (20230413)\n",
      "Requirement already satisfied: tld>=0.9.1 in c:\\users\\user\\anaconda3\\lib\\site-packages (from dnstwist[full]) (0.12.7)\n",
      "Requirement already satisfied: dnspython>=1.16.0 in c:\\users\\user\\anaconda3\\lib\\site-packages (from dnstwist[full]) (2.3.0)\n",
      "Requirement already satisfied: py-tlsh>=4.5.0 in c:\\users\\user\\anaconda3\\lib\\site-packages (from dnstwist[full]) (4.7.2)\n",
      "Requirement already satisfied: whois>=0.8 in c:\\users\\user\\anaconda3\\lib\\site-packages (from dnstwist[full]) (0.9.27)\n",
      "Requirement already satisfied: ppdeep>=20200505 in c:\\users\\user\\anaconda3\\lib\\site-packages (from dnstwist[full]) (20200505)\n",
      "Requirement already satisfied: idna>=2.8 in c:\\users\\user\\anaconda3\\lib\\site-packages (from dnstwist[full]) (3.3)\n",
      "Requirement already satisfied: geoip2>=4.0.0 in c:\\users\\user\\anaconda3\\lib\\site-packages (from dnstwist[full]) (4.6.0)\n",
      "Requirement already satisfied: urllib3<2.0.0,>=1.25.2 in c:\\users\\user\\anaconda3\\lib\\site-packages (from geoip2>=4.0.0->dnstwist[full]) (1.26.11)\n",
      "Requirement already satisfied: maxminddb<3.0.0,>=2.2.0 in c:\\users\\user\\anaconda3\\lib\\site-packages (from geoip2>=4.0.0->dnstwist[full]) (2.2.0)\n",
      "Requirement already satisfied: requests<3.0.0,>=2.24.0 in c:\\users\\user\\anaconda3\\lib\\site-packages (from geoip2>=4.0.0->dnstwist[full]) (2.28.1)\n",
      "Requirement already satisfied: aiohttp<4.0.0,>=3.6.2 in c:\\users\\user\\anaconda3\\lib\\site-packages (from geoip2>=4.0.0->dnstwist[full]) (3.8.4)\n",
      "Requirement already satisfied: yarl<2.0,>=1.0 in c:\\users\\user\\anaconda3\\lib\\site-packages (from aiohttp<4.0.0,>=3.6.2->geoip2>=4.0.0->dnstwist[full]) (1.9.2)\n",
      "Requirement already satisfied: charset-normalizer<4.0,>=2.0 in c:\\users\\user\\anaconda3\\lib\\site-packages (from aiohttp<4.0.0,>=3.6.2->geoip2>=4.0.0->dnstwist[full]) (2.0.4)\n",
      "Requirement already satisfied: attrs>=17.3.0 in c:\\users\\user\\anaconda3\\lib\\site-packages (from aiohttp<4.0.0,>=3.6.2->geoip2>=4.0.0->dnstwist[full]) (21.4.0)\n",
      "Requirement already satisfied: multidict<7.0,>=4.5 in c:\\users\\user\\anaconda3\\lib\\site-packages (from aiohttp<4.0.0,>=3.6.2->geoip2>=4.0.0->dnstwist[full]) (6.0.4)\n",
      "Requirement already satisfied: frozenlist>=1.1.1 in c:\\users\\user\\anaconda3\\lib\\site-packages (from aiohttp<4.0.0,>=3.6.2->geoip2>=4.0.0->dnstwist[full]) (1.3.3)\n",
      "Requirement already satisfied: async-timeout<5.0,>=4.0.0a3 in c:\\users\\user\\anaconda3\\lib\\site-packages (from aiohttp<4.0.0,>=3.6.2->geoip2>=4.0.0->dnstwist[full]) (4.0.2)\n",
      "Requirement already satisfied: aiosignal>=1.1.2 in c:\\users\\user\\anaconda3\\lib\\site-packages (from aiohttp<4.0.0,>=3.6.2->geoip2>=4.0.0->dnstwist[full]) (1.3.1)\n",
      "Requirement already satisfied: certifi>=2017.4.17 in c:\\users\\user\\anaconda3\\lib\\site-packages (from requests<3.0.0,>=2.24.0->geoip2>=4.0.0->dnstwist[full]) (2022.9.14)\n",
      "Requirement already satisfied: newspaper3k in c:\\users\\user\\anaconda3\\lib\\site-packages (0.2.8)\n",
      "Requirement already satisfied: feedparser>=5.2.1 in c:\\users\\user\\anaconda3\\lib\\site-packages (from newspaper3k) (6.0.10)\n",
      "Requirement already satisfied: lxml>=3.6.0 in c:\\users\\user\\anaconda3\\lib\\site-packages (from newspaper3k) (4.9.1)\n",
      "Requirement already satisfied: python-dateutil>=2.5.3 in c:\\users\\user\\anaconda3\\lib\\site-packages (from newspaper3k) (2.8.2)\n",
      "Requirement already satisfied: nltk>=3.2.1 in c:\\users\\user\\anaconda3\\lib\\site-packages (from newspaper3k) (3.7)\n",
      "Requirement already satisfied: cssselect>=0.9.2 in c:\\users\\user\\anaconda3\\lib\\site-packages (from newspaper3k) (1.1.0)\n",
      "Requirement already satisfied: PyYAML>=3.11 in c:\\users\\user\\anaconda3\\lib\\site-packages (from newspaper3k) (6.0)\n",
      "Requirement already satisfied: beautifulsoup4>=4.4.1 in c:\\users\\user\\anaconda3\\lib\\site-packages (from newspaper3k) (4.11.1)\n",
      "Requirement already satisfied: requests>=2.10.0 in c:\\users\\user\\anaconda3\\lib\\site-packages (from newspaper3k) (2.28.1)\n",
      "Requirement already satisfied: jieba3k>=0.35.1 in c:\\users\\user\\anaconda3\\lib\\site-packages (from newspaper3k) (0.35.1)\n",
      "Requirement already satisfied: Pillow>=3.3.0 in c:\\users\\user\\anaconda3\\lib\\site-packages (from newspaper3k) (9.2.0)\n",
      "Requirement already satisfied: feedfinder2>=0.0.4 in c:\\users\\user\\anaconda3\\lib\\site-packages (from newspaper3k) (0.0.4)\n",
      "Requirement already satisfied: tinysegmenter==0.3 in c:\\users\\user\\anaconda3\\lib\\site-packages (from newspaper3k) (0.3)\n",
      "Requirement already satisfied: tldextract>=2.0.1 in c:\\users\\user\\anaconda3\\lib\\site-packages (from newspaper3k) (3.2.0)\n",
      "Requirement already satisfied: soupsieve>1.2 in c:\\users\\user\\anaconda3\\lib\\site-packages (from beautifulsoup4>=4.4.1->newspaper3k) (2.3.1)\n",
      "Requirement already satisfied: six in c:\\users\\user\\anaconda3\\lib\\site-packages (from feedfinder2>=0.0.4->newspaper3k) (1.16.0)\n",
      "Requirement already satisfied: sgmllib3k in c:\\users\\user\\anaconda3\\lib\\site-packages (from feedparser>=5.2.1->newspaper3k) (1.0.0)\n",
      "Requirement already satisfied: regex>=2021.8.3 in c:\\users\\user\\anaconda3\\lib\\site-packages (from nltk>=3.2.1->newspaper3k) (2022.7.9)\n",
      "Requirement already satisfied: joblib in c:\\users\\user\\anaconda3\\lib\\site-packages (from nltk>=3.2.1->newspaper3k) (1.1.0)\n",
      "Requirement already satisfied: tqdm in c:\\users\\user\\anaconda3\\lib\\site-packages (from nltk>=3.2.1->newspaper3k) (4.64.1)\n",
      "Requirement already satisfied: click in c:\\users\\user\\anaconda3\\lib\\site-packages (from nltk>=3.2.1->newspaper3k) (8.0.4)\n",
      "Requirement already satisfied: urllib3<1.27,>=1.21.1 in c:\\users\\user\\anaconda3\\lib\\site-packages (from requests>=2.10.0->newspaper3k) (1.26.11)\n",
      "Requirement already satisfied: charset-normalizer<3,>=2 in c:\\users\\user\\anaconda3\\lib\\site-packages (from requests>=2.10.0->newspaper3k) (2.0.4)\n",
      "Requirement already satisfied: idna<4,>=2.5 in c:\\users\\user\\anaconda3\\lib\\site-packages (from requests>=2.10.0->newspaper3k) (3.3)\n",
      "Requirement already satisfied: certifi>=2017.4.17 in c:\\users\\user\\anaconda3\\lib\\site-packages (from requests>=2.10.0->newspaper3k) (2022.9.14)\n",
      "Requirement already satisfied: filelock>=3.0.8 in c:\\users\\user\\anaconda3\\lib\\site-packages (from tldextract>=2.0.1->newspaper3k) (3.6.0)\n",
      "Requirement already satisfied: requests-file>=1.4 in c:\\users\\user\\anaconda3\\lib\\site-packages (from tldextract>=2.0.1->newspaper3k) (1.5.1)\n",
      "Requirement already satisfied: colorama in c:\\users\\user\\anaconda3\\lib\\site-packages (from click->nltk>=3.2.1->newspaper3k) (0.4.5)\n"
     ]
    }
   ],
   "source": [
    "# Block for installs\n",
    "!pip install dnstwist[full]\n",
    "!pip install newspaper3k"
   ]
  },
  {
   "cell_type": "code",
   "execution_count": 3,
   "id": "69074276",
   "metadata": {},
   "outputs": [],
   "source": [
    "### Defining methods block\n",
    "from urllib.parse import urlparse\n",
    "\n",
    "def calculate_percentage_digits(domain):\n",
    "    digits_count = sum(c.isdigit() for c in domain)\n",
    "    total_chars = len(domain)\n",
    "    percentage_digits = digits_count / total_chars * 100\n",
    "    return percentage_digits\n",
    "\n",
    "def get_fqdn(url):\n",
    "    parsed_url = urlparse(url)\n",
    "    return parsed_url.netloc\n",
    "\n",
    "def count_unique_chars(domain):\n",
    "    unique_chars = set(domain)\n",
    "    return len(unique_chars) - 1     ### -1 because it counts the '.' in the FQDN\n",
    "\n",
    "def count_hyphens(domain):\n",
    "    hyphens_count = sum(c == '-' for c in domain)\n",
    "    return hyphens_count\n",
    "\n",
    "def count_dots(domain):\n",
    "    dot_count = sum(c == '.' for c in domain)\n",
    "    return dot_count"
   ]
  },
  {
   "cell_type": "code",
   "execution_count": null,
   "id": "97499b83",
   "metadata": {},
   "outputs": [],
   "source": [
    "benign_df['Domain Length'] = benign_df[0].str.len()\n",
    "benign_df['Digit Percentage'] = benign_df[0].apply(calculate_percentage_digits)\n",
    "benign_df['Unique Character Count'] = benign_df[0].apply(count_unique_chars)\n",
    "benign_df['Hypen Count'] = benign_df[0].apply(count_hyphens)\n",
    "benign_df['Dot Count'] = benign_df[0].apply(count_dots)\n",
    "benign_df"
   ]
  },
  {
   "cell_type": "code",
   "execution_count": null,
   "id": "8efff37e",
   "metadata": {},
   "outputs": [],
   "source": [
    "malicious_df['Domain'] = malicious_df['url'].apply(get_fqdn)\n",
    "malicious_df['Domain Length'] = malicious_df['Domain'].str.len()\n",
    "malicious_df['Digit Percentage'] = malicious_df['Domain'].apply(calculate_percentage_digits)\n",
    "malicious_df['Digit Count'] = malicious_df['Domain'].apply(count_unique_chars)\n",
    "malicious_df['Hyphen Count'] = malicious_df['Domain'].apply(count_hyphens)\n",
    "malicious_df['Dot Count'] = malicious_df['Domain'].apply(count_dots)\n",
    "malicious_df"
   ]
  },
  {
   "cell_type": "code",
   "execution_count": null,
   "id": "1f0efa92",
   "metadata": {},
   "outputs": [],
   "source": [
    "\n",
    "mixed_df['Domain Length'] = mixed_df[0].str.len()\n",
    "mixed_df['Digit Percentage'] = mixed_df[0].apply(calculate_percentage_digits)\n",
    "mixed_df['Digit Count'] = mixed_df[0].apply(count_unique_chars)\n",
    "mixed_df['Hypen Count'] = mixed_df[0].apply(count_hyphens)\n",
    "mixed_df['Dot Count'] = mixed_df[0].apply(count_dots)\n",
    "mixed_df"
   ]
  },
  {
   "cell_type": "code",
   "execution_count": null,
   "id": "1ce9f4ff",
   "metadata": {},
   "outputs": [],
   "source": [
    "tranco_df['Domain Length'] = tranco_df[1].str.len()\n",
    "tranco_df['Digit Percentage'] = tranco_df[1].apply(calculate_percentage_digits)\n",
    "tranco_df['Digit Count'] = tranco_df[1].apply(count_unique_chars)\n",
    "tranco_df['Hypen Count'] = tranco_df[1].apply(count_hyphens)\n",
    "tranco_df['Dot Count'] = tranco_df[1].apply(count_dots)\n",
    "tranco_df"
   ]
  },
  {
   "cell_type": "code",
   "execution_count": null,
   "id": "90f6a76d",
   "metadata": {},
   "outputs": [],
   "source": []
  }
 ],
 "metadata": {
  "kernelspec": {
   "display_name": "Python 3 (ipykernel)",
   "language": "python",
   "name": "python3"
  },
  "language_info": {
   "codemirror_mode": {
    "name": "ipython",
    "version": 3
   },
   "file_extension": ".py",
   "mimetype": "text/x-python",
   "name": "python",
   "nbconvert_exporter": "python",
   "pygments_lexer": "ipython3",
   "version": "3.9.13"
  }
 },
 "nbformat": 4,
 "nbformat_minor": 5
}
