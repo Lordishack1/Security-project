{
 "cells": [
  {
   "cell_type": "code",
   "execution_count": 1,
   "id": "16a9cafe",
   "metadata": {},
   "outputs": [
    {
     "name": "stdout",
     "output_type": "stream",
     "text": [
      "hello World\n"
     ]
    }
   ],
   "source": [
    "print(\"hello World\")"
   ]
  },
  {
   "cell_type": "code",
   "execution_count": 2,
   "id": "21561f73",
   "metadata": {},
   "outputs": [
    {
     "data": {
      "text/plain": [
       "52"
      ]
     },
     "execution_count": 2,
     "metadata": {},
     "output_type": "execute_result"
    }
   ],
   "source": [
    "50 + 2"
   ]
  },
  {
   "cell_type": "code",
   "execution_count": 3,
   "id": "14bd0d8c",
   "metadata": {},
   "outputs": [
    {
     "data": {
      "text/plain": [
       "1.6"
      ]
     },
     "execution_count": 3,
     "metadata": {},
     "output_type": "execute_result"
    }
   ],
   "source": [
    "8 / 5"
   ]
  },
  {
   "cell_type": "code",
   "execution_count": 4,
   "id": "79ff9f45",
   "metadata": {},
   "outputs": [
    {
     "data": {
      "text/plain": [
       "1"
      ]
     },
     "execution_count": 4,
     "metadata": {},
     "output_type": "execute_result"
    }
   ],
   "source": [
    "8 // 5"
   ]
  },
  {
   "cell_type": "code",
   "execution_count": 5,
   "id": "b1e6258f",
   "metadata": {},
   "outputs": [
    {
     "data": {
      "text/plain": [
       "3"
      ]
     },
     "execution_count": 5,
     "metadata": {},
     "output_type": "execute_result"
    }
   ],
   "source": [
    "8 % 5"
   ]
  },
  {
   "cell_type": "code",
   "execution_count": 26,
   "id": "251d23b5",
   "metadata": {},
   "outputs": [
    {
     "data": {
      "text/plain": [
       "-2"
      ]
     },
     "execution_count": 26,
     "metadata": {},
     "output_type": "execute_result"
    }
   ],
   "source": [
    "4-6"
   ]
  },
  {
   "cell_type": "code",
   "execution_count": null,
   "id": "6fba9950",
   "metadata": {},
   "outputs": [],
   "source": []
  },
  {
   "cell_type": "code",
   "execution_count": 6,
   "id": "7b1cf66d",
   "metadata": {},
   "outputs": [
    {
     "data": {
      "text/plain": [
       "20"
      ]
     },
     "execution_count": 6,
     "metadata": {},
     "output_type": "execute_result"
    }
   ],
   "source": [
    "4 * 5"
   ]
  },
  {
   "cell_type": "code",
   "execution_count": 7,
   "id": "af719374",
   "metadata": {},
   "outputs": [
    {
     "data": {
      "text/plain": [
       "1024"
      ]
     },
     "execution_count": 7,
     "metadata": {},
     "output_type": "execute_result"
    }
   ],
   "source": [
    "4 ** 5"
   ]
  },
  {
   "cell_type": "code",
   "execution_count": 9,
   "id": "ac7db4c5",
   "metadata": {},
   "outputs": [
    {
     "data": {
      "text/plain": [
       "45"
      ]
     },
     "execution_count": 9,
     "metadata": {},
     "output_type": "execute_result"
    }
   ],
   "source": [
    "width = 20\n",
    "height = 5 ** 2\n",
    "width + height"
   ]
  },
  {
   "cell_type": "code",
   "execution_count": 10,
   "id": "a8a23377",
   "metadata": {},
   "outputs": [
    {
     "data": {
      "text/plain": [
       "True"
      ]
     },
     "execution_count": 10,
     "metadata": {},
     "output_type": "execute_result"
    }
   ],
   "source": [
    "1 >= 1"
   ]
  },
  {
   "cell_type": "code",
   "execution_count": 11,
   "id": "5a6ddaf3",
   "metadata": {},
   "outputs": [
    {
     "data": {
      "text/plain": [
       "False"
      ]
     },
     "execution_count": 11,
     "metadata": {},
     "output_type": "execute_result"
    }
   ],
   "source": [
    "1 < 0"
   ]
  },
  {
   "cell_type": "code",
   "execution_count": 12,
   "id": "492f3c51",
   "metadata": {},
   "outputs": [],
   "source": [
    "a = [1, 2, 3]\n",
    "b = [1,2,3]"
   ]
  },
  {
   "cell_type": "code",
   "execution_count": 13,
   "id": "d399699b",
   "metadata": {},
   "outputs": [
    {
     "data": {
      "text/plain": [
       "True"
      ]
     },
     "execution_count": 13,
     "metadata": {},
     "output_type": "execute_result"
    }
   ],
   "source": [
    "a == b"
   ]
  },
  {
   "cell_type": "code",
   "execution_count": 14,
   "id": "259ea299",
   "metadata": {},
   "outputs": [
    {
     "data": {
      "text/plain": [
       "False"
      ]
     },
     "execution_count": 14,
     "metadata": {},
     "output_type": "execute_result"
    }
   ],
   "source": [
    "a is b #returns true if a and b are the same object otherwise returns false"
   ]
  },
  {
   "cell_type": "code",
   "execution_count": 15,
   "id": "3b7666a5",
   "metadata": {},
   "outputs": [
    {
     "data": {
      "text/plain": [
       "True"
      ]
     },
     "execution_count": 15,
     "metadata": {},
     "output_type": "execute_result"
    }
   ],
   "source": [
    "a is a"
   ]
  },
  {
   "cell_type": "code",
   "execution_count": 16,
   "id": "4ad673b1",
   "metadata": {},
   "outputs": [
    {
     "data": {
      "text/plain": [
       "False"
      ]
     },
     "execution_count": 16,
     "metadata": {},
     "output_type": "execute_result"
    }
   ],
   "source": [
    "b is a"
   ]
  },
  {
   "cell_type": "code",
   "execution_count": 17,
   "id": "3004dbca",
   "metadata": {},
   "outputs": [
    {
     "data": {
      "text/plain": [
       "\"i don't know what to type\""
      ]
     },
     "execution_count": 17,
     "metadata": {},
     "output_type": "execute_result"
    }
   ],
   "source": [
    "'i don\\'t know what to type'"
   ]
  },
  {
   "cell_type": "code",
   "execution_count": 21,
   "id": "b00a5a26",
   "metadata": {},
   "outputs": [
    {
     "name": "stdout",
     "output_type": "stream",
     "text": [
      "this\n",
      "will\n",
      "be\n",
      "a\n",
      "new\n",
      "line\n"
     ]
    }
   ],
   "source": [
    "a = 'this\\nwill\\nbe\\na\\nnew\\nline'\n",
    "print(a)\n",
    "#you have to set it to a variable"
   ]
  },
  {
   "cell_type": "code",
   "execution_count": 22,
   "id": "21448e48",
   "metadata": {},
   "outputs": [],
   "source": [
    "string = 'learning'"
   ]
  },
  {
   "cell_type": "code",
   "execution_count": 23,
   "id": "063fda35",
   "metadata": {},
   "outputs": [
    {
     "data": {
      "text/plain": [
       "'a'"
      ]
     },
     "execution_count": 23,
     "metadata": {},
     "output_type": "execute_result"
    }
   ],
   "source": [
    "string[2]"
   ]
  },
  {
   "cell_type": "code",
   "execution_count": 24,
   "id": "8d6249da",
   "metadata": {},
   "outputs": [
    {
     "data": {
      "text/plain": [
       "8"
      ]
     },
     "execution_count": 24,
     "metadata": {},
     "output_type": "execute_result"
    }
   ],
   "source": [
    "len(string)\n",
    "#give you the length"
   ]
  },
  {
   "cell_type": "code",
   "execution_count": 25,
   "id": "0c782253",
   "metadata": {},
   "outputs": [
    {
     "data": {
      "text/plain": [
       "'g'"
      ]
     },
     "execution_count": 25,
     "metadata": {},
     "output_type": "execute_result"
    }
   ],
   "source": [
    "string[-1]\n",
    "#goes to the end of the string"
   ]
  },
  {
   "cell_type": "code",
   "execution_count": 27,
   "id": "1ea5342e",
   "metadata": {},
   "outputs": [
    {
     "ename": "IndexError",
     "evalue": "string index out of range",
     "output_type": "error",
     "traceback": [
      "\u001b[0;31m---------------------------------------------------------------------------\u001b[0m",
      "\u001b[0;31mIndexError\u001b[0m                                Traceback (most recent call last)",
      "\u001b[0;32m/var/folders/fc/x80wfpw17pv7yb9hd44b3p5w0000gn/T/ipykernel_96414/157781882.py\u001b[0m in \u001b[0;36m<module>\u001b[0;34m\u001b[0m\n\u001b[0;32m----> 1\u001b[0;31m \u001b[0mstring\u001b[0m\u001b[0;34m[\u001b[0m\u001b[0;36m10\u001b[0m\u001b[0;34m]\u001b[0m\u001b[0;34m\u001b[0m\u001b[0;34m\u001b[0m\u001b[0m\n\u001b[0m",
      "\u001b[0;31mIndexError\u001b[0m: string index out of range"
     ]
    }
   ],
   "source": [
    "string[10]\n",
    "#out of bounds"
   ]
  },
  {
   "cell_type": "code",
   "execution_count": 29,
   "id": "ce000029",
   "metadata": {},
   "outputs": [
    {
     "data": {
      "text/plain": [
       "'learn'"
      ]
     },
     "execution_count": 29,
     "metadata": {},
     "output_type": "execute_result"
    }
   ],
   "source": [
    "string[0:5]\n",
    "#string slicing\n",
    "#takes the characters from 0 to 5 but 5 is excluded and 0 is included"
   ]
  },
  {
   "cell_type": "code",
   "execution_count": 30,
   "id": "dbb4a2b6",
   "metadata": {},
   "outputs": [
    {
     "data": {
      "text/plain": [
       "'ing'"
      ]
     },
     "execution_count": 30,
     "metadata": {},
     "output_type": "execute_result"
    }
   ],
   "source": [
    "string[5:]\n",
    "#goes straight to the end of the string from where you want to start"
   ]
  },
  {
   "cell_type": "code",
   "execution_count": 31,
   "id": "fbf95e73",
   "metadata": {},
   "outputs": [
    {
     "data": {
      "text/plain": [
       "'learning'"
      ]
     },
     "execution_count": 31,
     "metadata": {},
     "output_type": "execute_result"
    }
   ],
   "source": [
    "string[0:5] + string[5:]"
   ]
  },
  {
   "cell_type": "code",
   "execution_count": 32,
   "id": "7c1d8b12",
   "metadata": {},
   "outputs": [
    {
     "data": {
      "text/plain": [
       "'learn ing'"
      ]
     },
     "execution_count": 32,
     "metadata": {},
     "output_type": "execute_result"
    }
   ],
   "source": [
    "string[0:5] + ' ' + string[5:]"
   ]
  },
  {
   "cell_type": "code",
   "execution_count": 33,
   "id": "11637d98",
   "metadata": {},
   "outputs": [
    {
     "data": {
      "text/plain": [
       "'learning'"
      ]
     },
     "execution_count": 33,
     "metadata": {},
     "output_type": "execute_result"
    }
   ],
   "source": [
    "string[:1000000000]\n",
    "#if you dont know the ending index just put a large number"
   ]
  },
  {
   "cell_type": "code",
   "execution_count": 34,
   "id": "13fe0ad5",
   "metadata": {},
   "outputs": [
    {
     "ename": "TypeError",
     "evalue": "'str' object does not support item assignment",
     "output_type": "error",
     "traceback": [
      "\u001b[0;31m---------------------------------------------------------------------------\u001b[0m",
      "\u001b[0;31mTypeError\u001b[0m                                 Traceback (most recent call last)",
      "\u001b[0;32m/var/folders/fc/x80wfpw17pv7yb9hd44b3p5w0000gn/T/ipykernel_96414/920796862.py\u001b[0m in \u001b[0;36m<module>\u001b[0;34m\u001b[0m\n\u001b[0;32m----> 1\u001b[0;31m \u001b[0mstring\u001b[0m\u001b[0;34m[\u001b[0m\u001b[0;36m2\u001b[0m\u001b[0;34m]\u001b[0m\u001b[0;34m=\u001b[0m \u001b[0;34m'x'\u001b[0m\u001b[0;34m\u001b[0m\u001b[0;34m\u001b[0m\u001b[0m\n\u001b[0m",
      "\u001b[0;31mTypeError\u001b[0m: 'str' object does not support item assignment"
     ]
    }
   ],
   "source": [
    "string[2]= 'x'"
   ]
  },
  {
   "cell_type": "code",
   "execution_count": 35,
   "id": "e97aed0e",
   "metadata": {},
   "outputs": [
    {
     "data": {
      "text/plain": [
       "'lexrning'"
      ]
     },
     "execution_count": 35,
     "metadata": {},
     "output_type": "execute_result"
    }
   ],
   "source": [
    "string[:2] + 'x' + string[3:]"
   ]
  },
  {
   "cell_type": "code",
   "execution_count": 36,
   "id": "b2c4a167",
   "metadata": {},
   "outputs": [
    {
     "data": {
      "text/plain": [
       "[1, 2, 3, 4, 5]"
      ]
     },
     "execution_count": 36,
     "metadata": {},
     "output_type": "execute_result"
    }
   ],
   "source": [
    "squares = [1, 2, 3, 4, 5]\n",
    "squares"
   ]
  },
  {
   "cell_type": "code",
   "execution_count": 37,
   "id": "ab91c26e",
   "metadata": {},
   "outputs": [
    {
     "data": {
      "text/plain": [
       "5"
      ]
     },
     "execution_count": 37,
     "metadata": {},
     "output_type": "execute_result"
    }
   ],
   "source": [
    "squares[-1]"
   ]
  },
  {
   "cell_type": "code",
   "execution_count": 39,
   "id": "9f67f4c6",
   "metadata": {},
   "outputs": [
    {
     "data": {
      "text/plain": [
       "5"
      ]
     },
     "execution_count": 39,
     "metadata": {},
     "output_type": "execute_result"
    }
   ],
   "source": [
    "squares[4]"
   ]
  },
  {
   "cell_type": "code",
   "execution_count": 40,
   "id": "c72d28e1",
   "metadata": {},
   "outputs": [
    {
     "data": {
      "text/plain": [
       "[3, 4, 5]"
      ]
     },
     "execution_count": 40,
     "metadata": {},
     "output_type": "execute_result"
    }
   ],
   "source": [
    "squares[-3:]"
   ]
  },
  {
   "cell_type": "code",
   "execution_count": 41,
   "id": "30570a1e",
   "metadata": {},
   "outputs": [],
   "source": [
    "squares += [6,7,8]"
   ]
  },
  {
   "cell_type": "code",
   "execution_count": 42,
   "id": "b7120a65",
   "metadata": {},
   "outputs": [
    {
     "data": {
      "text/plain": [
       "[1, 2, 3, 4, 5, 6, 7, 8]"
      ]
     },
     "execution_count": 42,
     "metadata": {},
     "output_type": "execute_result"
    }
   ],
   "source": [
    "squares"
   ]
  },
  {
   "cell_type": "code",
   "execution_count": 43,
   "id": "1fafe35f",
   "metadata": {},
   "outputs": [],
   "source": [
    "squares[-3] = 5"
   ]
  },
  {
   "cell_type": "code",
   "execution_count": 44,
   "id": "8ea4cb4d",
   "metadata": {},
   "outputs": [
    {
     "data": {
      "text/plain": [
       "[1, 2, 3, 4, 5, 5, 7, 8]"
      ]
     },
     "execution_count": 44,
     "metadata": {},
     "output_type": "execute_result"
    }
   ],
   "source": [
    "squares"
   ]
  },
  {
   "cell_type": "code",
   "execution_count": 45,
   "id": "c878f069",
   "metadata": {},
   "outputs": [],
   "source": [
    "squares[-3] = 6"
   ]
  },
  {
   "cell_type": "code",
   "execution_count": 46,
   "id": "d336fafb",
   "metadata": {},
   "outputs": [
    {
     "data": {
      "text/plain": [
       "[1, 2, 3, 4, 5, 6, 7, 8]"
      ]
     },
     "execution_count": 46,
     "metadata": {},
     "output_type": "execute_result"
    }
   ],
   "source": [
    "squares"
   ]
  },
  {
   "cell_type": "code",
   "execution_count": 47,
   "id": "508e2892",
   "metadata": {},
   "outputs": [],
   "source": [
    "squares.append(121)"
   ]
  },
  {
   "cell_type": "code",
   "execution_count": 48,
   "id": "63c1379c",
   "metadata": {},
   "outputs": [
    {
     "data": {
      "text/plain": [
       "[1, 2, 3, 4, 5, 6, 7, 8, 121]"
      ]
     },
     "execution_count": 48,
     "metadata": {},
     "output_type": "execute_result"
    }
   ],
   "source": [
    "squares"
   ]
  },
  {
   "cell_type": "code",
   "execution_count": 49,
   "id": "aae2daa1",
   "metadata": {},
   "outputs": [
    {
     "data": {
      "text/plain": [
       "9"
      ]
     },
     "execution_count": 49,
     "metadata": {},
     "output_type": "execute_result"
    }
   ],
   "source": [
    "len(squares)"
   ]
  },
  {
   "cell_type": "code",
   "execution_count": 50,
   "id": "4db6b585",
   "metadata": {},
   "outputs": [
    {
     "data": {
      "text/plain": [
       "121"
      ]
     },
     "execution_count": 50,
     "metadata": {},
     "output_type": "execute_result"
    }
   ],
   "source": [
    "max(squares)"
   ]
  },
  {
   "cell_type": "code",
   "execution_count": 51,
   "id": "92a62b52",
   "metadata": {},
   "outputs": [
    {
     "data": {
      "text/plain": [
       "1"
      ]
     },
     "execution_count": 51,
     "metadata": {},
     "output_type": "execute_result"
    }
   ],
   "source": [
    "min(squares)"
   ]
  },
  {
   "cell_type": "code",
   "execution_count": 52,
   "id": "b40113f4",
   "metadata": {},
   "outputs": [],
   "source": [
    "listOfList = [['just', 'doing', 'it'], ['but', 'i', 'need'], [500, 200, 122]]"
   ]
  },
  {
   "cell_type": "code",
   "execution_count": 53,
   "id": "01a9a0d4",
   "metadata": {},
   "outputs": [
    {
     "data": {
      "text/plain": [
       "[['just', 'doing', 'it'], ['but', 'i', 'need'], [500, 200, 122]]"
      ]
     },
     "execution_count": 53,
     "metadata": {},
     "output_type": "execute_result"
    }
   ],
   "source": [
    "listOfList"
   ]
  },
  {
   "cell_type": "code",
   "execution_count": 54,
   "id": "f14a5894",
   "metadata": {},
   "outputs": [
    {
     "data": {
      "text/plain": [
       "3"
      ]
     },
     "execution_count": 54,
     "metadata": {},
     "output_type": "execute_result"
    }
   ],
   "source": [
    "len(listOfList)"
   ]
  },
  {
   "cell_type": "code",
   "execution_count": 57,
   "id": "77d017df",
   "metadata": {},
   "outputs": [
    {
     "data": {
      "text/plain": [
       "3"
      ]
     },
     "execution_count": 57,
     "metadata": {},
     "output_type": "execute_result"
    }
   ],
   "source": [
    "len(listOfList[1])"
   ]
  },
  {
   "cell_type": "code",
   "execution_count": 59,
   "id": "56e19c56",
   "metadata": {},
   "outputs": [],
   "source": [
    "a = ['a', 'b', 'c']\n",
    "b = [1, 2, 3, 4]"
   ]
  },
  {
   "cell_type": "code",
   "execution_count": 60,
   "id": "e8961b78",
   "metadata": {},
   "outputs": [],
   "source": [
    "c = [a,b]"
   ]
  },
  {
   "cell_type": "code",
   "execution_count": 61,
   "id": "661ab7d8",
   "metadata": {},
   "outputs": [
    {
     "data": {
      "text/plain": [
       "[['a', 'b', 'c'], [1, 2, 3, 4]]"
      ]
     },
     "execution_count": 61,
     "metadata": {},
     "output_type": "execute_result"
    }
   ],
   "source": [
    "c"
   ]
  },
  {
   "cell_type": "code",
   "execution_count": 65,
   "id": "43fc9c7f",
   "metadata": {},
   "outputs": [
    {
     "data": {
      "text/plain": [
       "'b'"
      ]
     },
     "execution_count": 65,
     "metadata": {},
     "output_type": "execute_result"
    }
   ],
   "source": [
    "c[0][1] #like a 2d array"
   ]
  },
  {
   "cell_type": "code",
   "execution_count": 66,
   "id": "000d732c",
   "metadata": {},
   "outputs": [
    {
     "data": {
      "text/plain": [
       "2"
      ]
     },
     "execution_count": 66,
     "metadata": {},
     "output_type": "execute_result"
    }
   ],
   "source": [
    "c[1][1]"
   ]
  },
  {
   "cell_type": "code",
   "execution_count": 67,
   "id": "b10ce76d",
   "metadata": {},
   "outputs": [],
   "source": [
    "c = a + b # merge lists"
   ]
  },
  {
   "cell_type": "code",
   "execution_count": 68,
   "id": "090aec39",
   "metadata": {},
   "outputs": [
    {
     "data": {
      "text/plain": [
       "['a', 'b', 'c', 1, 2, 3, 4]"
      ]
     },
     "execution_count": 68,
     "metadata": {},
     "output_type": "execute_result"
    }
   ],
   "source": [
    "c"
   ]
  },
  {
   "cell_type": "code",
   "execution_count": 69,
   "id": "57b27e07",
   "metadata": {},
   "outputs": [
    {
     "data": {
      "text/plain": [
       "7"
      ]
     },
     "execution_count": 69,
     "metadata": {},
     "output_type": "execute_result"
    }
   ],
   "source": [
    "len(c)"
   ]
  },
  {
   "cell_type": "code",
   "execution_count": 72,
   "id": "415acc63",
   "metadata": {},
   "outputs": [
    {
     "name": "stdout",
     "output_type": "stream",
     "text": [
      "please enter an integer: -4\n",
      "negative changed to 0\n"
     ]
    }
   ],
   "source": [
    "x = int(input('please enter an integer: '))\n",
    "if x < 0:\n",
    "    x = 0\n",
    "    print('negative changed to 0')\n",
    "elif x == 0:\n",
    "    print('zero')\n",
    "elif x == 1:\n",
    "    print('single')\n",
    "else:\n",
    "    print('more')"
   ]
  },
  {
   "cell_type": "code",
   "execution_count": 73,
   "id": "817823ae",
   "metadata": {},
   "outputs": [
    {
     "name": "stdout",
     "output_type": "stream",
     "text": [
      "0,1,2,3,4,"
     ]
    }
   ],
   "source": [
    "for i in range(5):\n",
    "    print(i,end=',')"
   ]
  },
  {
   "cell_type": "code",
   "execution_count": 75,
   "id": "d0775661",
   "metadata": {},
   "outputs": [
    {
     "name": "stdout",
     "output_type": "stream",
     "text": [
      "0 cat\n",
      "1 window\n",
      "2 mouse\n"
     ]
    }
   ],
   "source": [
    "words = ['cat', 'window', 'mouse']\n",
    "for i in range(len(words)):\n",
    "    print(i, words[i])"
   ]
  },
  {
   "cell_type": "code",
   "execution_count": 76,
   "id": "e9d5edd9",
   "metadata": {},
   "outputs": [
    {
     "data": {
      "text/plain": [
       "[0, 1, 2, 3, 4, 5, 6, 7, 8, 9]"
      ]
     },
     "execution_count": 76,
     "metadata": {},
     "output_type": "execute_result"
    }
   ],
   "source": [
    "list(range(10))\n",
    "#generates a list from 0 to a wanted number"
   ]
  },
  {
   "cell_type": "code",
   "execution_count": 77,
   "id": "33ed0f86",
   "metadata": {},
   "outputs": [
    {
     "name": "stdout",
     "output_type": "stream",
     "text": [
      "cat 3\n",
      "window 6\n",
      "mouse 5\n"
     ]
    }
   ],
   "source": [
    "for w in words:\n",
    "    print(w, len(w))"
   ]
  },
  {
   "cell_type": "code",
   "execution_count": 78,
   "id": "e5295661",
   "metadata": {},
   "outputs": [
    {
     "name": "stdout",
     "output_type": "stream",
     "text": [
      "0 cat\n",
      "1 window\n",
      "2 mouse\n"
     ]
    }
   ],
   "source": [
    "for i, w in enumerate(words):\n",
    "    print(i, w)"
   ]
  },
  {
   "cell_type": "code",
   "execution_count": 79,
   "id": "b61d1023",
   "metadata": {},
   "outputs": [],
   "source": [
    "def fib(n):\n",
    "    if n <= 1:\n",
    "        return n\n",
    "    else:\n",
    "        return fib(n-1) + fib(n-2)"
   ]
  },
  {
   "cell_type": "code",
   "execution_count": 80,
   "id": "15d17866",
   "metadata": {},
   "outputs": [
    {
     "data": {
      "text/plain": [
       "55"
      ]
     },
     "execution_count": 80,
     "metadata": {},
     "output_type": "execute_result"
    }
   ],
   "source": [
    "fib(10)"
   ]
  },
  {
   "cell_type": "code",
   "execution_count": 81,
   "id": "284faf28",
   "metadata": {},
   "outputs": [],
   "source": [
    "def parrot(voltage, action='vroom'):\n",
    "    if voltage< 100:\n",
    "        action='change'\n",
    "    print('this parrot wouldnt', action,end=' ')"
   ]
  },
  {
   "cell_type": "code",
   "execution_count": 82,
   "id": "f5866d11",
   "metadata": {},
   "outputs": [
    {
     "name": "stdout",
     "output_type": "stream",
     "text": [
      "this parrot wouldnt vroom "
     ]
    }
   ],
   "source": [
    "parrot(1001)"
   ]
  },
  {
   "cell_type": "code",
   "execution_count": 2,
   "id": "d7b05f35",
   "metadata": {},
   "outputs": [],
   "source": [
    "my_list = [1,2,3,'hi']"
   ]
  },
  {
   "cell_type": "code",
   "execution_count": 4,
   "id": "576de71f",
   "metadata": {},
   "outputs": [],
   "source": [
    "my_list.append(7)"
   ]
  },
  {
   "cell_type": "code",
   "execution_count": 5,
   "id": "ab5c9d53",
   "metadata": {},
   "outputs": [
    {
     "data": {
      "text/plain": [
       "[1, 2, 3, 'hi', 7, 7]"
      ]
     },
     "execution_count": 5,
     "metadata": {},
     "output_type": "execute_result"
    }
   ],
   "source": [
    "my_list"
   ]
  },
  {
   "cell_type": "markdown",
   "id": "82476d73",
   "metadata": {},
   "source": [
    "my_list.insert(3, 'security')"
   ]
  },
  {
   "cell_type": "code",
   "execution_count": 6,
   "id": "3d484688",
   "metadata": {},
   "outputs": [],
   "source": [
    "my_list.insert(3, 'security')"
   ]
  },
  {
   "cell_type": "code",
   "execution_count": 7,
   "id": "909f8479",
   "metadata": {},
   "outputs": [
    {
     "data": {
      "text/plain": [
       "[1, 2, 3, 'security', 'hi', 7, 7]"
      ]
     },
     "execution_count": 7,
     "metadata": {},
     "output_type": "execute_result"
    }
   ],
   "source": [
    "my_list"
   ]
  },
  {
   "cell_type": "code",
   "execution_count": 9,
   "id": "29a8d463",
   "metadata": {},
   "outputs": [],
   "source": [
    "my_list.remove(3)\n",
    "#has to be in the list to remove it"
   ]
  },
  {
   "cell_type": "code",
   "execution_count": 10,
   "id": "98c53849",
   "metadata": {},
   "outputs": [
    {
     "data": {
      "text/plain": [
       "[1, 2, 'security', 'hi', 7, 7]"
      ]
     },
     "execution_count": 10,
     "metadata": {},
     "output_type": "execute_result"
    }
   ],
   "source": [
    "my_list"
   ]
  },
  {
   "cell_type": "code",
   "execution_count": 12,
   "id": "fea3a2e1",
   "metadata": {},
   "outputs": [
    {
     "data": {
      "text/plain": [
       "'hi'"
      ]
     },
     "execution_count": 12,
     "metadata": {},
     "output_type": "execute_result"
    }
   ],
   "source": [
    "my_list.pop(3)"
   ]
  },
  {
   "cell_type": "code",
   "execution_count": 13,
   "id": "063fa2e5",
   "metadata": {},
   "outputs": [
    {
     "data": {
      "text/plain": [
       "[1, 2, 'security', 7, 7]"
      ]
     },
     "execution_count": 13,
     "metadata": {},
     "output_type": "execute_result"
    }
   ],
   "source": [
    "my_list"
   ]
  },
  {
   "cell_type": "code",
   "execution_count": 15,
   "id": "1ca12d54",
   "metadata": {},
   "outputs": [
    {
     "data": {
      "text/plain": [
       "'security'"
      ]
     },
     "execution_count": 15,
     "metadata": {},
     "output_type": "execute_result"
    }
   ],
   "source": [
    "my_list.pop(2)"
   ]
  },
  {
   "cell_type": "code",
   "execution_count": 16,
   "id": "615c7b7b",
   "metadata": {},
   "outputs": [],
   "source": [
    "my_list.sort(key=None, reverse=True) #decending order and must be numbers"
   ]
  },
  {
   "cell_type": "code",
   "execution_count": 17,
   "id": "ab4f7ce2",
   "metadata": {},
   "outputs": [
    {
     "data": {
      "text/plain": [
       "[7, 7, 2, 1]"
      ]
     },
     "execution_count": 17,
     "metadata": {},
     "output_type": "execute_result"
    }
   ],
   "source": [
    "my_list"
   ]
  },
  {
   "cell_type": "code",
   "execution_count": 20,
   "id": "b12575ea",
   "metadata": {},
   "outputs": [],
   "source": [
    "my_list.sort(key=None, reverse=False) #acending order"
   ]
  },
  {
   "cell_type": "code",
   "execution_count": 21,
   "id": "e647bdb3",
   "metadata": {},
   "outputs": [
    {
     "data": {
      "text/plain": [
       "[1, 2, 7, 7]"
      ]
     },
     "execution_count": 21,
     "metadata": {},
     "output_type": "execute_result"
    }
   ],
   "source": [
    "my_list\n"
   ]
  },
  {
   "cell_type": "code",
   "execution_count": 22,
   "id": "a244dca3",
   "metadata": {},
   "outputs": [],
   "source": [
    "my_list.reverse()"
   ]
  },
  {
   "cell_type": "code",
   "execution_count": 23,
   "id": "ddb3fb1b",
   "metadata": {},
   "outputs": [
    {
     "data": {
      "text/plain": [
       "[7, 7, 2, 1]"
      ]
     },
     "execution_count": 23,
     "metadata": {},
     "output_type": "execute_result"
    }
   ],
   "source": [
    "my_list"
   ]
  },
  {
   "cell_type": "code",
   "execution_count": 24,
   "id": "2f73f6fe",
   "metadata": {},
   "outputs": [],
   "source": [
    "my_list2 = my_list.copy()"
   ]
  },
  {
   "cell_type": "code",
   "execution_count": 25,
   "id": "57f7baf9",
   "metadata": {},
   "outputs": [
    {
     "data": {
      "text/plain": [
       "[7, 7, 2, 1]"
      ]
     },
     "execution_count": 25,
     "metadata": {},
     "output_type": "execute_result"
    }
   ],
   "source": [
    "my_list"
   ]
  },
  {
   "cell_type": "code",
   "execution_count": 26,
   "id": "2ebbf13a",
   "metadata": {},
   "outputs": [
    {
     "data": {
      "text/plain": [
       "[7, 7, 2, 1]"
      ]
     },
     "execution_count": 26,
     "metadata": {},
     "output_type": "execute_result"
    }
   ],
   "source": [
    "my_list2"
   ]
  },
  {
   "cell_type": "code",
   "execution_count": 35,
   "id": "54891067",
   "metadata": {},
   "outputs": [],
   "source": [
    "squares = []\n",
    "for x in range(19):\n",
    "    squares.append(x**2)"
   ]
  },
  {
   "cell_type": "code",
   "execution_count": 36,
   "id": "31c96209",
   "metadata": {},
   "outputs": [],
   "source": [
    "combs = []\n",
    "for x in [1, 2, 3]:\n",
    "    for y in [3, 1, 4]:\n",
    "        if x != y:\n",
    "            combs.append((x,y))"
   ]
  },
  {
   "cell_type": "code",
   "execution_count": 37,
   "id": "9fc6cb4e",
   "metadata": {
    "scrolled": false
   },
   "outputs": [
    {
     "data": {
      "text/plain": [
       "[0,\n",
       " 1,\n",
       " 4,\n",
       " 9,\n",
       " 16,\n",
       " 25,\n",
       " 36,\n",
       " 49,\n",
       " 64,\n",
       " 81,\n",
       " 100,\n",
       " 121,\n",
       " 144,\n",
       " 169,\n",
       " 196,\n",
       " 225,\n",
       " 256,\n",
       " 289,\n",
       " 324]"
      ]
     },
     "execution_count": 37,
     "metadata": {},
     "output_type": "execute_result"
    }
   ],
   "source": [
    "squares"
   ]
  },
  {
   "cell_type": "code",
   "execution_count": 38,
   "id": "6f1423d4",
   "metadata": {},
   "outputs": [
    {
     "data": {
      "text/plain": [
       "[(1, 3), (1, 4), (2, 3), (2, 1), (2, 4), (3, 1), (3, 4)]"
      ]
     },
     "execution_count": 38,
     "metadata": {},
     "output_type": "execute_result"
    }
   ],
   "source": [
    "combs"
   ]
  },
  {
   "cell_type": "code",
   "execution_count": 39,
   "id": "7a4b81ac",
   "metadata": {},
   "outputs": [],
   "source": [
    "t = 1234, 5678, 'hello!'"
   ]
  },
  {
   "cell_type": "code",
   "execution_count": 40,
   "id": "e5096bb7",
   "metadata": {},
   "outputs": [
    {
     "data": {
      "text/plain": [
       "(1234, 5678, 'hello!')"
      ]
     },
     "execution_count": 40,
     "metadata": {},
     "output_type": "execute_result"
    }
   ],
   "source": [
    "t"
   ]
  },
  {
   "cell_type": "code",
   "execution_count": 41,
   "id": "4ec0f953",
   "metadata": {},
   "outputs": [
    {
     "data": {
      "text/plain": [
       "1234"
      ]
     },
     "execution_count": 41,
     "metadata": {},
     "output_type": "execute_result"
    }
   ],
   "source": [
    "t[0]"
   ]
  },
  {
   "cell_type": "code",
   "execution_count": 42,
   "id": "00d2e277",
   "metadata": {},
   "outputs": [
    {
     "ename": "TypeError",
     "evalue": "'tuple' object does not support item assignment",
     "output_type": "error",
     "traceback": [
      "\u001b[0;31m---------------------------------------------------------------------------\u001b[0m",
      "\u001b[0;31mTypeError\u001b[0m                                 Traceback (most recent call last)",
      "\u001b[0;32m/var/folders/fc/x80wfpw17pv7yb9hd44b3p5w0000gn/T/ipykernel_25116/2871147383.py\u001b[0m in \u001b[0;36m<module>\u001b[0;34m\u001b[0m\n\u001b[0;32m----> 1\u001b[0;31m \u001b[0mt\u001b[0m\u001b[0;34m[\u001b[0m\u001b[0;36m4\u001b[0m\u001b[0;34m]\u001b[0m \u001b[0;34m=\u001b[0m \u001b[0;34m'security'\u001b[0m\u001b[0;34m\u001b[0m\u001b[0;34m\u001b[0m\u001b[0m\n\u001b[0m",
      "\u001b[0;31mTypeError\u001b[0m: 'tuple' object does not support item assignment"
     ]
    }
   ],
   "source": [
    "t[4] = 'security' #tuples are immutable and can not be changed"
   ]
  },
  {
   "cell_type": "code",
   "execution_count": 43,
   "id": "10c5c615",
   "metadata": {},
   "outputs": [],
   "source": [
    "basket = ('apples', 'orange', 'apple', 'pear') #set"
   ]
  },
  {
   "cell_type": "code",
   "execution_count": 44,
   "id": "0eecfcdb",
   "metadata": {},
   "outputs": [
    {
     "data": {
      "text/plain": [
       "('apples', 'orange', 'apple', 'pear')"
      ]
     },
     "execution_count": 44,
     "metadata": {},
     "output_type": "execute_result"
    }
   ],
   "source": [
    "basket"
   ]
  },
  {
   "cell_type": "code",
   "execution_count": 47,
   "id": "76ef5fe0",
   "metadata": {},
   "outputs": [
    {
     "data": {
      "text/plain": [
       "True"
      ]
     },
     "execution_count": 47,
     "metadata": {},
     "output_type": "execute_result"
    }
   ],
   "source": [
    "'orange'in basket"
   ]
  },
  {
   "cell_type": "code",
   "execution_count": 48,
   "id": "60337fd2",
   "metadata": {},
   "outputs": [
    {
     "data": {
      "text/plain": [
       "False"
      ]
     },
     "execution_count": 48,
     "metadata": {},
     "output_type": "execute_result"
    }
   ],
   "source": [
    "'bannana' in basket"
   ]
  },
  {
   "cell_type": "code",
   "execution_count": 51,
   "id": "fd0b1f18",
   "metadata": {},
   "outputs": [],
   "source": [
    "a = (b for b in 'abcdabcdrbadabcr' if b not in 'abc') # im not sure what is happening"
   ]
  },
  {
   "cell_type": "code",
   "execution_count": 52,
   "id": "dbc5ab8e",
   "metadata": {},
   "outputs": [
    {
     "data": {
      "text/plain": [
       "<generator object <genexpr> at 0x7f80e5c30900>"
      ]
     },
     "execution_count": 52,
     "metadata": {},
     "output_type": "execute_result"
    }
   ],
   "source": [
    "a"
   ]
  },
  {
   "cell_type": "code",
   "execution_count": 60,
   "id": "bfaf51a2",
   "metadata": {},
   "outputs": [],
   "source": [
    "look_up = {'john': 1234, 'randall': 5678}"
   ]
  },
  {
   "cell_type": "code",
   "execution_count": 62,
   "id": "139ae706",
   "metadata": {},
   "outputs": [],
   "source": [
    "look_up['jill'] = 1029"
   ]
  },
  {
   "cell_type": "code",
   "execution_count": 63,
   "id": "5c6081ad",
   "metadata": {},
   "outputs": [],
   "source": [
    "my_dict = {x: x**2 for x in (2, 4, 6)}"
   ]
  },
  {
   "cell_type": "code",
   "execution_count": 64,
   "id": "f68564ee",
   "metadata": {},
   "outputs": [
    {
     "name": "stdout",
     "output_type": "stream",
     "text": [
      "what is your name? It is lancelot\n",
      "what is your quest? It is the holy grail\n",
      "what is your favorite color? It is blue\n"
     ]
    }
   ],
   "source": [
    "questions = ['name', 'quest', 'favorite color']\n",
    "answers = ['lancelot', 'the holy grail', 'blue']\n",
    "for q, a in zip(questions, answers):\n",
    "    print('what is your %s? It is %s' % (q,a))"
   ]
  },
  {
   "cell_type": "code",
   "execution_count": 71,
   "id": "68570e8e",
   "metadata": {},
   "outputs": [
    {
     "name": "stdout",
     "output_type": "stream",
     "text": [
      "{\\rtf1\\ansi\\ansicpg1252\\cocoartf2639\n",
      "\\cocoatextscaling0\\cocoaplatform0{\\fonttbl\\f0\\fswiss\\fcharset0 Helvetica;}\n",
      "{\\colortbl;\\red255\\green255\\blue255;}\n",
      "{\\*\\expandedcolortbl;;}\n",
      "\\margl1440\\margr1440\\vieww11520\\viewh8400\\viewkind0\n",
      "\\pard\\tx720\\tx1440\\tx2160\\tx2880\\tx3600\\tx4320\\tx5040\\tx5760\\tx6480\\tx7200\\tx7920\\tx8640\\pardirnatural\\partightenfactor0\n",
      "\n",
      "\\f0\\fs24 \\cf0 This is the first line\\\n",
      "Second\\\n",
      "Third man this is crazy}\n"
     ]
    }
   ],
   "source": [
    "with open('file.txt', 'r') as fp:\n",
    "    s = fp.read()\n",
    "    print(s)"
   ]
  },
  {
   "cell_type": "code",
   "execution_count": 69,
   "id": "8c3bfb68",
   "metadata": {},
   "outputs": [],
   "source": [
    "with open('file.txt', 'r') as fp:\n",
    "    fp.readline()\n",
    "    fp.readline()"
   ]
  },
  {
   "cell_type": "code",
   "execution_count": 70,
   "id": "ffd25443",
   "metadata": {},
   "outputs": [
    {
     "name": "stdout",
     "output_type": "stream",
     "text": [
      "{\\rtf1\\ansi\\ansicpg1252\\cocoartf2639\n",
      "\\cocoatextscaling0\\cocoaplatform0{\\fonttbl\\f0\\fswiss\\fcharset0 Helvetica;}\n",
      "{\\colortbl;\\red255\\green255\\blue255;}\n",
      "{\\*\\expandedcolortbl;;}\n",
      "\\margl1440\\margr1440\\vieww11520\\viewh8400\\viewkind0\n",
      "\\pard\\tx720\\tx1440\\tx2160\\tx2880\\tx3600\\tx4320\\tx5040\\tx5760\\tx6480\\tx7200\\tx7920\\tx8640\\pardirnatural\\partightenfactor0\n",
      "\n",
      "\\f0\\fs24 \\cf0 I just needed to test something.\\\n",
      "Thank ya}"
     ]
    }
   ],
   "source": [
    "with open('file.txt', 'r') as fp:\n",
    "    for line in fp:\n",
    "        print(line,end='')"
   ]
  },
  {
   "cell_type": "code",
   "execution_count": 73,
   "id": "a55bf51f",
   "metadata": {},
   "outputs": [
    {
     "name": "stdout",
     "output_type": "stream",
     "text": [
      "['GlobalRank', 'TldRank', 'Domain', 'TLD', 'RefSubNets', 'RefIPs', 'IDN_Domain', 'IDN_TLD', 'PrevGlobalRank', 'PrevTldRank', 'PrevRefSubNets', 'PrevRefIPs']\n",
      "['1', '1', 'google.com', 'com', '493225', '2423262', 'google.com', 'com', '1', '1', '492684', '2421905']\n",
      "['2', '2', 'facebook.com', 'com', '491991', '2576708', 'facebook.com', 'com', '2', '2', '491669', '2574466']\n",
      "['3', '3', 'youtube.com', 'com', '443833', '2089772', 'youtube.com', 'com', '3', '3', '443324', '2088013']\n",
      "['4', '4', 'twitter.com', 'com', '437495', '2073037', 'twitter.com', 'com', '4', '4', '437045', '2071411']\n",
      "['5', '5', 'instagram.com', 'com', '375641', '1733941', 'instagram.com', 'com', '5', '5', '375337', '1733107']\n",
      "['6', '6', 'linkedin.com', 'com', '352590', '1455263', 'linkedin.com', 'com', '6', '6', '352069', '1453821']\n",
      "['7', '7', 'apple.com', 'com', '284057', '916081', 'apple.com', 'com', '7', '7', '283586', '915884']\n",
      "['8', '8', 'microsoft.com', 'com', '281262', '835502', 'microsoft.com', 'com', '8', '8', '280613', '834323']\n",
      "['9', '1', 'wikipedia.org', 'org', '271363', '970017', 'wikipedia.org', 'org', '9', '1', '271244', '969824']\n"
     ]
    }
   ],
   "source": [
    "import csv\n",
    "with open('majestic_million.csv', 'r') as csvfile:\n",
    "    csvreader = csv.reader(csvfile)\n",
    "    count = 1\n",
    "    for row in csvreader:\n",
    "        print(row)\n",
    "        if count == 10:\n",
    "            break\n",
    "        count=count+1"
   ]
  },
  {
   "cell_type": "code",
   "execution_count": null,
   "id": "c8f55cf2",
   "metadata": {},
   "outputs": [],
   "source": []
  }
 ],
 "metadata": {
  "kernelspec": {
   "display_name": "Python 3 (ipykernel)",
   "language": "python",
   "name": "python3"
  },
  "language_info": {
   "codemirror_mode": {
    "name": "ipython",
    "version": 3
   },
   "file_extension": ".py",
   "mimetype": "text/x-python",
   "name": "python",
   "nbconvert_exporter": "python",
   "pygments_lexer": "ipython3",
   "version": "3.9.7"
  }
 },
 "nbformat": 4,
 "nbformat_minor": 5
}
